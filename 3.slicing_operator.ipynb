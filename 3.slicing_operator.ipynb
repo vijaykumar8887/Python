{
 "cells": [
  {
   "cell_type": "code",
   "execution_count": 1,
   "id": "74538a1b-1ab7-482a-9092-af0bf72abd13",
   "metadata": {
    "tags": []
   },
   "outputs": [
    {
     "name": "stdout",
     "output_type": "stream",
     "text": [
      "com\n"
     ]
    }
   ],
   "source": [
    "s=\"welcome\"\n",
    "print(s[-4:-1])\n"
   ]
  },
  {
   "cell_type": "code",
   "execution_count": 2,
   "id": "b51483f4-0470-48e0-bafd-7fb7e239439e",
   "metadata": {
    "tags": []
   },
   "outputs": [
    {
     "name": "stdout",
     "output_type": "stream",
     "text": [
      "\n"
     ]
    }
   ],
   "source": [
    "print(s[-1:-4:])"
   ]
  },
  {
   "cell_type": "code",
   "execution_count": 3,
   "id": "65a65c2e-6cf1-40a9-a3ee-dcfb1c5f827f",
   "metadata": {
    "tags": []
   },
   "outputs": [
    {
     "data": {
      "text/plain": [
       "'my name is sunny'"
      ]
     },
     "execution_count": 3,
     "metadata": {},
     "output_type": "execute_result"
    }
   ],
   "source": [
    "a=\"my name is sunny\"\n",
    "a"
   ]
  },
  {
   "cell_type": "code",
   "execution_count": 4,
   "id": "58958e73-34f8-47d9-b24c-9777173f0437",
   "metadata": {
    "tags": []
   },
   "outputs": [
    {
     "data": {
      "text/plain": [
       "'my name is '"
      ]
     },
     "execution_count": 4,
     "metadata": {},
     "output_type": "execute_result"
    }
   ],
   "source": [
    "#raz\n",
    "a[0:11]\n"
   ]
  },
  {
   "cell_type": "code",
   "execution_count": 5,
   "id": "13afef6d-58c7-48fa-bf0a-d20d53df1ba4",
   "metadata": {},
   "outputs": [
    {
     "data": {
      "text/plain": [
       "'sunny'"
      ]
     },
     "execution_count": 5,
     "metadata": {},
     "output_type": "execute_result"
    }
   ],
   "source": [
    "a[11:]\n"
   ]
  },
  {
   "cell_type": "code",
   "execution_count": 6,
   "id": "c3885fcd-2911-4639-a304-0163bb546377",
   "metadata": {},
   "outputs": [
    {
     "data": {
      "text/plain": [
       "'sunny'"
      ]
     },
     "execution_count": 6,
     "metadata": {},
     "output_type": "execute_result"
    }
   ],
   "source": [
    "a[11:16]\n"
   ]
  },
  {
   "cell_type": "code",
   "execution_count": 7,
   "id": "09df715b-3d5d-4e97-be31-928c1c25bf3a",
   "metadata": {},
   "outputs": [
    {
     "data": {
      "text/plain": [
       "'sunny'"
      ]
     },
     "execution_count": 7,
     "metadata": {},
     "output_type": "execute_result"
    }
   ],
   "source": [
    "a[-5:]\n"
   ]
  },
  {
   "cell_type": "code",
   "execution_count": 8,
   "id": "3623e441-bf19-4fbd-ae81-585b6906a7d4",
   "metadata": {},
   "outputs": [
    {
     "data": {
      "text/plain": [
       "15"
      ]
     },
     "execution_count": 8,
     "metadata": {},
     "output_type": "execute_result"
    }
   ],
   "source": [
    "len(a)-1"
   ]
  },
  {
   "cell_type": "code",
   "execution_count": 9,
   "id": "dfb66485-aa6c-4d50-be68-23c630af3d1f",
   "metadata": {},
   "outputs": [
    {
     "data": {
      "text/plain": [
       "'m aei un'"
      ]
     },
     "execution_count": 9,
     "metadata": {},
     "output_type": "execute_result"
    }
   ],
   "source": [
    "a[0:16:2]"
   ]
  },
  {
   "cell_type": "code",
   "execution_count": 10,
   "id": "1b6876ce-12b7-4677-9eed-6de670956e8f",
   "metadata": {},
   "outputs": [],
   "source": [
    "word=\"sunnysavita\""
   ]
  },
  {
   "cell_type": "code",
   "execution_count": 11,
   "id": "a99457cd-179a-40b5-b635-541eef6e4fb3",
   "metadata": {},
   "outputs": [
    {
     "data": {
      "text/plain": [
       "11"
      ]
     },
     "execution_count": 11,
     "metadata": {},
     "output_type": "execute_result"
    }
   ],
   "source": [
    "len(word)"
   ]
  },
  {
   "cell_type": "code",
   "execution_count": 12,
   "id": "b94d8e31-89c1-4373-ab87-2bb239b92143",
   "metadata": {},
   "outputs": [
    {
     "data": {
      "text/plain": [
       "'sunnysavita'"
      ]
     },
     "execution_count": 12,
     "metadata": {},
     "output_type": "execute_result"
    }
   ],
   "source": [
    "word[0:11]"
   ]
  },
  {
   "cell_type": "code",
   "execution_count": 13,
   "id": "9f069b24-01d1-482a-9317-29d680a27bf6",
   "metadata": {},
   "outputs": [
    {
     "data": {
      "text/plain": [
       "'snyaia'"
      ]
     },
     "execution_count": 13,
     "metadata": {},
     "output_type": "execute_result"
    }
   ],
   "source": [
    "word[0:11:2]"
   ]
  },
  {
   "cell_type": "code",
   "execution_count": 14,
   "id": "72355e6d-c514-4dee-9bfa-642c84e66d07",
   "metadata": {},
   "outputs": [
    {
     "data": {
      "text/plain": [
       "'snat'"
      ]
     },
     "execution_count": 14,
     "metadata": {},
     "output_type": "execute_result"
    }
   ],
   "source": [
    "word[0:11:3]"
   ]
  },
  {
   "cell_type": "code",
   "execution_count": 15,
   "id": "87c85e21-ce1d-4d87-9509-c4174b5586cc",
   "metadata": {},
   "outputs": [
    {
     "data": {
      "text/plain": [
       "'sunnysavita'"
      ]
     },
     "execution_count": 15,
     "metadata": {},
     "output_type": "execute_result"
    }
   ],
   "source": [
    "word[0:11:1]"
   ]
  },
  {
   "cell_type": "code",
   "execution_count": 16,
   "id": "be3ab3fa-5f35-49ac-a276-f89ebd62ade7",
   "metadata": {},
   "outputs": [
    {
     "ename": "ValueError",
     "evalue": "slice step cannot be zero",
     "output_type": "error",
     "traceback": [
      "\u001b[1;31m---------------------------------------------------------------------------\u001b[0m",
      "\u001b[1;31mValueError\u001b[0m                                Traceback (most recent call last)",
      "Cell \u001b[1;32mIn[16], line 1\u001b[0m\n\u001b[1;32m----> 1\u001b[0m word[\u001b[38;5;241m0\u001b[39m:\u001b[38;5;241m11\u001b[39m:\u001b[38;5;241m0\u001b[39m]\n",
      "\u001b[1;31mValueError\u001b[0m: slice step cannot be zero"
     ]
    }
   ],
   "source": [
    "word[0:11:0]"
   ]
  },
  {
   "cell_type": "code",
   "execution_count": 17,
   "id": "a5de615b-4f91-427d-8a62-7181f8ac3e48",
   "metadata": {},
   "outputs": [],
   "source": [
    "word=\"sunny\""
   ]
  },
  {
   "cell_type": "code",
   "execution_count": 18,
   "id": "2c8ef3b6-06d1-47e7-b0ce-957653abdb69",
   "metadata": {},
   "outputs": [
    {
     "data": {
      "text/plain": [
       "''"
      ]
     },
     "execution_count": 18,
     "metadata": {},
     "output_type": "execute_result"
    }
   ],
   "source": [
    "word[-1:-4]"
   ]
  },
  {
   "cell_type": "code",
   "execution_count": 19,
   "id": "88f78a86-33cd-4cf6-aa84-609b0234fa23",
   "metadata": {},
   "outputs": [
    {
     "data": {
      "text/plain": [
       "'unn'"
      ]
     },
     "execution_count": 19,
     "metadata": {},
     "output_type": "execute_result"
    }
   ],
   "source": [
    "word[-4:-1]"
   ]
  },
  {
   "cell_type": "code",
   "execution_count": 20,
   "id": "d4cbdaa1-d1de-4812-a948-c2e2ef62c5b6",
   "metadata": {},
   "outputs": [
    {
     "data": {
      "text/plain": [
       "'ynn'"
      ]
     },
     "execution_count": 20,
     "metadata": {},
     "output_type": "execute_result"
    }
   ],
   "source": [
    "word[-1:-4:-1]"
   ]
  },
  {
   "cell_type": "code",
   "execution_count": 21,
   "id": "f0a2e913-1c7a-4fda-add6-895102659cde",
   "metadata": {},
   "outputs": [],
   "source": [
    "a=\"sunny\""
   ]
  },
  {
   "cell_type": "code",
   "execution_count": 22,
   "id": "4618bbc4-ac76-46fc-9c96-76580112595b",
   "metadata": {},
   "outputs": [
    {
     "data": {
      "text/plain": [
       "'ynnus'"
      ]
     },
     "execution_count": 22,
     "metadata": {},
     "output_type": "execute_result"
    }
   ],
   "source": [
    "a[::-1]"
   ]
  },
  {
   "cell_type": "code",
   "execution_count": 23,
   "id": "ac9a652b-1bc4-4082-b819-9602616e2997",
   "metadata": {},
   "outputs": [],
   "source": [
    "a=\"we are here for learning data science\""
   ]
  },
  {
   "cell_type": "code",
   "execution_count": 24,
   "id": "5652f0e6-28ce-48af-ae7d-2307b67592b5",
   "metadata": {},
   "outputs": [
    {
     "data": {
      "text/plain": [
       "37"
      ]
     },
     "execution_count": 24,
     "metadata": {},
     "output_type": "execute_result"
    }
   ],
   "source": [
    "len(a)"
   ]
  },
  {
   "cell_type": "code",
   "execution_count": 25,
   "id": "790cbb8c-3e2c-46f7-8d58-da5b1e9c8b2e",
   "metadata": {},
   "outputs": [
    {
     "ename": "SyntaxError",
     "evalue": "invalid syntax (4196721919.py, line 1)",
     "output_type": "error",
     "traceback": [
      "\u001b[1;36m  Cell \u001b[1;32mIn[25], line 1\u001b[1;36m\u001b[0m\n\u001b[1;33m    learning data science##reverse\u001b[0m\n\u001b[1;37m             ^\u001b[0m\n\u001b[1;31mSyntaxError\u001b[0m\u001b[1;31m:\u001b[0m invalid syntax\n"
     ]
    }
   ],
   "source": [
    "learning data science##reverse"
   ]
  },
  {
   "cell_type": "code",
   "execution_count": 26,
   "id": "f2186818-cd25-4964-8118-b54365bb0193",
   "metadata": {},
   "outputs": [
    {
     "data": {
      "text/plain": [
       "'ecneics atad gninrael rof ereh era ew'"
      ]
     },
     "execution_count": 26,
     "metadata": {},
     "output_type": "execute_result"
    }
   ],
   "source": [
    "a[::-1]\n"
   ]
  },
  {
   "cell_type": "code",
   "execution_count": null,
   "id": "5ec027b7-0dee-4ce0-a828-42f1e7b942cc",
   "metadata": {},
   "outputs": [],
   "source": [
    "a[16::-1]\n"
   ]
  },
  {
   "cell_type": "code",
   "execution_count": 27,
   "id": "254c0607-8033-4cc0-998c-4f4777c74c15",
   "metadata": {},
   "outputs": [
    {
     "data": {
      "text/plain": [
       "'ecneics atad gn'"
      ]
     },
     "execution_count": 27,
     "metadata": {},
     "output_type": "execute_result"
    }
   ],
   "source": [
    "a[-1:21:-1]\n"
   ]
  },
  {
   "cell_type": "code",
   "execution_count": 28,
   "id": "bfff84b4-2aa7-47e6-8685-41631e7fda96",
   "metadata": {},
   "outputs": [
    {
     "data": {
      "text/plain": [
       "' learning data scienc'"
      ]
     },
     "execution_count": 28,
     "metadata": {},
     "output_type": "execute_result"
    }
   ],
   "source": [
    "a[-22:-1:1]\n"
   ]
  },
  {
   "cell_type": "code",
   "execution_count": 29,
   "id": "aa408092-f5e7-44ba-8027-cf789771acae",
   "metadata": {},
   "outputs": [
    {
     "data": {
      "text/plain": [
       "''"
      ]
     },
     "execution_count": 29,
     "metadata": {},
     "output_type": "execute_result"
    }
   ],
   "source": [
    "a[37:15:1]\n"
   ]
  },
  {
   "cell_type": "code",
   "execution_count": null,
   "id": "813a0064-506f-4380-8946-1623faf44984",
   "metadata": {},
   "outputs": [],
   "source": [
    "x = 5\n",
    "y = 3"
   ]
  },
  {
   "cell_type": "code",
   "execution_count": null,
   "id": "d7983a1c-def8-4d35-89e8-cf1c7b919fec",
   "metadata": {},
   "outputs": [],
   "source": [
    "print(x + y)\n",
    "print(x - y)\n",
    "print(x * y)\n",
    "print(x/y)"
   ]
  },
  {
   "cell_type": "code",
   "execution_count": null,
   "id": "70a7f6b1-102f-44fc-97ea-d273c064df41",
   "metadata": {},
   "outputs": [],
   "source": [
    "print(x%y)#It's used to get the remainder of a division problem"
   ]
  },
  {
   "cell_type": "code",
   "execution_count": null,
   "id": "a0faf8b6-3151-45fc-a3ff-8bb0704cb932",
   "metadata": {},
   "outputs": [],
   "source": [
    "print(x**y)"
   ]
  },
  {
   "cell_type": "code",
   "execution_count": null,
   "id": "c484c8af-0d8a-45b2-906c-f6ecf3326a83",
   "metadata": {},
   "outputs": [],
   "source": [
    "print(x//y)#the floor division // rounds the result down to the nearest whole number\n"
   ]
  },
  {
   "cell_type": "code",
   "execution_count": null,
   "id": "638249e0-7156-46cc-a7cb-18b093b15b22",
   "metadata": {},
   "outputs": [],
   "source": [
    "x = 14\n",
    "y = 3"
   ]
  },
  {
   "cell_type": "code",
   "execution_count": null,
   "id": "1b08c279-ccc4-42ef-836e-6172dc8543a2",
   "metadata": {},
   "outputs": [],
   "source": [
    "print(x//y)"
   ]
  },
  {
   "cell_type": "code",
   "execution_count": null,
   "id": "a2601b13-d6fb-4f62-9512-b33bb8c418b7",
   "metadata": {},
   "outputs": [],
   "source": [
    "a=10\n",
    "b=4\n",
    "\n"
   ]
  },
  {
   "cell_type": "code",
   "execution_count": null,
   "id": "268d73c3-e0df-492d-96a7-c3f8316b97f3",
   "metadata": {},
   "outputs": [],
   "source": [
    "print(\"a=\",a,\"b=\",b)"
   ]
  },
  {
   "cell_type": "code",
   "execution_count": null,
   "id": "94c77d89-7dc0-4325-a687-0d8eaf1d9966",
   "metadata": {},
   "outputs": [],
   "source": [
    "print(\"a > b\",a>b)"
   ]
  },
  {
   "cell_type": "code",
   "execution_count": null,
   "id": "df9e9f5c-1541-4654-9262-43c4fcadc43f",
   "metadata": {},
   "outputs": [],
   "source": [
    "print(\"a < b\",a<b)"
   ]
  },
  {
   "cell_type": "code",
   "execution_count": null,
   "id": "27030b9f-1725-40d1-93e6-45fc86f5e9cd",
   "metadata": {},
   "outputs": [],
   "source": [
    "print(\"a==b\",a==b)"
   ]
  },
  {
   "cell_type": "code",
   "execution_count": null,
   "id": "009eafe1-8e7e-4c0c-93b4-8b140ac0517d",
   "metadata": {},
   "outputs": [],
   "source": [
    "print(\"a!=b\",a!=b)"
   ]
  },
  {
   "cell_type": "code",
   "execution_count": null,
   "id": "354d9682-eded-42a5-84fc-d076e2cf47fd",
   "metadata": {},
   "outputs": [],
   "source": [
    "\n",
    "print(\"a>=b\",a>=b)"
   ]
  },
  {
   "cell_type": "code",
   "execution_count": null,
   "id": "f09fb8a9-1b71-43ff-8b21-eb8fa4a3a693",
   "metadata": {},
   "outputs": [],
   "source": [
    "print(\"a<=b\",a<=b)"
   ]
  },
  {
   "cell_type": "code",
   "execution_count": null,
   "id": "6bac27d5-aa31-40fb-b9ad-eb76b3b2d1e3",
   "metadata": {},
   "outputs": [],
   "source": [
    "a=\"s\""
   ]
  },
  {
   "cell_type": "code",
   "execution_count": null,
   "id": "561a16eb-8b17-42d5-94c3-a5ae1e20bdf2",
   "metadata": {},
   "outputs": [],
   "source": [
    "ord(a)"
   ]
  },
  {
   "cell_type": "code",
   "execution_count": null,
   "id": "4c39c388-933b-444b-890f-6532a3defc30",
   "metadata": {},
   "outputs": [],
   "source": [
    "ord(\"S\")"
   ]
  },
  {
   "cell_type": "code",
   "execution_count": null,
   "id": "fa5ed961-c1e4-4a94-9f68-915105c0fa82",
   "metadata": {},
   "outputs": [],
   "source": [
    "ord(\"a\")"
   ]
  },
  {
   "cell_type": "code",
   "execution_count": null,
   "id": "05f5e62c-8139-4508-b6de-4a9000e2f7ec",
   "metadata": {},
   "outputs": [],
   "source": [
    "6>5"
   ]
  },
  {
   "cell_type": "code",
   "execution_count": null,
   "id": "f6357aee-f07e-422b-9843-37c16a6f7b7e",
   "metadata": {},
   "outputs": [],
   "source": [
    "-1>True"
   ]
  },
  {
   "cell_type": "code",
   "execution_count": null,
   "id": "d8eaf0a1-25d8-4858-9b76-f248c4c58777",
   "metadata": {},
   "outputs": [],
   "source": [
    "print(-1>6>5)\n"
   ]
  },
  {
   "cell_type": "code",
   "execution_count": null,
   "id": "9e6601c3-c825-4603-8666-8b8aef24fdb7",
   "metadata": {},
   "outputs": [],
   "source": [
    "True and False"
   ]
  },
  {
   "cell_type": "code",
   "execution_count": null,
   "id": "b85921f3-7c1c-4aa2-baa2-e3097a83e44e",
   "metadata": {},
   "outputs": [],
   "source": [
    "True and True"
   ]
  },
  {
   "cell_type": "code",
   "execution_count": null,
   "id": "f7ff863d-b8c0-4eaa-8dfc-b98c8ae1c7c1",
   "metadata": {},
   "outputs": [],
   "source": [
    "x=y=z=10"
   ]
  },
  {
   "cell_type": "code",
   "execution_count": null,
   "id": "8fb2e2a0-1307-4baf-94ba-c6cc5a872247",
   "metadata": {},
   "outputs": [],
   "source": [
    "z"
   ]
  },
  {
   "cell_type": "code",
   "execution_count": null,
   "id": "413c11a8-7119-4086-83b1-cce83eb33781",
   "metadata": {},
   "outputs": [],
   "source": [
    "x"
   ]
  },
  {
   "cell_type": "code",
   "execution_count": null,
   "id": "a1a5f3a0-bcb5-43a7-98db-527f16f7d7a2",
   "metadata": {},
   "outputs": [],
   "source": [
    "y"
   ]
  },
  {
   "cell_type": "code",
   "execution_count": null,
   "id": "f05d39ac-2a41-45c1-bca0-5bf8a4d93538",
   "metadata": {},
   "outputs": [],
   "source": [
    "x,y,z=10,20,30"
   ]
  },
  {
   "cell_type": "code",
   "execution_count": null,
   "id": "70c4aed0-240e-4e5c-9333-d7d7e2764145",
   "metadata": {},
   "outputs": [],
   "source": [
    "x"
   ]
  },
  {
   "cell_type": "code",
   "execution_count": null,
   "id": "9fa5bb67-f6df-465a-acf7-9c2663a6376a",
   "metadata": {},
   "outputs": [],
   "source": [
    "y"
   ]
  },
  {
   "cell_type": "code",
   "execution_count": null,
   "id": "41824667-2cf1-4e3d-af14-e09c01994fce",
   "metadata": {},
   "outputs": [],
   "source": [
    "z"
   ]
  },
  {
   "cell_type": "code",
   "execution_count": null,
   "id": "27dc2367-70dd-4730-8345-13d11084e8df",
   "metadata": {},
   "outputs": [],
   "source": [
    "X=50"
   ]
  },
  {
   "cell_type": "code",
   "execution_count": null,
   "id": "423b037d-2498-44df-a1ca-c460f6e8dae9",
   "metadata": {},
   "outputs": [],
   "source": [
    "X+10"
   ]
  },
  {
   "cell_type": "code",
   "execution_count": null,
   "id": "6d40a152-1b65-488d-b8c2-f883fbcf4adc",
   "metadata": {},
   "outputs": [],
   "source": [
    "X+X"
   ]
  },
  {
   "cell_type": "code",
   "execution_count": null,
   "id": "23277dd1-297c-426d-a5b2-6e1b48f183d3",
   "metadata": {},
   "outputs": [],
   "source": [
    "X=X+1"
   ]
  },
  {
   "cell_type": "code",
   "execution_count": null,
   "id": "df2e452a-2da7-4f71-9d7b-c47c884b98d3",
   "metadata": {},
   "outputs": [],
   "source": [
    "X"
   ]
  },
  {
   "cell_type": "code",
   "execution_count": null,
   "id": "45050090-d6c6-4d29-8551-070a79650a28",
   "metadata": {},
   "outputs": [],
   "source": [
    "X+=1# X=X+1"
   ]
  },
  {
   "cell_type": "code",
   "execution_count": null,
   "id": "7f16473a-4b24-4bed-8f05-54d22fd584c7",
   "metadata": {},
   "outputs": [],
   "source": [
    "X"
   ]
  },
  {
   "cell_type": "code",
   "execution_count": null,
   "id": "66b1bff5-48cf-4eb5-a588-12588f6848f3",
   "metadata": {},
   "outputs": [],
   "source": [
    "X=X^5"
   ]
  },
  {
   "cell_type": "code",
   "execution_count": null,
   "id": "3a53d93a-3412-4c43-880f-fd85d370b6f8",
   "metadata": {},
   "outputs": [],
   "source": [
    "X"
   ]
  },
  {
   "cell_type": "code",
   "execution_count": null,
   "id": "136fe267-0669-4475-92c3-00e26d2495ff",
   "metadata": {},
   "outputs": [],
   "source": [
    "X=10"
   ]
  },
  {
   "cell_type": "code",
   "execution_count": null,
   "id": "b8a66a25-97db-44bc-b359-a40f1181af8b",
   "metadata": {},
   "outputs": [],
   "source": [
    "X=X**5"
   ]
  },
  {
   "cell_type": "code",
   "execution_count": null,
   "id": "2c11a834-f0b6-4dfb-9f21-6f8471a220da",
   "metadata": {},
   "outputs": [],
   "source": [
    "X"
   ]
  },
  {
   "cell_type": "code",
   "execution_count": null,
   "id": "aa365804-6975-47fc-be19-0da1e66527dd",
   "metadata": {},
   "outputs": [],
   "source": [
    "a=10"
   ]
  },
  {
   "cell_type": "code",
   "execution_count": null,
   "id": "af92fa5b-6f3b-4519-ab13-36f1749590e5",
   "metadata": {},
   "outputs": [],
   "source": [
    "id(a)"
   ]
  },
  {
   "cell_type": "code",
   "execution_count": null,
   "id": "5386dedd-afc3-4e77-acc9-f5403fd70592",
   "metadata": {},
   "outputs": [],
   "source": [
    "b=20"
   ]
  },
  {
   "cell_type": "code",
   "execution_count": null,
   "id": "285881e9-defe-40df-bd1c-439ba40326ad",
   "metadata": {},
   "outputs": [],
   "source": [
    "id(b)"
   ]
  },
  {
   "cell_type": "code",
   "execution_count": null,
   "id": "b69aa674-8201-4afd-8a27-5d4eab87e830",
   "metadata": {},
   "outputs": [],
   "source": [
    "a is b"
   ]
  },
  {
   "cell_type": "code",
   "execution_count": null,
   "id": "04179b83-fa4e-4bd4-a263-51de7343e9f3",
   "metadata": {},
   "outputs": [],
   "source": [
    "a is not b"
   ]
  },
  {
   "cell_type": "code",
   "execution_count": null,
   "id": "c87570c0-6043-4df6-9a3a-b4cf1a98a4da",
   "metadata": {},
   "outputs": [],
   "source": [
    "X=5"
   ]
  },
  {
   "cell_type": "code",
   "execution_count": null,
   "id": "f7a4a3b4-b1fb-4135-84d6-cba1bd99334a",
   "metadata": {},
   "outputs": [],
   "source": [
    "Y=5"
   ]
  },
  {
   "cell_type": "code",
   "execution_count": null,
   "id": "0cd9a83f-983c-4043-a8b7-0b70a19f1a04",
   "metadata": {},
   "outputs": [],
   "source": [
    "X is Y"
   ]
  },
  {
   "cell_type": "code",
   "execution_count": null,
   "id": "9447a31d-1508-4d32-b67e-56adb34df855",
   "metadata": {},
   "outputs": [],
   "source": [
    "id(X)"
   ]
  },
  {
   "cell_type": "code",
   "execution_count": null,
   "id": "73aa8519-a446-451e-9610-142857bbe75a",
   "metadata": {},
   "outputs": [],
   "source": [
    "id(Y)"
   ]
  },
  {
   "cell_type": "code",
   "execution_count": null,
   "id": "2c268c13-75c1-4282-bc98-a13c2774f098",
   "metadata": {},
   "outputs": [],
   "source": [
    "X=5.9"
   ]
  },
  {
   "cell_type": "code",
   "execution_count": null,
   "id": "7b38d427-615a-48e6-8f7f-eefab8b39a6e",
   "metadata": {},
   "outputs": [],
   "source": [
    "id(X)"
   ]
  },
  {
   "cell_type": "code",
   "execution_count": null,
   "id": "74eb46cc-e344-4f44-a43d-db1762109d5e",
   "metadata": {},
   "outputs": [],
   "source": [
    "Y=5.9"
   ]
  },
  {
   "cell_type": "code",
   "execution_count": null,
   "id": "d47be36f-af82-4c2c-aa5b-0a34239e97b0",
   "metadata": {},
   "outputs": [],
   "source": [
    "id(Y)"
   ]
  },
  {
   "cell_type": "code",
   "execution_count": null,
   "id": "ec94766b-4df1-4882-93f7-7608d5203430",
   "metadata": {},
   "outputs": [],
   "source": [
    "X is Y"
   ]
  },
  {
   "cell_type": "code",
   "execution_count": null,
   "id": "ae8f016f-1305-4455-8293-70857da637b9",
   "metadata": {},
   "outputs": [],
   "source": [
    "a=\"sunny\""
   ]
  },
  {
   "cell_type": "code",
   "execution_count": null,
   "id": "e1c91091-9794-48a4-baa9-000ae6cbdd96",
   "metadata": {},
   "outputs": [],
   "source": [
    "\"s\" in \"sunny\""
   ]
  },
  {
   "cell_type": "code",
   "execution_count": null,
   "id": "9144832a-d723-4315-a08c-9ff369c5919b",
   "metadata": {},
   "outputs": [],
   "source": [
    "\"s\" not in \"sunny\""
   ]
  },
  {
   "cell_type": "code",
   "execution_count": null,
   "id": "92c6baaf-4807-4cc3-b1f1-a4b2347bc679",
   "metadata": {},
   "outputs": [],
   "source": [
    "\"Y\" not in \"sunny\""
   ]
  },
  {
   "cell_type": "code",
   "execution_count": null,
   "id": "15f3f947-4ef4-43c0-97f1-5971ed3a87db",
   "metadata": {},
   "outputs": [],
   "source": [
    "a = str(input(\"enter name: \"))\n",
    "b = int(input(\"enter age: \"))\n",
    "c = (2022-b)+ 100\n",
    "print(\"name is :\", a,\"and year :\", c)\n"
   ]
  },
  {
   "cell_type": "code",
   "execution_count": null,
   "id": "59a7a4f8-1ad2-4476-9ec1-d6a59e98907b",
   "metadata": {},
   "outputs": [],
   "source": [
    "name = input(\"Enter your name\")\n",
    "age = int(input(\"Enter your age\"))\n",
    "numberOfYearNeed = 100 - age\n",
    "currentYear = 2022\n",
    "YearNeeded = currentYear + numberOfYearNeed\n",
    "\n",
    "print(name, YearNeeded)\n"
   ]
  },
  {
   "cell_type": "code",
   "execution_count": null,
   "id": "79ece495-f9c8-43c1-98b5-003536c3cb7b",
   "metadata": {},
   "outputs": [],
   "source": [
    "name=input(\"Enter your name\")\n",
    "age=int(input(\"Enter your age\"))\n",
    "Birthyear=int(2022-age)\n",
    "thyear=Birthyear+100\n",
    "print(name)\n",
    "print(thyear)\n"
   ]
  },
  {
   "cell_type": "markdown",
   "id": "7bf5d583-83ae-47bf-819d-935671456db8",
   "metadata": {},
   "source": [
    "# Write a Python program which accepts the user's first and last name and print them in reverse order with a space between them.\n"
   ]
  },
  {
   "cell_type": "code",
   "execution_count": null,
   "id": "3fb0ebee-9ed7-4d8c-88ae-4a9834a368be",
   "metadata": {},
   "outputs": [],
   "source": [
    "input->sunny savita\n",
    "output-> ativas ynnus"
   ]
  },
  {
   "cell_type": "code",
   "execution_count": null,
   "id": "12c303f3-1d2a-4b6a-9bd7-fcf57192aa13",
   "metadata": {},
   "outputs": [],
   "source": [
    "fname = input(\"Input your First Name : \") \n",
    "lname = input(\"Input your Last Name : \") \n",
    "print (\"Hello \" + lname + \" \" + fname)\n"
   ]
  },
  {
   "cell_type": "code",
   "execution_count": null,
   "id": "e6ffb9cd-f0e8-40a6-911c-4438d9f9a2cf",
   "metadata": {},
   "outputs": [],
   "source": [
    "first_name = input(\"enter the first name: \")\n",
    "last_name = input(\"enter the last name :\")\n",
    "\n",
    "rev1 = first_name[::-1]\n",
    "rev2 = last_name[::-1]\n",
    "\n",
    "print(f\"{rev2} {rev1}\")\n"
   ]
  },
  {
   "cell_type": "code",
   "execution_count": null,
   "id": "937373e9-d14b-46b5-945a-212bb9b082df",
   "metadata": {},
   "outputs": [],
   "source": [
    "a=input('Enter First Name')\n",
    "b=input('Enter Last Name')\n",
    "c=a+' '+b\n",
    "c[::-1]\n"
   ]
  },
  {
   "cell_type": "code",
   "execution_count": null,
   "id": "b3a65222-e8c9-4a73-aa87-295b49b095a4",
   "metadata": {},
   "outputs": [],
   "source": [
    "a = input(\"enter first name\")\n",
    "b = input(\"enter last name\")\n",
    "print(b[::-1]+\" \"+a[::-1])\n"
   ]
  },
  {
   "cell_type": "code",
   "execution_count": null,
   "id": "b7919e90-dde3-4786-8a40-e2f416b930fb",
   "metadata": {},
   "outputs": [],
   "source": []
  },
  {
   "cell_type": "code",
   "execution_count": null,
   "id": "2d6e6dcd-b9bc-47e8-b510-7b8f5ec5d9a9",
   "metadata": {},
   "outputs": [],
   "source": [
    "\n",
    "fname= input(\"enter fname:-\")\n",
    "lname= input(\"Enter lname:-\")\n",
    "\n",
    "rev_fname= fname.reverse\n",
    "rev_lname=lname.reverse\n",
    "\n",
    "fullname= rev_fname +' '+ rev_lname\n",
    "print(fullname)\n"
   ]
  },
  {
   "cell_type": "code",
   "execution_count": null,
   "id": "e288571f-a455-47bc-88e4-8b17a6bbb7d9",
   "metadata": {},
   "outputs": [],
   "source": [
    "fname= input(\"enter fname:-\")\n",
    "lname= input(\"Enter lname:-\")\n",
    "\n",
    "rev_fname= reverse(fname)\n",
    "rev_lname=reverse(lname)\n",
    "\n",
    "fullname= rev_fname +' '+ rev_lname\n",
    "print(fullname)\n"
   ]
  },
  {
   "cell_type": "code",
   "execution_count": null,
   "id": "4e5f9785-faff-403e-93c1-2036e40a9940",
   "metadata": {},
   "outputs": [],
   "source": [
    "a=\"sunny\""
   ]
  },
  {
   "cell_type": "code",
   "execution_count": null,
   "id": "36fc1cfb-14c5-4491-9937-bd3ad64fba61",
   "metadata": {},
   "outputs": [],
   "source": [
    "\"\".join(list(reversed(a)))"
   ]
  },
  {
   "cell_type": "code",
   "execution_count": null,
   "id": "b160c517-3aab-4e79-b58e-387d84e9d664",
   "metadata": {},
   "outputs": [],
   "source": [
    "my age=25\n",
    "current_year=2022"
   ]
  },
  {
   "cell_type": "code",
   "execution_count": null,
   "id": "f7010850-0366-4dda-8001-48b2c62eee59",
   "metadata": {},
   "outputs": [],
   "source": [
    "birth_year=2022-25"
   ]
  },
  {
   "cell_type": "code",
   "execution_count": null,
   "id": "215e9f6f-4aa5-4f27-82c9-1b493538b9c5",
   "metadata": {},
   "outputs": [],
   "source": [
    "birth_year"
   ]
  },
  {
   "cell_type": "code",
   "execution_count": null,
   "id": "876c5620-5233-4951-8946-c96fd242aa87",
   "metadata": {},
   "outputs": [],
   "source": [
    "year=birth_year+100"
   ]
  },
  {
   "cell_type": "code",
   "execution_count": null,
   "id": "ee058b83-787f-4519-8308-7a41b6b74fba",
   "metadata": {},
   "outputs": [],
   "source": [
    "year"
   ]
  },
  {
   "cell_type": "code",
   "execution_count": null,
   "id": "4dc0806c-8b59-4c7b-ad81-d7a30bb8efba",
   "metadata": {},
   "outputs": [],
   "source": [
    "word=\"sunny\""
   ]
  },
  {
   "cell_type": "code",
   "execution_count": null,
   "id": "18e01da0-db9f-4a11-ac41-1464339a5b23",
   "metadata": {},
   "outputs": [],
   "source": [
    "\"ynnus\""
   ]
  },
  {
   "cell_type": "code",
   "execution_count": null,
   "id": "8b90ccd7-f57b-4699-a341-bded0cbefd89",
   "metadata": {},
   "outputs": [],
   "source": [
    "word[::-1]"
   ]
  },
  {
   "cell_type": "code",
   "execution_count": null,
   "id": "14510e2b-ae30-41af-8380-e76841a81c3e",
   "metadata": {},
   "outputs": [],
   "source": [
    "a=str(input(\"enter your first name\"))\n",
    "b=str(input(\"enter your last name\"))\n",
    "print( b[-1::-1] ,a[-1::-1])\n"
   ]
  },
  {
   "cell_type": "code",
   "execution_count": null,
   "id": "53fb5479-145a-456e-85de-fa12dfc0dfb0",
   "metadata": {},
   "outputs": [],
   "source": []
  }
 ],
 "metadata": {
  "kernelspec": {
   "display_name": "Python 3 (ipykernel)",
   "language": "python",
   "name": "python3"
  },
  "language_info": {
   "codemirror_mode": {
    "name": "ipython",
    "version": 3
   },
   "file_extension": ".py",
   "mimetype": "text/x-python",
   "name": "python",
   "nbconvert_exporter": "python",
   "pygments_lexer": "ipython3",
   "version": "3.11.5"
  }
 },
 "nbformat": 4,
 "nbformat_minor": 5
}
