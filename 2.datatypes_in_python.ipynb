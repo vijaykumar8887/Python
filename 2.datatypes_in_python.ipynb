{
 "cells": [
  {
   "cell_type": "code",
   "execution_count": 1,
   "id": "638adea5-2113-4ae3-9da5-9ac1fb40c368",
   "metadata": {},
   "outputs": [],
   "source": [
    "a=10\n"
   ]
  },
  {
   "cell_type": "code",
   "execution_count": 2,
   "id": "da869171-4a80-4373-834f-02ada9659e25",
   "metadata": {},
   "outputs": [
    {
     "data": {
      "text/plain": [
       "int"
      ]
     },
     "execution_count": 2,
     "metadata": {},
     "output_type": "execute_result"
    }
   ],
   "source": [
    "type(a)"
   ]
  },
  {
   "cell_type": "code",
   "execution_count": 3,
   "id": "4c3d7a07-1ead-4175-8f22-50c2e2e6b2a9",
   "metadata": {},
   "outputs": [],
   "source": [
    "b=10.45"
   ]
  },
  {
   "cell_type": "code",
   "execution_count": 4,
   "id": "bcc2501d-56b8-4c56-811e-17bc170b2330",
   "metadata": {},
   "outputs": [
    {
     "data": {
      "text/plain": [
       "float"
      ]
     },
     "execution_count": 4,
     "metadata": {},
     "output_type": "execute_result"
    }
   ],
   "source": [
    "type(b)"
   ]
  },
  {
   "cell_type": "code",
   "execution_count": 5,
   "id": "85a009f8-f49c-40e4-b5dd-b052d571640a",
   "metadata": {},
   "outputs": [],
   "source": [
    "c=\"sunny\""
   ]
  },
  {
   "cell_type": "code",
   "execution_count": 6,
   "id": "756f4981-d33e-425f-a783-3dc91bbb2e4e",
   "metadata": {},
   "outputs": [
    {
     "data": {
      "text/plain": [
       "'s'"
      ]
     },
     "execution_count": 6,
     "metadata": {},
     "output_type": "execute_result"
    }
   ],
   "source": [
    "c[0]"
   ]
  },
  {
   "cell_type": "code",
   "execution_count": 7,
   "id": "0e2b8783-0505-484a-98b2-193cbe581f75",
   "metadata": {},
   "outputs": [
    {
     "data": {
      "text/plain": [
       "str"
      ]
     },
     "execution_count": 7,
     "metadata": {},
     "output_type": "execute_result"
    }
   ],
   "source": [
    "type(c)"
   ]
  },
  {
   "cell_type": "code",
   "execution_count": 8,
   "id": "fd8582f8-19de-4897-b81f-5ac4edd85568",
   "metadata": {},
   "outputs": [],
   "source": [
    "d=\"A\""
   ]
  },
  {
   "cell_type": "code",
   "execution_count": 9,
   "id": "cd3dd0d9-71a5-4152-a8b3-201937a5c901",
   "metadata": {},
   "outputs": [
    {
     "data": {
      "text/plain": [
       "str"
      ]
     },
     "execution_count": 9,
     "metadata": {},
     "output_type": "execute_result"
    }
   ],
   "source": [
    "type(d)"
   ]
  },
  {
   "cell_type": "code",
   "execution_count": 10,
   "id": "8bf0f1e2-b8bb-44bd-9ee9-567b891f4c05",
   "metadata": {},
   "outputs": [],
   "source": [
    "a=1434235436547657884563456765765876565"
   ]
  },
  {
   "cell_type": "code",
   "execution_count": 11,
   "id": "1e0d162c-e390-4314-b2e9-99bb9d971da4",
   "metadata": {},
   "outputs": [
    {
     "data": {
      "text/plain": [
       "int"
      ]
     },
     "execution_count": 11,
     "metadata": {},
     "output_type": "execute_result"
    }
   ],
   "source": [
    "type(a)"
   ]
  },
  {
   "cell_type": "code",
   "execution_count": 12,
   "id": "5f4f64a0-8173-4a15-9bcc-80c843b6df59",
   "metadata": {},
   "outputs": [],
   "source": [
    "a=2343"
   ]
  },
  {
   "cell_type": "code",
   "execution_count": 13,
   "id": "0597ec6b-4cdc-45fe-bae3-37d6bd6f0575",
   "metadata": {},
   "outputs": [
    {
     "data": {
      "text/plain": [
       "int"
      ]
     },
     "execution_count": 13,
     "metadata": {},
     "output_type": "execute_result"
    }
   ],
   "source": [
    "type(a)"
   ]
  },
  {
   "cell_type": "code",
   "execution_count": 14,
   "id": "3cbe9e66-1afd-465f-92dd-3fac6afad491",
   "metadata": {},
   "outputs": [],
   "source": [
    "a=243.24397"
   ]
  },
  {
   "cell_type": "code",
   "execution_count": 15,
   "id": "12159e0a-81d9-40f8-bcd0-11a65c43ec44",
   "metadata": {},
   "outputs": [
    {
     "data": {
      "text/plain": [
       "float"
      ]
     },
     "execution_count": 15,
     "metadata": {},
     "output_type": "execute_result"
    }
   ],
   "source": [
    "type(a)"
   ]
  },
  {
   "cell_type": "code",
   "execution_count": 16,
   "id": "8541d713-48f8-4e8b-af87-70a308ec03ec",
   "metadata": {},
   "outputs": [],
   "source": [
    "a=\"sunny\""
   ]
  },
  {
   "cell_type": "code",
   "execution_count": 17,
   "id": "43fc29fb-3d20-4fee-a106-c669f5148091",
   "metadata": {},
   "outputs": [
    {
     "data": {
      "text/plain": [
       "str"
      ]
     },
     "execution_count": 17,
     "metadata": {},
     "output_type": "execute_result"
    }
   ],
   "source": [
    "type(a)"
   ]
  },
  {
   "cell_type": "code",
   "execution_count": 18,
   "id": "5937d63f-3ca6-4ee7-bc72-300396016549",
   "metadata": {},
   "outputs": [],
   "source": [
    "a=2"
   ]
  },
  {
   "cell_type": "code",
   "execution_count": 20,
   "id": "d434428e-12f4-4034-b98d-10d59f932796",
   "metadata": {},
   "outputs": [
    {
     "data": {
      "text/plain": [
       "28"
      ]
     },
     "execution_count": 20,
     "metadata": {},
     "output_type": "execute_result"
    }
   ],
   "source": [
    "import sys\n",
    "sys.getsizeof(a)"
   ]
  },
  {
   "cell_type": "code",
   "execution_count": 21,
   "id": "ff5676e1-4113-4569-b405-73f80e5848b7",
   "metadata": {},
   "outputs": [],
   "source": [
    "a=200"
   ]
  },
  {
   "cell_type": "code",
   "execution_count": 22,
   "id": "10e10496-05df-4341-9f20-ac2245b59a55",
   "metadata": {},
   "outputs": [
    {
     "data": {
      "text/plain": [
       "28"
      ]
     },
     "execution_count": 22,
     "metadata": {},
     "output_type": "execute_result"
    }
   ],
   "source": [
    "import sys\n",
    "sys.getsizeof(a)"
   ]
  },
  {
   "cell_type": "code",
   "execution_count": 19,
   "id": "57593c6c-c7e9-4548-ba0c-72f89c4a23e7",
   "metadata": {},
   "outputs": [],
   "source": [
    "a=200000"
   ]
  },
  {
   "cell_type": "code",
   "execution_count": 20,
   "id": "d83f8235-6e54-4f8c-ade2-9e951c794e18",
   "metadata": {},
   "outputs": [
    {
     "data": {
      "text/plain": [
       "28"
      ]
     },
     "execution_count": 20,
     "metadata": {},
     "output_type": "execute_result"
    }
   ],
   "source": [
    "import sys\n",
    "sys.getsizeof(a)"
   ]
  },
  {
   "cell_type": "code",
   "execution_count": 21,
   "id": "29eb87a8-857f-42b9-99f7-a9acfdd12b9f",
   "metadata": {},
   "outputs": [],
   "source": [
    "a=2000000000"
   ]
  },
  {
   "cell_type": "code",
   "execution_count": 23,
   "id": "eeecd499-51a9-406a-925c-57efa16515e8",
   "metadata": {},
   "outputs": [
    {
     "data": {
      "text/plain": [
       "32"
      ]
     },
     "execution_count": 23,
     "metadata": {},
     "output_type": "execute_result"
    }
   ],
   "source": [
    "import sys\n",
    "sys.getsizeof(a)"
   ]
  },
  {
   "cell_type": "code",
   "execution_count": 24,
   "id": "01b8e4dc-602e-4b78-9e03-9bc87e61f792",
   "metadata": {},
   "outputs": [],
   "source": [
    "a=239459452578457973459749574758458"
   ]
  },
  {
   "cell_type": "code",
   "execution_count": 25,
   "id": "b0e44272-de8b-4f0f-8776-071565121c34",
   "metadata": {},
   "outputs": [
    {
     "data": {
      "text/plain": [
       "40"
      ]
     },
     "execution_count": 25,
     "metadata": {},
     "output_type": "execute_result"
    }
   ],
   "source": [
    "import sys\n",
    "sys.getsizeof(a)"
   ]
  },
  {
   "cell_type": "code",
   "execution_count": 26,
   "id": "f50b82a6-f679-4430-8968-49ab4ac29a47",
   "metadata": {},
   "outputs": [],
   "source": [
    "a=23423859485694354359439657346579437569437675467954769547695479675465486795476954769547695476954769547695749375643767546754769"
   ]
  },
  {
   "cell_type": "code",
   "execution_count": 27,
   "id": "9c6b1b6f-6491-484f-b33a-1bde8016a471",
   "metadata": {},
   "outputs": [
    {
     "data": {
      "text/plain": [
       "int"
      ]
     },
     "execution_count": 27,
     "metadata": {},
     "output_type": "execute_result"
    }
   ],
   "source": [
    "type(a)"
   ]
  },
  {
   "cell_type": "code",
   "execution_count": 28,
   "id": "22760c05-d69d-45c3-abce-69bb43634a1f",
   "metadata": {},
   "outputs": [
    {
     "data": {
      "text/plain": [
       "80"
      ]
     },
     "execution_count": 28,
     "metadata": {},
     "output_type": "execute_result"
    }
   ],
   "source": [
    "import sys\n",
    "sys.getsizeof(a)"
   ]
  },
  {
   "cell_type": "code",
   "execution_count": 30,
   "id": "da337949-7dda-4d6a-8d07-308536e78aaf",
   "metadata": {},
   "outputs": [
    {
     "data": {
      "text/plain": [
       "False"
      ]
     },
     "execution_count": 30,
     "metadata": {},
     "output_type": "execute_result"
    }
   ],
   "source": [
    "True\n",
    "False"
   ]
  },
  {
   "cell_type": "code",
   "execution_count": 33,
   "id": "4834dd72-2fb8-459f-9077-be7b51241fdd",
   "metadata": {},
   "outputs": [],
   "source": [
    "a=False"
   ]
  },
  {
   "cell_type": "code",
   "execution_count": 34,
   "id": "34343009-3b4a-43f2-a113-1762ea1e51c3",
   "metadata": {},
   "outputs": [
    {
     "data": {
      "text/plain": [
       "bool"
      ]
     },
     "execution_count": 34,
     "metadata": {},
     "output_type": "execute_result"
    }
   ],
   "source": [
    "type(a)"
   ]
  },
  {
   "cell_type": "code",
   "execution_count": 35,
   "id": "d93e00f3-e95b-496b-b395-e2ef76e235f4",
   "metadata": {},
   "outputs": [
    {
     "ename": "NameError",
     "evalue": "name 'true' is not defined",
     "output_type": "error",
     "traceback": [
      "\u001b[0;31m---------------------------------------------------------------------------\u001b[0m",
      "\u001b[0;31mNameError\u001b[0m                                 Traceback (most recent call last)",
      "Cell \u001b[0;32mIn [35], line 1\u001b[0m\n\u001b[0;32m----> 1\u001b[0m a\u001b[38;5;241m=\u001b[39m\u001b[43mtrue\u001b[49m\n",
      "\u001b[0;31mNameError\u001b[0m: name 'true' is not defined"
     ]
    }
   ],
   "source": [
    "a=true"
   ]
  },
  {
   "cell_type": "code",
   "execution_count": 36,
   "id": "dff32bb8-c35f-4d3d-8739-89af8d58f403",
   "metadata": {},
   "outputs": [],
   "source": [
    "a=True"
   ]
  },
  {
   "cell_type": "code",
   "execution_count": 37,
   "id": "f6b5fbd0-b978-47fc-94a3-8fc0fbe76387",
   "metadata": {},
   "outputs": [
    {
     "data": {
      "text/plain": [
       "bool"
      ]
     },
     "execution_count": 37,
     "metadata": {},
     "output_type": "execute_result"
    }
   ],
   "source": [
    "type(a)"
   ]
  },
  {
   "cell_type": "code",
   "execution_count": 38,
   "id": "eb2379ab-9ffa-47b4-a367-ed872324cf30",
   "metadata": {},
   "outputs": [
    {
     "data": {
      "text/plain": [
       "2"
      ]
     },
     "execution_count": 38,
     "metadata": {},
     "output_type": "execute_result"
    }
   ],
   "source": [
    "1+1"
   ]
  },
  {
   "cell_type": "code",
   "execution_count": 39,
   "id": "3501921e-eeec-4bb1-ae85-128da49e1c4e",
   "metadata": {},
   "outputs": [
    {
     "data": {
      "text/plain": [
       "2"
      ]
     },
     "execution_count": 39,
     "metadata": {},
     "output_type": "execute_result"
    }
   ],
   "source": [
    "True+True"
   ]
  },
  {
   "cell_type": "code",
   "execution_count": 40,
   "id": "8695ccbf-d745-4884-89f1-254caa632a6a",
   "metadata": {},
   "outputs": [
    {
     "data": {
      "text/plain": [
       "1"
      ]
     },
     "execution_count": 40,
     "metadata": {},
     "output_type": "execute_result"
    }
   ],
   "source": [
    "True+False"
   ]
  },
  {
   "cell_type": "code",
   "execution_count": 41,
   "id": "eb66f97b-d046-4f2f-b6ad-377744a17add",
   "metadata": {},
   "outputs": [
    {
     "data": {
      "text/plain": [
       "1"
      ]
     },
     "execution_count": 41,
     "metadata": {},
     "output_type": "execute_result"
    }
   ],
   "source": [
    "False+True"
   ]
  },
  {
   "cell_type": "code",
   "execution_count": 42,
   "id": "306bca8d-4605-41c9-b59f-3db9c2e89d5f",
   "metadata": {},
   "outputs": [
    {
     "data": {
      "text/plain": [
       "0"
      ]
     },
     "execution_count": 42,
     "metadata": {},
     "output_type": "execute_result"
    }
   ],
   "source": [
    "False+False"
   ]
  },
  {
   "cell_type": "markdown",
   "id": "5faea8f0-70fb-4e44-ad8a-194e19d1f68b",
   "metadata": {},
   "source": [
    "# in backend\n",
    "True=1\n",
    "False=0"
   ]
  },
  {
   "cell_type": "code",
   "execution_count": 45,
   "id": "67921b5e-0300-4738-a173-755f24b9eaef",
   "metadata": {},
   "outputs": [],
   "source": [
    "a=True"
   ]
  },
  {
   "cell_type": "code",
   "execution_count": 46,
   "id": "2e63a846-3ff6-4b5b-8543-6c559ca4b9c2",
   "metadata": {},
   "outputs": [
    {
     "data": {
      "text/plain": [
       "28"
      ]
     },
     "execution_count": 46,
     "metadata": {},
     "output_type": "execute_result"
    }
   ],
   "source": [
    "import sys\n",
    "sys.getsizeof(a)"
   ]
  },
  {
   "cell_type": "code",
   "execution_count": 47,
   "id": "fc9f432b-e74c-46f2-a92f-e0f04ef42528",
   "metadata": {},
   "outputs": [],
   "source": [
    "x=1"
   ]
  },
  {
   "cell_type": "code",
   "execution_count": 48,
   "id": "fa5ef6bf-d9d4-4b8c-99f4-06f1f4eb86e5",
   "metadata": {},
   "outputs": [
    {
     "data": {
      "text/plain": [
       "28"
      ]
     },
     "execution_count": 48,
     "metadata": {},
     "output_type": "execute_result"
    }
   ],
   "source": [
    "import sys\n",
    "sys.getsizeof(x)"
   ]
  },
  {
   "cell_type": "code",
   "execution_count": 50,
   "id": "f83e9ece-2394-43f9-80e5-7f5916e1fa99",
   "metadata": {},
   "outputs": [],
   "source": [
    "a=\"sunny\""
   ]
  },
  {
   "cell_type": "code",
   "execution_count": 51,
   "id": "56bc6f72-3995-452c-a473-e0b614182619",
   "metadata": {},
   "outputs": [
    {
     "data": {
      "text/plain": [
       "str"
      ]
     },
     "execution_count": 51,
     "metadata": {},
     "output_type": "execute_result"
    }
   ],
   "source": [
    "type(a)"
   ]
  },
  {
   "cell_type": "code",
   "execution_count": 52,
   "id": "5553d7cf-076b-4aaa-842c-6cc91e902577",
   "metadata": {},
   "outputs": [],
   "source": [
    "a='sunny'"
   ]
  },
  {
   "cell_type": "code",
   "execution_count": 53,
   "id": "e423006d-e52b-4abb-a703-4d4040cd4995",
   "metadata": {},
   "outputs": [
    {
     "data": {
      "text/plain": [
       "'sunny'"
      ]
     },
     "execution_count": 53,
     "metadata": {},
     "output_type": "execute_result"
    }
   ],
   "source": [
    "a"
   ]
  },
  {
   "cell_type": "code",
   "execution_count": 54,
   "id": "d034e49d-02a7-435a-81a3-e6915f4e3098",
   "metadata": {},
   "outputs": [
    {
     "data": {
      "text/plain": [
       "str"
      ]
     },
     "execution_count": 54,
     "metadata": {},
     "output_type": "execute_result"
    }
   ],
   "source": [
    "type(a)"
   ]
  },
  {
   "cell_type": "code",
   "execution_count": 56,
   "id": "03a13f5a-24b6-4293-be23-b8fdb880d2a4",
   "metadata": {},
   "outputs": [],
   "source": [
    "a=\"sunny\""
   ]
  },
  {
   "cell_type": "code",
   "execution_count": 58,
   "id": "17985f53-4919-4639-b2a8-7218d0e1163f",
   "metadata": {},
   "outputs": [],
   "source": [
    "a='sunny'"
   ]
  },
  {
   "cell_type": "code",
   "execution_count": 59,
   "id": "491a8a20-950a-47d5-9f9d-f9308a142934",
   "metadata": {},
   "outputs": [
    {
     "ename": "SyntaxError",
     "evalue": "unterminated string literal (detected at line 1) (1579632217.py, line 1)",
     "output_type": "error",
     "traceback": [
      "\u001b[0;36m  Cell \u001b[0;32mIn [59], line 1\u001b[0;36m\u001b[0m\n\u001b[0;31m    msg= ' Sunny's Python Classes '\u001b[0m\n\u001b[0m                                  ^\u001b[0m\n\u001b[0;31mSyntaxError\u001b[0m\u001b[0;31m:\u001b[0m unterminated string literal (detected at line 1)\n"
     ]
    }
   ],
   "source": [
    "msg= ' Sunny's Python Classes '\n"
   ]
  },
  {
   "cell_type": "code",
   "execution_count": 60,
   "id": "c069ec4d-7dc9-4c82-8f0c-bf0f100b1b05",
   "metadata": {},
   "outputs": [],
   "source": [
    "msg= \" Sunny's Python Classes \""
   ]
  },
  {
   "cell_type": "code",
   "execution_count": 61,
   "id": "6e9de021-e993-40b5-867d-0e2b0ad73256",
   "metadata": {},
   "outputs": [
    {
     "data": {
      "text/plain": [
       "\" Sunny's Python Classes \""
      ]
     },
     "execution_count": 61,
     "metadata": {},
     "output_type": "execute_result"
    }
   ],
   "source": [
    "msg"
   ]
  },
  {
   "cell_type": "code",
   "execution_count": 62,
   "id": "bee8e972-1ae9-4da6-a127-a27677ed0fdb",
   "metadata": {},
   "outputs": [],
   "source": [
    "msg= ' Sunny\"s Python Classes '"
   ]
  },
  {
   "cell_type": "code",
   "execution_count": 63,
   "id": "be63ba2e-631f-4b49-a6b3-13b2bf3beee1",
   "metadata": {},
   "outputs": [
    {
     "data": {
      "text/plain": [
       "' Sunny\"s Python Classes '"
      ]
     },
     "execution_count": 63,
     "metadata": {},
     "output_type": "execute_result"
    }
   ],
   "source": [
    "msg"
   ]
  },
  {
   "cell_type": "code",
   "execution_count": 64,
   "id": "f0215619-067a-4635-9176-e47063a372a0",
   "metadata": {},
   "outputs": [
    {
     "name": "stdout",
     "output_type": "stream",
     "text": [
      " Sunny\"s Python Classes \n"
     ]
    }
   ],
   "source": [
    "print(msg)"
   ]
  },
  {
   "cell_type": "code",
   "execution_count": 31,
   "id": "301040e9-72fb-436e-a949-fb4c9478a411",
   "metadata": {},
   "outputs": [
    {
     "data": {
      "text/plain": [
       "'Python\\'s String\"s'"
      ]
     },
     "execution_count": 31,
     "metadata": {},
     "output_type": "execute_result"
    }
   ],
   "source": [
    "\"Python's\" +\" \"+'String\"s'\n"
   ]
  },
  {
   "cell_type": "code",
   "execution_count": 32,
   "id": "dbd2fd37-4c15-4e1b-adcc-05aa2eaac544",
   "metadata": {},
   "outputs": [],
   "source": [
    "y=\"\"\"let's learn \"python\" \"\"\""
   ]
  },
  {
   "cell_type": "code",
   "execution_count": 33,
   "id": "b4373a75-ebc2-4de5-9d41-7f4ef0736200",
   "metadata": {},
   "outputs": [
    {
     "data": {
      "text/plain": [
       "str"
      ]
     },
     "execution_count": 33,
     "metadata": {},
     "output_type": "execute_result"
    }
   ],
   "source": [
    "type(y)"
   ]
  },
  {
   "cell_type": "code",
   "execution_count": 34,
   "id": "d10c09ec-0b6c-47d6-95cb-e94e7b15f51e",
   "metadata": {},
   "outputs": [
    {
     "name": "stdout",
     "output_type": "stream",
     "text": [
      "let's learn \"python\" \n"
     ]
    }
   ],
   "source": [
    "print(y)"
   ]
  },
  {
   "cell_type": "code",
   "execution_count": 35,
   "id": "e52fcfb7-8ef2-4314-b071-1fea19533c79",
   "metadata": {},
   "outputs": [],
   "source": [
    "y=  'let\\'s learn \"python\" '"
   ]
  },
  {
   "cell_type": "code",
   "execution_count": 9,
   "id": "a0aeb945-e6d2-4ffc-8c98-e63c706ffc6b",
   "metadata": {},
   "outputs": [
    {
     "name": "stdout",
     "output_type": "stream",
     "text": [
      "let's learn \"python\" \n"
     ]
    }
   ],
   "source": [
    "print(y)"
   ]
  },
  {
   "cell_type": "code",
   "execution_count": 20,
   "id": "7ae04206-88a1-4764-bb74-fa45ec5c974c",
   "metadata": {},
   "outputs": [],
   "source": [
    "a=\"\"\"my \n",
    "name \n",
    "is\n",
    "sunny\"\"\""
   ]
  },
  {
   "cell_type": "code",
   "execution_count": 21,
   "id": "236f4279-f4ff-42ec-8f41-89aab5231798",
   "metadata": {},
   "outputs": [
    {
     "name": "stdout",
     "output_type": "stream",
     "text": [
      "my \n",
      "name \n",
      "is\n",
      "sunny\n"
     ]
    }
   ],
   "source": [
    "print(a)"
   ]
  },
  {
   "cell_type": "code",
   "execution_count": 18,
   "id": "6d7afc26-9474-4846-ba55-7a45c359e5d8",
   "metadata": {},
   "outputs": [],
   "source": [
    "my_string=\"\"\"my \n",
    "           name \n",
    "         is\n",
    "         sunny\"\"\""
   ]
  },
  {
   "cell_type": "code",
   "execution_count": 19,
   "id": "36909678-224b-407f-8ab0-50911142ffed",
   "metadata": {},
   "outputs": [
    {
     "name": "stdout",
     "output_type": "stream",
     "text": [
      "my \n",
      "           name \n",
      "         is\n",
      "         sunny\n"
     ]
    }
   ],
   "source": [
    "print(my_string)"
   ]
  },
  {
   "cell_type": "code",
   "execution_count": 22,
   "id": "7d110a06-c94b-44f0-98be-63740c46e4b0",
   "metadata": {},
   "outputs": [],
   "source": [
    "a=100"
   ]
  },
  {
   "cell_type": "code",
   "execution_count": 23,
   "id": "fc2cbe0c-6431-413d-8ceb-c4704750ffb6",
   "metadata": {},
   "outputs": [
    {
     "data": {
      "text/plain": [
       "int"
      ]
     },
     "execution_count": 23,
     "metadata": {},
     "output_type": "execute_result"
    }
   ],
   "source": [
    "type(a)"
   ]
  },
  {
   "cell_type": "code",
   "execution_count": 24,
   "id": "b4510a7f-0f08-49c3-9917-c1e9e9952e13",
   "metadata": {},
   "outputs": [],
   "source": [
    "b=float(a)"
   ]
  },
  {
   "cell_type": "code",
   "execution_count": 25,
   "id": "b3ca8dd8-677c-4011-bd62-226f8bc31def",
   "metadata": {},
   "outputs": [
    {
     "data": {
      "text/plain": [
       "float"
      ]
     },
     "execution_count": 25,
     "metadata": {},
     "output_type": "execute_result"
    }
   ],
   "source": [
    "type(b)"
   ]
  },
  {
   "cell_type": "code",
   "execution_count": 26,
   "id": "8f74c543-5b16-476a-83ce-be6edc3424e6",
   "metadata": {},
   "outputs": [
    {
     "name": "stdout",
     "output_type": "stream",
     "text": [
      "100.0\n"
     ]
    }
   ],
   "source": [
    "print(b)"
   ]
  },
  {
   "cell_type": "code",
   "execution_count": 27,
   "id": "75c097e2-c117-4b06-948c-397841554fc9",
   "metadata": {},
   "outputs": [],
   "source": [
    "a='10'"
   ]
  },
  {
   "cell_type": "code",
   "execution_count": 30,
   "id": "7d6d0793-21f3-4636-93e8-c9ebfe0168d5",
   "metadata": {},
   "outputs": [
    {
     "data": {
      "text/plain": [
       "str"
      ]
     },
     "execution_count": 30,
     "metadata": {},
     "output_type": "execute_result"
    }
   ],
   "source": [
    "type(a)"
   ]
  },
  {
   "cell_type": "code",
   "execution_count": 28,
   "id": "912f0a32-fbc8-461a-9355-5fd852db68ab",
   "metadata": {},
   "outputs": [],
   "source": [
    "b='20'"
   ]
  },
  {
   "cell_type": "code",
   "execution_count": 31,
   "id": "cf5a6fe9-ccee-4b5e-ad5f-e7e9ca7fe4f0",
   "metadata": {},
   "outputs": [
    {
     "data": {
      "text/plain": [
       "str"
      ]
     },
     "execution_count": 31,
     "metadata": {},
     "output_type": "execute_result"
    }
   ],
   "source": [
    "type(b)"
   ]
  },
  {
   "cell_type": "code",
   "execution_count": 29,
   "id": "e0431d97-778b-41db-a33b-264c88bf6a5e",
   "metadata": {},
   "outputs": [
    {
     "data": {
      "text/plain": [
       "'1020'"
      ]
     },
     "execution_count": 29,
     "metadata": {},
     "output_type": "execute_result"
    }
   ],
   "source": [
    "a+b"
   ]
  },
  {
   "cell_type": "code",
   "execution_count": 32,
   "id": "a5d22ef5-24ff-4f7d-b9f6-6999e98b8a44",
   "metadata": {},
   "outputs": [],
   "source": [
    "x=int('10')"
   ]
  },
  {
   "cell_type": "code",
   "execution_count": 33,
   "id": "48d46ca0-7b18-48fc-9cd1-02e0ddf72302",
   "metadata": {},
   "outputs": [
    {
     "data": {
      "text/plain": [
       "int"
      ]
     },
     "execution_count": 33,
     "metadata": {},
     "output_type": "execute_result"
    }
   ],
   "source": [
    "type(x)"
   ]
  },
  {
   "cell_type": "code",
   "execution_count": 34,
   "id": "7a2b7d52-49c1-4dca-98b9-0da84ccdac78",
   "metadata": {},
   "outputs": [],
   "source": [
    "y=int('20')"
   ]
  },
  {
   "cell_type": "code",
   "execution_count": 35,
   "id": "42fba45b-42d7-40dc-9c6c-31c6c24933fc",
   "metadata": {},
   "outputs": [
    {
     "data": {
      "text/plain": [
       "int"
      ]
     },
     "execution_count": 35,
     "metadata": {},
     "output_type": "execute_result"
    }
   ],
   "source": [
    "type(y)"
   ]
  },
  {
   "cell_type": "code",
   "execution_count": 36,
   "id": "48eaed84-fc0b-4f65-9e2f-4f5089158640",
   "metadata": {},
   "outputs": [
    {
     "data": {
      "text/plain": [
       "30"
      ]
     },
     "execution_count": 36,
     "metadata": {},
     "output_type": "execute_result"
    }
   ],
   "source": [
    "x+y"
   ]
  },
  {
   "cell_type": "code",
   "execution_count": null,
   "id": "89c5c860-2067-4cb7-828d-35eb31e77a7b",
   "metadata": {},
   "outputs": [],
   "source": [
    "#input()"
   ]
  },
  {
   "cell_type": "markdown",
   "id": "f0cc0d7e-367a-4b5c-866d-f71820d02d41",
   "metadata": {},
   "source": [
    "# you have to have two input from the user and you have to subtract it."
   ]
  },
  {
   "cell_type": "code",
   "execution_count": 39,
   "id": "67e09964-8060-43d2-964b-f12a1b39a054",
   "metadata": {},
   "outputs": [
    {
     "name": "stdin",
     "output_type": "stream",
     "text": [
      "enter first number: 232\n",
      "enter second number: 54345\n"
     ]
    },
    {
     "name": "stdout",
     "output_type": "stream",
     "text": [
      "-54113\n"
     ]
    }
   ],
   "source": [
    "a=int(input(\"enter first number:\"))\n",
    "b=int(input(\"enter second number:\"))\n",
    "c=a-b\n",
    "print(c)"
   ]
  },
  {
   "cell_type": "code",
   "execution_count": 38,
   "id": "6b01451f-b139-43ec-9c1e-4f515edafca9",
   "metadata": {},
   "outputs": [
    {
     "name": "stdin",
     "output_type": "stream",
     "text": [
      " 10\n"
     ]
    },
    {
     "data": {
      "text/plain": [
       "'10'"
      ]
     },
     "execution_count": 38,
     "metadata": {},
     "output_type": "execute_result"
    }
   ],
   "source": [
    "input()"
   ]
  },
  {
   "cell_type": "code",
   "execution_count": 40,
   "id": "0edf3d61-c471-4ed9-b3ea-f30296eca6dc",
   "metadata": {},
   "outputs": [],
   "source": [
    "a=10"
   ]
  },
  {
   "cell_type": "code",
   "execution_count": 41,
   "id": "e68649f8-e74b-4e1c-996f-5b5384a65954",
   "metadata": {},
   "outputs": [],
   "source": [
    "b=0.5"
   ]
  },
  {
   "cell_type": "code",
   "execution_count": null,
   "id": "dbb27872-a1de-4a15-902d-8bd247f68828",
   "metadata": {},
   "outputs": [],
   "source": [
    "#a+b=10.5"
   ]
  },
  {
   "cell_type": "code",
   "execution_count": 42,
   "id": "30eb4a3b-bf8b-4f61-bde5-2de2c9bd84d9",
   "metadata": {},
   "outputs": [],
   "source": [
    "c=a+b"
   ]
  },
  {
   "cell_type": "code",
   "execution_count": 44,
   "id": "76d4ca7d-21b9-4f55-a476-11dadb5153ab",
   "metadata": {},
   "outputs": [
    {
     "name": "stdout",
     "output_type": "stream",
     "text": [
      "10.5\n"
     ]
    }
   ],
   "source": [
    "print(c)"
   ]
  },
  {
   "cell_type": "code",
   "execution_count": 43,
   "id": "4907ccf1-bff7-49fa-a233-9740b2d623a2",
   "metadata": {},
   "outputs": [
    {
     "data": {
      "text/plain": [
       "float"
      ]
     },
     "execution_count": 43,
     "metadata": {},
     "output_type": "execute_result"
    }
   ],
   "source": [
    "type(c)"
   ]
  },
  {
   "cell_type": "code",
   "execution_count": 45,
   "id": "f7aef120-0c2d-4413-8021-cbf1f3f8e154",
   "metadata": {},
   "outputs": [],
   "source": [
    "a=\"sunny\""
   ]
  },
  {
   "cell_type": "code",
   "execution_count": 49,
   "id": "790de634-13ca-4794-aef9-43908a282d1e",
   "metadata": {},
   "outputs": [],
   "source": [
    "b=\"10\""
   ]
  },
  {
   "cell_type": "code",
   "execution_count": 50,
   "id": "294c5e32-cbff-46b3-8164-891381ca1a48",
   "metadata": {},
   "outputs": [
    {
     "data": {
      "text/plain": [
       "'sunny10'"
      ]
     },
     "execution_count": 50,
     "metadata": {},
     "output_type": "execute_result"
    }
   ],
   "source": [
    "a+b"
   ]
  },
  {
   "cell_type": "code",
   "execution_count": null,
   "id": "a4f28ad8-5959-4256-9e2b-1a82c1799054",
   "metadata": {},
   "outputs": [],
   "source": []
  }
 ],
 "metadata": {
  "kernelspec": {
   "display_name": "Python 3 (ipykernel)",
   "language": "python",
   "name": "python3"
  },
  "language_info": {
   "codemirror_mode": {
    "name": "ipython",
    "version": 3
   },
   "file_extension": ".py",
   "mimetype": "text/x-python",
   "name": "python",
   "nbconvert_exporter": "python",
   "pygments_lexer": "ipython3",
   "version": "3.11.5"
  }
 },
 "nbformat": 4,
 "nbformat_minor": 5
}
