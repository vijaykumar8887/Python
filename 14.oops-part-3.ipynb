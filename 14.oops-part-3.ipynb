{
 "cells": [
  {
   "cell_type": "code",
   "execution_count": null,
   "id": "781039bc-4df2-40ce-88ac-528a5809dde6",
   "metadata": {},
   "outputs": [],
   "source": [
    "this is 3 piller of oop\n",
    "\n",
    "encapulation\n",
    "inheritance\n",
    "poluymorphism\n",
    "abstraction"
   ]
  },
  {
   "cell_type": "code",
   "execution_count": 1,
   "id": "c3c2f9ad-eba9-411b-8297-7ebc2b8d2f60",
   "metadata": {},
   "outputs": [],
   "source": [
    "class emp:\n",
    "    def __init__(self):\n",
    "        pass\n",
    "    def display(self):\n",
    "        pass"
   ]
  },
  {
   "cell_type": "code",
   "execution_count": 2,
   "id": "64b866e3-67c6-4f25-a723-6ac95d1ffbc1",
   "metadata": {},
   "outputs": [],
   "source": [
    "obj=emp()"
   ]
  },
  {
   "cell_type": "markdown",
   "id": "f27b65eb-0b55-4a69-9721-d0b02296f38b",
   "metadata": {},
   "source": [
    "# encapulation"
   ]
  },
  {
   "cell_type": "code",
   "execution_count": 14,
   "id": "99aa6f76-3912-4f67-9245-fa1138923dec",
   "metadata": {},
   "outputs": [],
   "source": [
    "class emp:\n",
    "    def __init__(self):\n",
    "        self.name=\"sunny\"\n",
    "        self.age=26\n",
    "        self.__sal=20000\n",
    "    def display(self):\n",
    "        print(self.name,self.age,self.__sal)"
   ]
  },
  {
   "cell_type": "code",
   "execution_count": 15,
   "id": "6b697ee8-47f8-4d73-853c-eb4f60cb3ee8",
   "metadata": {},
   "outputs": [],
   "source": [
    "obj1=emp()"
   ]
  },
  {
   "cell_type": "code",
   "execution_count": 16,
   "id": "d440111d-e5ab-4811-a232-4d41e7ee6708",
   "metadata": {},
   "outputs": [
    {
     "data": {
      "text/plain": [
       "'sunny'"
      ]
     },
     "execution_count": 16,
     "metadata": {},
     "output_type": "execute_result"
    }
   ],
   "source": [
    "obj1.name"
   ]
  },
  {
   "cell_type": "code",
   "execution_count": 17,
   "id": "fa91d973-6c09-4e0b-8798-624d8aceeda7",
   "metadata": {},
   "outputs": [
    {
     "ename": "AttributeError",
     "evalue": "'emp' object has no attribute 'sal'",
     "output_type": "error",
     "traceback": [
      "\u001b[0;31m---------------------------------------------------------------------------\u001b[0m",
      "\u001b[0;31mAttributeError\u001b[0m                            Traceback (most recent call last)",
      "Cell \u001b[0;32mIn [17], line 1\u001b[0m\n\u001b[0;32m----> 1\u001b[0m \u001b[43mobj1\u001b[49m\u001b[38;5;241;43m.\u001b[39;49m\u001b[43msal\u001b[49m\n",
      "\u001b[0;31mAttributeError\u001b[0m: 'emp' object has no attribute 'sal'"
     ]
    }
   ],
   "source": [
    "obj1.sal"
   ]
  },
  {
   "cell_type": "code",
   "execution_count": 18,
   "id": "a18a2c38-89d9-451d-ae28-85971508afe9",
   "metadata": {},
   "outputs": [
    {
     "data": {
      "text/plain": [
       "26"
      ]
     },
     "execution_count": 18,
     "metadata": {},
     "output_type": "execute_result"
    }
   ],
   "source": [
    "obj1.age"
   ]
  },
  {
   "cell_type": "code",
   "execution_count": 19,
   "id": "a23e26f2-ed96-4035-bea2-fa28fbed3042",
   "metadata": {},
   "outputs": [
    {
     "name": "stdout",
     "output_type": "stream",
     "text": [
      "sunny 26 20000\n"
     ]
    }
   ],
   "source": [
    "obj1.display()"
   ]
  },
  {
   "cell_type": "code",
   "execution_count": null,
   "id": "ccd663d1-96ab-446f-95c6-b6919b5dcedf",
   "metadata": {},
   "outputs": [],
   "source": [
    "public <var_name>\n",
    "private __<var name>\n",
    "protacted _<var_name>\n",
    "setattr()\n",
    "getattr()"
   ]
  },
  {
   "cell_type": "code",
   "execution_count": 26,
   "id": "ad9f72fd-9a0b-46e2-94e3-68ce193b2440",
   "metadata": {},
   "outputs": [],
   "source": [
    "class emp:\n",
    "    def __init__(self):\n",
    "        self.name=\"sunny\"\n",
    "        self.age=26\n",
    "        self.__sal=20000\n",
    "    def __display(self):\n",
    "        print(self.name,self.age,self.__sal)\n",
    "    def show(self):\n",
    "        self.__display()"
   ]
  },
  {
   "cell_type": "code",
   "execution_count": 27,
   "id": "9e15e866-42f5-4e81-ae7b-14e3b7c3bff9",
   "metadata": {},
   "outputs": [],
   "source": [
    "obj2=emp()"
   ]
  },
  {
   "cell_type": "code",
   "execution_count": 25,
   "id": "bd480ea4-7637-4694-b42f-4b51e1665c98",
   "metadata": {},
   "outputs": [
    {
     "ename": "AttributeError",
     "evalue": "'emp' object has no attribute '__display'",
     "output_type": "error",
     "traceback": [
      "\u001b[0;31m---------------------------------------------------------------------------\u001b[0m",
      "\u001b[0;31mAttributeError\u001b[0m                            Traceback (most recent call last)",
      "Cell \u001b[0;32mIn [25], line 1\u001b[0m\n\u001b[0;32m----> 1\u001b[0m \u001b[43mobj2\u001b[49m\u001b[38;5;241;43m.\u001b[39;49m\u001b[43m__display\u001b[49m()\n",
      "\u001b[0;31mAttributeError\u001b[0m: 'emp' object has no attribute '__display'"
     ]
    }
   ],
   "source": [
    "obj2.__display()"
   ]
  },
  {
   "cell_type": "code",
   "execution_count": 28,
   "id": "57908624-edc0-471a-9e8c-09dd623004b1",
   "metadata": {},
   "outputs": [
    {
     "name": "stdout",
     "output_type": "stream",
     "text": [
      "sunny 26 20000\n"
     ]
    }
   ],
   "source": [
    "obj2.show()"
   ]
  },
  {
   "cell_type": "markdown",
   "id": "5a312cac-ab4f-43e6-950c-075385b3d1da",
   "metadata": {},
   "source": [
    "# inheritance"
   ]
  },
  {
   "cell_type": "code",
   "execution_count": null,
   "id": "99218c70-303d-4a46-a154-e2772b5c080a",
   "metadata": {},
   "outputs": [],
   "source": [
    "1. simple inharitance\n",
    "2. multilevel inharitance\n",
    "3. multiple inheritnace\n",
    "4. hirarchical inheritance\n",
    "5. hybrid inhertance\n",
    "\n",
    "objectclass\n",
    "overriding-->repr,str\n",
    "super()"
   ]
  },
  {
   "cell_type": "code",
   "execution_count": null,
   "id": "f290d892-694d-48d1-9ed3-d780ac87e0d6",
   "metadata": {},
   "outputs": [],
   "source": [
    "simple\n",
    "class A:\n",
    "    pass\n",
    "class B(A):\n",
    "    pass"
   ]
  },
  {
   "cell_type": "code",
   "execution_count": null,
   "id": "89d6e364-618f-47ab-b2d5-6968da0b8b89",
   "metadata": {},
   "outputs": [],
   "source": [
    "multilevel\n",
    "class A:\n",
    "    pass\n",
    "class B(A):\n",
    "    pass\n",
    "class C(B):\n",
    "    pass"
   ]
  },
  {
   "cell_type": "code",
   "execution_count": null,
   "id": "bd525f42-6fc9-4670-b2c4-953547c85fc1",
   "metadata": {},
   "outputs": [],
   "source": [
    "multiple\n",
    "class A:\n",
    "    pass\n",
    "\n",
    "class B:\n",
    "    pass\n",
    "\n",
    "class C(A,B):\n",
    "    pass\n",
    "    "
   ]
  },
  {
   "cell_type": "code",
   "execution_count": null,
   "id": "b8ff6b8d-4f81-453b-9aef-5e41c74827dc",
   "metadata": {},
   "outputs": [],
   "source": [
    "hirarchical inheritance\n",
    "\n",
    "class A:\n",
    "    pass\n",
    "class B(A):\n",
    "    pass\n",
    "class C(A):\n",
    "    pass\n"
   ]
  },
  {
   "cell_type": "code",
   "execution_count": null,
   "id": "d8b07385-b80b-4269-b8de-e8c520aa6cb4",
   "metadata": {},
   "outputs": [],
   "source": [
    "hybrid inheritance(multiple+hirarchical)\n",
    "\n",
    "class A:\n",
    "    pass\n",
    "class B(A):\n",
    "    pass\n",
    "class C(A):\n",
    "    pass\n",
    "class D(B,c):\n",
    "    pass\n"
   ]
  },
  {
   "cell_type": "code",
   "execution_count": 29,
   "id": "9a2b902e-b101-4503-8416-5a4fa8a83f42",
   "metadata": {},
   "outputs": [],
   "source": [
    "class A:\n",
    "    def __init__(self):\n",
    "        print(\"hi hi hi\")\n",
    "        "
   ]
  },
  {
   "cell_type": "code",
   "execution_count": 30,
   "id": "3be59e75-dae8-4afa-814a-b43d30b4d741",
   "metadata": {},
   "outputs": [
    {
     "name": "stdout",
     "output_type": "stream",
     "text": [
      "hi hi hi\n"
     ]
    }
   ],
   "source": [
    "obj=A()"
   ]
  },
  {
   "cell_type": "code",
   "execution_count": 31,
   "id": "84e92fb2-aa78-4a40-ab9d-6281e62eb30d",
   "metadata": {},
   "outputs": [],
   "source": [
    "obj2=object()"
   ]
  },
  {
   "cell_type": "code",
   "execution_count": 32,
   "id": "28e195e1-5ef5-4638-bff1-2715b01a249c",
   "metadata": {},
   "outputs": [
    {
     "data": {
      "text/plain": [
       "['__class__',\n",
       " '__delattr__',\n",
       " '__dir__',\n",
       " '__doc__',\n",
       " '__eq__',\n",
       " '__format__',\n",
       " '__ge__',\n",
       " '__getattribute__',\n",
       " '__gt__',\n",
       " '__hash__',\n",
       " '__init__',\n",
       " '__init_subclass__',\n",
       " '__le__',\n",
       " '__lt__',\n",
       " '__ne__',\n",
       " '__new__',\n",
       " '__reduce__',\n",
       " '__reduce_ex__',\n",
       " '__repr__',\n",
       " '__setattr__',\n",
       " '__sizeof__',\n",
       " '__str__',\n",
       " '__subclasshook__']"
      ]
     },
     "execution_count": 32,
     "metadata": {},
     "output_type": "execute_result"
    }
   ],
   "source": [
    "dir(obj2)"
   ]
  },
  {
   "cell_type": "code",
   "execution_count": 61,
   "id": "0695b98d-d037-43bc-ad6e-305e3a16834f",
   "metadata": {},
   "outputs": [],
   "source": [
    "class A:\n",
    "    def __init__(self):\n",
    "        print(\"hi hi hi\")\n",
    "    def __repr__(self):\n",
    "        return \"10\"\n",
    "        "
   ]
  },
  {
   "cell_type": "code",
   "execution_count": 62,
   "id": "bf4878c2-4015-4784-82ec-86ded2e3b4fe",
   "metadata": {},
   "outputs": [
    {
     "name": "stdout",
     "output_type": "stream",
     "text": [
      "hi hi hi\n"
     ]
    }
   ],
   "source": [
    "myobj=A()"
   ]
  },
  {
   "cell_type": "code",
   "execution_count": 63,
   "id": "a18e04eb-8c55-4deb-b868-d3b9136c382d",
   "metadata": {},
   "outputs": [
    {
     "name": "stdout",
     "output_type": "stream",
     "text": [
      "10\n"
     ]
    }
   ],
   "source": [
    "print(myobj)"
   ]
  },
  {
   "cell_type": "code",
   "execution_count": 64,
   "id": "9f5a9bfc-0fb8-4db8-a29d-d894dc20588e",
   "metadata": {},
   "outputs": [
    {
     "data": {
      "text/plain": [
       "10"
      ]
     },
     "execution_count": 64,
     "metadata": {},
     "output_type": "execute_result"
    }
   ],
   "source": [
    "myobj"
   ]
  },
  {
   "cell_type": "code",
   "execution_count": 50,
   "id": "46a1ea9c-9752-4009-8b5b-2bf5f0881a51",
   "metadata": {},
   "outputs": [],
   "source": [
    "class A:\n",
    "    def __init__(self):\n",
    "        print(\"hi hi hi\")\n",
    "    def __str__(self):\n",
    "        return \"10\""
   ]
  },
  {
   "cell_type": "code",
   "execution_count": 51,
   "id": "30675ccc-fb52-47f9-a6b8-221fa2ab289a",
   "metadata": {},
   "outputs": [
    {
     "name": "stdout",
     "output_type": "stream",
     "text": [
      "hi hi hi\n"
     ]
    }
   ],
   "source": [
    "myobjsecond=A()"
   ]
  },
  {
   "cell_type": "code",
   "execution_count": 52,
   "id": "b7c948f3-46be-4c29-895a-628d8973d6af",
   "metadata": {},
   "outputs": [
    {
     "name": "stdout",
     "output_type": "stream",
     "text": [
      "10\n"
     ]
    }
   ],
   "source": [
    "print(myobjsecond)"
   ]
  },
  {
   "cell_type": "markdown",
   "id": "34397d87-e08c-4fb8-8da7-4b7cb2d9811f",
   "metadata": {},
   "source": [
    "## simple inheritance"
   ]
  },
  {
   "cell_type": "code",
   "execution_count": 74,
   "id": "afe324d1-6975-4826-9f8f-d2cc43ed7387",
   "metadata": {},
   "outputs": [],
   "source": [
    "# this is parent class\n",
    "# here is a code reusability\n",
    "# becuase in this parent class there is few method which no need to define in child class\n",
    "class animal:\n",
    "    def eat(self):\n",
    "        print(\"yes it eats\")\n",
    "    def sleep(self):\n",
    "        print(\"yes it sleeps\")\n",
    "class bird(animal):# child class\n",
    "    def set_type(self,type):\n",
    "        self.type=type\n",
    "    def fly(self):\n",
    "        print(\"yes it fly\")\n",
    "    def speak(self,sound):\n",
    "        print(f\"it speaks: {sound} {sound}\")\n",
    "    def __repr__(self):\n",
    "        return \"this is a \"+ self.type\n",
    "              "
   ]
  },
  {
   "cell_type": "code",
   "execution_count": 75,
   "id": "b1953553-b624-4379-9d36-37e7aad4723f",
   "metadata": {},
   "outputs": [],
   "source": [
    "duck=bird()"
   ]
  },
  {
   "cell_type": "code",
   "execution_count": 76,
   "id": "ab64b3e4-cab0-40dc-a466-d12a78974349",
   "metadata": {},
   "outputs": [],
   "source": [
    "duck.set_type(\"duck\")"
   ]
  },
  {
   "cell_type": "code",
   "execution_count": 77,
   "id": "ea97285d-f658-45b4-8a98-ba57fa5c8633",
   "metadata": {},
   "outputs": [
    {
     "name": "stdout",
     "output_type": "stream",
     "text": [
      "this is a duck\n"
     ]
    }
   ],
   "source": [
    "print(duck)"
   ]
  },
  {
   "cell_type": "code",
   "execution_count": 78,
   "id": "4770e7d2-d1ec-49a2-b937-7257ece72cb7",
   "metadata": {},
   "outputs": [
    {
     "name": "stdout",
     "output_type": "stream",
     "text": [
      "yes it eats\n"
     ]
    }
   ],
   "source": [
    "duck.eat()"
   ]
  },
  {
   "cell_type": "code",
   "execution_count": 79,
   "id": "78d282b3-d572-429f-8d2b-67133cfac5f7",
   "metadata": {},
   "outputs": [
    {
     "name": "stdout",
     "output_type": "stream",
     "text": [
      "yes it sleeps\n"
     ]
    }
   ],
   "source": [
    "duck.sleep()"
   ]
  },
  {
   "cell_type": "code",
   "execution_count": 80,
   "id": "6d8a2fd0-d485-4e6b-9c65-c8e929252c35",
   "metadata": {},
   "outputs": [
    {
     "name": "stdout",
     "output_type": "stream",
     "text": [
      "yes it fly\n"
     ]
    }
   ],
   "source": [
    "duck.fly()"
   ]
  },
  {
   "cell_type": "code",
   "execution_count": 82,
   "id": "4cf7f2c2-d6af-4ded-ad7d-fc76977d0b38",
   "metadata": {},
   "outputs": [
    {
     "name": "stdout",
     "output_type": "stream",
     "text": [
      "it speaks: quack quack quack quack\n"
     ]
    }
   ],
   "source": [
    "duck.speak(\"quack quack\")"
   ]
  },
  {
   "cell_type": "code",
   "execution_count": 84,
   "id": "8e0f48d2-7a29-4647-acf7-7754211a842c",
   "metadata": {},
   "outputs": [],
   "source": [
    "crow=bird()"
   ]
  },
  {
   "cell_type": "code",
   "execution_count": 85,
   "id": "ec355c9c-53bf-4583-b81b-fc48fb3a98a1",
   "metadata": {},
   "outputs": [],
   "source": [
    "crow.set_type(\"crow\")"
   ]
  },
  {
   "cell_type": "code",
   "execution_count": 86,
   "id": "7e9bfd24-60b9-4940-b117-26ebdcffb70a",
   "metadata": {},
   "outputs": [
    {
     "name": "stdout",
     "output_type": "stream",
     "text": [
      "yes it eats\n"
     ]
    }
   ],
   "source": [
    "crow.eat()"
   ]
  },
  {
   "cell_type": "code",
   "execution_count": 87,
   "id": "f7a8a339-f8cd-4ce4-a57a-c7d75122a1d4",
   "metadata": {},
   "outputs": [
    {
     "name": "stdout",
     "output_type": "stream",
     "text": [
      "yes it sleeps\n"
     ]
    }
   ],
   "source": [
    "crow.sleep()"
   ]
  },
  {
   "cell_type": "code",
   "execution_count": 89,
   "id": "16c19d4e-1bcf-4e86-8b10-1a0210dff074",
   "metadata": {},
   "outputs": [
    {
     "name": "stdout",
     "output_type": "stream",
     "text": [
      "it speaks: ka ka ka ka\n"
     ]
    }
   ],
   "source": [
    "crow.speak(\"ka ka\")"
   ]
  },
  {
   "cell_type": "markdown",
   "id": "f942881a-9321-4b8d-a5b6-d06e1a004592",
   "metadata": {},
   "source": [
    "## multilevel "
   ]
  },
  {
   "cell_type": "code",
   "execution_count": 98,
   "id": "414d8f24-4867-467d-9dbe-328c93252079",
   "metadata": {},
   "outputs": [],
   "source": [
    "# real time senerio\n",
    "# code reusability\n",
    "\n",
    "# coding in java or in c++ \n",
    "#in this language automatically parent class constuctor will be called\n",
    "#this is rule is not for python\n",
    "# super method or we can call with the help of class name\n",
    "\n",
    "class person:\n",
    "    def __init__(self,age,name):\n",
    "        self.name=name\n",
    "        self.age=age\n",
    "        print(\"person consturtor called\")\n",
    "class emp(person):\n",
    "    def __init__(self,age,name,ids,sal):\n",
    "        person.__init__(self,age,name)\n",
    "        self.ids=ids\n",
    "        self.sal=sal\n",
    "        print(\"emp constructor called \")\n",
    "class manager(emp):\n",
    "    def __init__(self,age,name,ids,sal,bouns):\n",
    "        emp.__init__(self,age,name,ids,sal)\n",
    "        self.bouns=bouns\n",
    "        print(\"manager consturtor called\")\n",
    "        \n"
   ]
  },
  {
   "cell_type": "code",
   "execution_count": 100,
   "id": "f863f932-8f35-4a89-a456-ec1e2d980f5d",
   "metadata": {},
   "outputs": [
    {
     "data": {
      "text/plain": [
       "24"
      ]
     },
     "execution_count": 100,
     "metadata": {},
     "output_type": "execute_result"
    }
   ],
   "source": [
    "m.age"
   ]
  },
  {
   "cell_type": "code",
   "execution_count": 101,
   "id": "c9207b15-d980-496d-9b15-b2bdded75a0a",
   "metadata": {},
   "outputs": [
    {
     "data": {
      "text/plain": [
       "'nitin'"
      ]
     },
     "execution_count": 101,
     "metadata": {},
     "output_type": "execute_result"
    }
   ],
   "source": [
    "m.name"
   ]
  },
  {
   "cell_type": "code",
   "execution_count": 102,
   "id": "942c2b8e-578f-43dc-b99f-e15cd8e37826",
   "metadata": {},
   "outputs": [
    {
     "data": {
      "text/plain": [
       "1"
      ]
     },
     "execution_count": 102,
     "metadata": {},
     "output_type": "execute_result"
    }
   ],
   "source": [
    "m.ids"
   ]
  },
  {
   "cell_type": "code",
   "execution_count": 112,
   "id": "b202509f-2cf5-4872-95a8-aa566ea220b3",
   "metadata": {},
   "outputs": [],
   "source": [
    "class person:\n",
    "    def __init__(self,age,name):\n",
    "        self.name=name\n",
    "        self.age=age\n",
    "        print(\"person consturtor called\")\n",
    "class emp(person):\n",
    "    def __init__(self,age,name,ids,sal):\n",
    "        super().__init__(age,name)\n",
    "        self.ids=ids\n",
    "        self.sal=sal\n",
    "        print(\"emp constructor called \")\n",
    "class manager(emp):\n",
    "    def __init__(self,age,name,ids,sal,bouns):\n",
    "        super().__init__(age,name,ids,sal)\n",
    "        self.bouns=bouns\n",
    "        print(\"manager consturtor called\")\n",
    "    \n",
    "    def __repr__(self):\n",
    "        return f\"manager bouns will be {self.bouns} manager age is {self.age} manager name is  {self.name} manager id is {self.ids} manager sal is {self.sal}\""
   ]
  },
  {
   "cell_type": "code",
   "execution_count": 113,
   "id": "e9409fd2-fdab-4700-a157-1bf82d226460",
   "metadata": {},
   "outputs": [
    {
     "name": "stdout",
     "output_type": "stream",
     "text": [
      "person consturtor called\n",
      "emp constructor called \n",
      "manager consturtor called\n"
     ]
    }
   ],
   "source": [
    "obj2=manager(30,\"rajeev\",2,800000,10000)"
   ]
  },
  {
   "cell_type": "code",
   "execution_count": 114,
   "id": "32113ab2-3b76-4f52-92a6-c5c560b0f69d",
   "metadata": {},
   "outputs": [
    {
     "name": "stdout",
     "output_type": "stream",
     "text": [
      "manager bouns will be 10000 manager age is 30 manager name is  rajeev manager id is 2 manager sal is 800000\n"
     ]
    }
   ],
   "source": [
    "print(obj2)"
   ]
  },
  {
   "cell_type": "code",
   "execution_count": 128,
   "id": "d1fc9d6f-485e-4ad6-8f6e-282c40707bb8",
   "metadata": {},
   "outputs": [],
   "source": [
    "#method overloading\n",
    "# python does not support overloading\n",
    "def test(*args):\n",
    "    print(\"done\")\n",
    "#def test(ar1,ar2,ar3):\n",
    "    #print(\"done dana done\")"
   ]
  },
  {
   "cell_type": "code",
   "execution_count": 129,
   "id": "e81a9e17-3bf7-44e4-bb22-115582c6b5a8",
   "metadata": {},
   "outputs": [
    {
     "name": "stdout",
     "output_type": "stream",
     "text": [
      "done\n"
     ]
    }
   ],
   "source": [
    "#variable length argument\n",
    "test(10,20)"
   ]
  },
  {
   "cell_type": "code",
   "execution_count": 130,
   "id": "8bc4af5e-5d51-41c4-ac7f-cb6e6401a8d1",
   "metadata": {},
   "outputs": [
    {
     "name": "stdout",
     "output_type": "stream",
     "text": [
      "done\n"
     ]
    }
   ],
   "source": [
    "test(10,20,30,40,50,60)"
   ]
  },
  {
   "cell_type": "code",
   "execution_count": 121,
   "id": "20b7a5ac-df7b-4a3d-a8d7-eed56034c85f",
   "metadata": {},
   "outputs": [],
   "source": [
    "# MEHTOD OVERRIDING\n",
    "# SUPER WORKS\n",
    "# HOW TO CALL PREVIOUS CONS\n",
    "# USE OF REPR\n",
    "\n",
    "class person:\n",
    "    def __init__(self,age,name):\n",
    "        self.name=name\n",
    "        self.age=age\n",
    "        print(\"person consturtor called\")\n",
    "    def __repr__(self):\n",
    "        return f\"age {self.age}, name {self.name}\"\n",
    "class emp(person):\n",
    "    def __init__(self,age,name,ids,sal):\n",
    "        super().__init__(age,name)\n",
    "        self.ids=ids\n",
    "        self.sal=sal\n",
    "        print(\"emp constructor called \")\n",
    "    def __repr__(self):\n",
    "        string=super().__repr__()\n",
    "        return f\"{string}, id {self.ids} sal {self.sal}\"\n",
    "class manager(emp):\n",
    "    def __init__(self,age,name,ids,sal,bouns):\n",
    "        super().__init__(age,name,ids,sal)\n",
    "        self.bouns=bouns\n",
    "        print(\"manager consturtor called\")\n",
    "    \n",
    "    def __repr__(self):\n",
    "        string=super().__repr__()\n",
    "        return f\"{string}, bouns: {self.bouns}\""
   ]
  },
  {
   "cell_type": "code",
   "execution_count": 122,
   "id": "4bdbae92-ac12-4118-9302-7a38d8687f38",
   "metadata": {},
   "outputs": [
    {
     "name": "stdout",
     "output_type": "stream",
     "text": [
      "person consturtor called\n",
      "emp constructor called \n",
      "manager consturtor called\n"
     ]
    }
   ],
   "source": [
    "obj3=manager(40,\"ravi\",3,8000000,100000)"
   ]
  },
  {
   "cell_type": "code",
   "execution_count": 123,
   "id": "71622119-e742-436b-b592-c401591754be",
   "metadata": {},
   "outputs": [
    {
     "name": "stdout",
     "output_type": "stream",
     "text": [
      "age 40, name ravi, id 3 sal 8000000, bouns: 100000\n"
     ]
    }
   ],
   "source": [
    "print(obj3)"
   ]
  },
  {
   "cell_type": "code",
   "execution_count": null,
   "id": "faa0f9ef-9586-458a-945c-aa400eabdc14",
   "metadata": {},
   "outputs": [],
   "source": [
    "tuesday last class for oops"
   ]
  },
  {
   "cell_type": "code",
   "execution_count": 137,
   "id": "c8cacb6e-09b8-459f-bdeb-6ebdabb4fee4",
   "metadata": {},
   "outputs": [],
   "source": [
    "class A:\n",
    "    def __init__(self):\n",
    "        pass\n",
    "    def __repr__(self):\n",
    "        return \"hello\""
   ]
  },
  {
   "cell_type": "code",
   "execution_count": 138,
   "id": "eb107299-598c-46ad-a312-bbbdc25f325c",
   "metadata": {},
   "outputs": [],
   "source": [
    "obj2=A()"
   ]
  },
  {
   "cell_type": "code",
   "execution_count": 144,
   "id": "572d0385-6bbd-4969-b68c-26a50fced407",
   "metadata": {},
   "outputs": [
    {
     "data": {
      "text/plain": [
       "hello"
      ]
     },
     "execution_count": 144,
     "metadata": {},
     "output_type": "execute_result"
    }
   ],
   "source": [
    "obj2"
   ]
  },
  {
   "cell_type": "code",
   "execution_count": 140,
   "id": "a26ea528-4f70-45dd-9d58-13644c0223ab",
   "metadata": {},
   "outputs": [],
   "source": [
    "class B:\n",
    "    def __str__(self):\n",
    "        return \"hi\""
   ]
  },
  {
   "cell_type": "code",
   "execution_count": 141,
   "id": "aff376ae-19f9-447a-9f8b-f28685b0959d",
   "metadata": {},
   "outputs": [],
   "source": [
    "obj3=B()"
   ]
  },
  {
   "cell_type": "code",
   "execution_count": 143,
   "id": "6d3c9000-0e7d-401c-a700-9e4065f2636f",
   "metadata": {},
   "outputs": [
    {
     "data": {
      "text/plain": [
       "<__main__.B at 0x7fd465b2b4f0>"
      ]
     },
     "execution_count": 143,
     "metadata": {},
     "output_type": "execute_result"
    }
   ],
   "source": [
    "obj3"
   ]
  },
  {
   "cell_type": "code",
   "execution_count": 133,
   "id": "149632e1-6b72-4bda-8e50-ee5593e59d76",
   "metadata": {},
   "outputs": [],
   "source": [
    "class c:\n",
    "    def __init__(self):\n",
    "        pass\n",
    "    def show(self):\n",
    "        print(\"hey\")"
   ]
  },
  {
   "cell_type": "code",
   "execution_count": 134,
   "id": "e8bbb1be-41fb-4fab-b710-74a8f6533215",
   "metadata": {},
   "outputs": [],
   "source": [
    "obj1=c()"
   ]
  },
  {
   "cell_type": "code",
   "execution_count": 135,
   "id": "8768b420-4759-44a3-b367-a0c603848203",
   "metadata": {},
   "outputs": [
    {
     "name": "stdout",
     "output_type": "stream",
     "text": [
      "<__main__.c object at 0x7fd465b29690>\n"
     ]
    }
   ],
   "source": [
    "print(obj1)"
   ]
  },
  {
   "cell_type": "code",
   "execution_count": 1,
   "id": "944aef54-a258-4d91-a27b-2c530712109c",
   "metadata": {},
   "outputs": [
    {
     "name": "stdout",
     "output_type": "stream",
     "text": [
      "100 10\n"
     ]
    }
   ],
   "source": [
    "a =10 \n",
    "b =100\n",
    "a, b = b,a\n",
    "print(a,b)"
   ]
  },
  {
   "cell_type": "code",
   "execution_count": 10,
   "id": "72f86247",
   "metadata": {},
   "outputs": [
    {
     "data": {
      "text/plain": [
       "array.array"
      ]
     },
     "execution_count": 10,
     "metadata": {},
     "output_type": "execute_result"
    }
   ],
   "source": []
  },
  {
   "cell_type": "code",
   "execution_count": null,
   "id": "3c2491e9",
   "metadata": {},
   "outputs": [],
   "source": []
  }
 ],
 "metadata": {
  "kernelspec": {
   "display_name": "Python 3 (ipykernel)",
   "language": "python",
   "name": "python3"
  },
  "language_info": {
   "codemirror_mode": {
    "name": "ipython",
    "version": 3
   },
   "file_extension": ".py",
   "mimetype": "text/x-python",
   "name": "python",
   "nbconvert_exporter": "python",
   "pygments_lexer": "ipython3",
   "version": "3.11.3"
  }
 },
 "nbformat": 4,
 "nbformat_minor": 5
}
