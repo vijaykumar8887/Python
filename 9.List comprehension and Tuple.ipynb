{
 "cells": [
  {
   "cell_type": "code",
   "execution_count": 1,
   "id": "3ad08f84-2303-4d60-b34a-c141b576209b",
   "metadata": {},
   "outputs": [],
   "source": [
    "mylist=[1,2,3,4,5]"
   ]
  },
  {
   "cell_type": "code",
   "execution_count": 2,
   "id": "aa7893cc-01b9-4d0b-9e8f-deb3c152f926",
   "metadata": {},
   "outputs": [],
   "source": [
    "mylist2=[1,\"hello\",2.5]"
   ]
  },
  {
   "cell_type": "markdown",
   "id": "20905542-bdd7-431e-abe5-536ef669af97",
   "metadata": {},
   "source": [
    "# List comprehension"
   ]
  },
  {
   "cell_type": "code",
   "execution_count": null,
   "id": "3cccf9a0-976c-42d2-9617-ce4c88d91f45",
   "metadata": {},
   "outputs": [],
   "source": [
    "list_comp=[X for x in iterable <test_condition>]"
   ]
  },
  {
   "cell_type": "code",
   "execution_count": null,
   "id": "bdd68da6-c288-48de-a683-d8a54f1e5746",
   "metadata": {},
   "outputs": [],
   "source": [
    "iterable:\n",
    "list\n",
    "tuple\n",
    "dict\n",
    "set\n",
    "string"
   ]
  },
  {
   "cell_type": "code",
   "execution_count": 5,
   "id": "776261b2-2b59-4e2a-ba87-2760e9b828b5",
   "metadata": {},
   "outputs": [],
   "source": [
    "my_string=\"sunny savita\""
   ]
  },
  {
   "cell_type": "code",
   "execution_count": 3,
   "id": "38b1107f-b93b-4cb4-b21e-371cdf7e65f8",
   "metadata": {},
   "outputs": [],
   "source": [
    "my_list=[]"
   ]
  },
  {
   "cell_type": "code",
   "execution_count": 6,
   "id": "ca8c30a0-3291-40ce-bdd3-a0a19cf046c8",
   "metadata": {},
   "outputs": [],
   "source": [
    "for i in my_string:\n",
    "    my_list.append(i)"
   ]
  },
  {
   "cell_type": "code",
   "execution_count": 7,
   "id": "cc5be4a3-e8c5-4bf7-a18c-10965883043e",
   "metadata": {},
   "outputs": [
    {
     "data": {
      "text/plain": [
       "['s', 'u', 'n', 'n', 'y', ' ', 's', 'a', 'v', 'i', 't', 'a']"
      ]
     },
     "execution_count": 7,
     "metadata": {},
     "output_type": "execute_result"
    }
   ],
   "source": [
    "my_list"
   ]
  },
  {
   "cell_type": "code",
   "execution_count": 8,
   "id": "c218967d-2490-46bb-ad45-3181f4cb3304",
   "metadata": {},
   "outputs": [
    {
     "data": {
      "text/plain": [
       "['s', 'u', 'n', 'n', 'y', ' ', 's', 'a', 'v', 'i', 't', 'a']"
      ]
     },
     "execution_count": 8,
     "metadata": {},
     "output_type": "execute_result"
    }
   ],
   "source": [
    "[x for x in my_string]"
   ]
  },
  {
   "cell_type": "markdown",
   "id": "2bc2dc0e-58a5-4500-8fc3-b21743ae2fe9",
   "metadata": {},
   "source": [
    "# wap to produce squre of nos from 1 to 10, store them in a list and print the list."
   ]
  },
  {
   "cell_type": "code",
   "execution_count": null,
   "id": "fe55b204-2ea8-49b5-abfe-3a648c1ea98b",
   "metadata": {},
   "outputs": [],
   "source": [
    "do write this code\n",
    "1. using for loop\n",
    "2. using list comprehension"
   ]
  },
  {
   "cell_type": "code",
   "execution_count": 10,
   "id": "a5bc8f61-3475-4499-81b2-4915ac7f9da6",
   "metadata": {},
   "outputs": [],
   "source": [
    "mylist=[]\n",
    "for x in range(1,11):\n",
    "    #print(x)\n",
    "    mylist.append(x**2)"
   ]
  },
  {
   "cell_type": "code",
   "execution_count": 11,
   "id": "7cbb0639-eb9e-4867-8610-dc6f392fd298",
   "metadata": {},
   "outputs": [
    {
     "data": {
      "text/plain": [
       "[1, 4, 9, 16, 25, 36, 49, 64, 81, 100]"
      ]
     },
     "execution_count": 11,
     "metadata": {},
     "output_type": "execute_result"
    }
   ],
   "source": [
    "mylist"
   ]
  },
  {
   "cell_type": "code",
   "execution_count": 12,
   "id": "662ae679-50ed-42ad-8419-641a46b3c9fe",
   "metadata": {},
   "outputs": [
    {
     "data": {
      "text/plain": [
       "[1, 4, 9, 16, 25, 36, 49, 64, 81, 100]"
      ]
     },
     "execution_count": 12,
     "metadata": {},
     "output_type": "execute_result"
    }
   ],
   "source": [
    "[x**2 for x in range(1,11)]"
   ]
  },
  {
   "cell_type": "code",
   "execution_count": 2,
   "id": "1b029ca4",
   "metadata": {},
   "outputs": [
    {
     "name": "stdout",
     "output_type": "stream",
     "text": [
      "[[0, 1, 2], [0, 1, 2], [0, 1, 2], [0, 1, 2]]\n"
     ]
    }
   ],
   "source": [
    "matrix = [[j for j in range(3)] for i in range(4)]\n",
    "\n",
    "print(matrix)\n"
   ]
  },
  {
   "cell_type": "markdown",
   "id": "a49a8322-852d-438e-9e80-3a16261a8063",
   "metadata": {},
   "source": [
    "# wap to accpet a string from user and covert each word of the gievn string into upper case store it ina list and print that list."
   ]
  },
  {
   "cell_type": "code",
   "execution_count": null,
   "id": "5526ebeb-9e79-44d2-ad6d-c29f9c6a15c9",
   "metadata": {},
   "outputs": [],
   "source": [
    "upper()"
   ]
  },
  {
   "cell_type": "code",
   "execution_count": 14,
   "id": "7ad5670e-f676-46c8-93ec-b33137311a89",
   "metadata": {},
   "outputs": [
    {
     "data": {
      "text/plain": [
       "'do write your code\\n1. using for loop\\n2. list comprehension'"
      ]
     },
     "execution_count": 14,
     "metadata": {},
     "output_type": "execute_result"
    }
   ],
   "source": [
    "\"\"\"do write your code\n",
    "1. using for loop\n",
    "2. list comprehension\"\"\""
   ]
  },
  {
   "cell_type": "code",
   "execution_count": 16,
   "id": "572e1711-73fa-423e-962e-0d0339d64f2e",
   "metadata": {},
   "outputs": [
    {
     "name": "stdin",
     "output_type": "stream",
     "text": [
      "enter the name sunny savita\n"
     ]
    },
    {
     "name": "stdout",
     "output_type": "stream",
     "text": [
      "['S', 'U', 'N', 'N', 'Y', ' ', 'S', 'A', 'V', 'I', 'T', 'A']\n"
     ]
    }
   ],
   "source": [
    "mystring=input(\"enter the name\")\n",
    "mylist=[]\n",
    "for x in mystring:\n",
    "    mylist.append(x.upper())\n",
    "print(mylist)"
   ]
  },
  {
   "cell_type": "code",
   "execution_count": 2,
   "id": "88a05446-a6e1-41b9-b491-cea1ca4ed000",
   "metadata": {},
   "outputs": [
    {
     "name": "stdout",
     "output_type": "stream",
     "text": [
      "enter the namesurya\n"
     ]
    },
    {
     "data": {
      "text/plain": [
       "['S', 'U', 'R', 'Y', 'A']"
      ]
     },
     "execution_count": 2,
     "metadata": {},
     "output_type": "execute_result"
    }
   ],
   "source": [
    "mystring=input(\"enter the name\")\n",
    "[x.upper()for x in mystring]"
   ]
  },
  {
   "cell_type": "code",
   "execution_count": 18,
   "id": "3ff99791-c48f-43ad-8abe-2d2f648cfce0",
   "metadata": {},
   "outputs": [
    {
     "data": {
      "text/plain": [
       "['sunny', 'savita']"
      ]
     },
     "execution_count": 18,
     "metadata": {},
     "output_type": "execute_result"
    }
   ],
   "source": [
    "\"sunny savita\".split()"
   ]
  },
  {
   "cell_type": "code",
   "execution_count": 19,
   "id": "f764c999-41df-447d-850e-5b8baff9ceab",
   "metadata": {},
   "outputs": [
    {
     "data": {
      "text/plain": [
       "['SUNNY', 'SAVITA']"
      ]
     },
     "execution_count": 19,
     "metadata": {},
     "output_type": "execute_result"
    }
   ],
   "source": [
    "[x.upper() for x in mystring.split()]"
   ]
  },
  {
   "cell_type": "markdown",
   "id": "0a15317f-03b7-4a05-b0bb-0da17dda8467",
   "metadata": {},
   "source": [
    "# wap to accept 5 int from user and store then in a list, now display the sum of element and the element of list"
   ]
  },
  {
   "cell_type": "code",
   "execution_count": 28,
   "id": "637abcb6-adfa-499c-a634-f7deaa215b57",
   "metadata": {},
   "outputs": [
    {
     "name": "stdin",
     "output_type": "stream",
     "text": [
      "enter 5 interger: 1 2 3 4 5\n"
     ]
    },
    {
     "name": "stdout",
     "output_type": "stream",
     "text": [
      "[1, 2, 3, 4, 5]\n",
      "15\n"
     ]
    }
   ],
   "source": [
    "mylist=[]\n",
    "number=input(\"enter 5 interger:\")\n",
    "for x in number.split():\n",
    "    mylist.append(int(x))\n",
    "print(mylist)\n",
    "print(sum(mylist))"
   ]
  },
  {
   "cell_type": "code",
   "execution_count": 21,
   "id": "ebfad9bf-8142-4960-a64c-1c4d9710d480",
   "metadata": {},
   "outputs": [
    {
     "data": {
      "text/plain": [
       "'1 2 3 4 5'"
      ]
     },
     "execution_count": 21,
     "metadata": {},
     "output_type": "execute_result"
    }
   ],
   "source": [
    "number"
   ]
  },
  {
   "cell_type": "code",
   "execution_count": 22,
   "id": "951d2201-f313-4932-89f9-699199805772",
   "metadata": {},
   "outputs": [
    {
     "data": {
      "text/plain": [
       "['1', '2', '3', '4', '5']"
      ]
     },
     "execution_count": 22,
     "metadata": {},
     "output_type": "execute_result"
    }
   ],
   "source": [
    "number.split()"
   ]
  },
  {
   "cell_type": "code",
   "execution_count": 24,
   "id": "88623fb9-81bf-475e-bf00-ab23c6bbc451",
   "metadata": {},
   "outputs": [
    {
     "data": {
      "text/plain": [
       "['1', '2', '3', '4', '5']"
      ]
     },
     "execution_count": 24,
     "metadata": {},
     "output_type": "execute_result"
    }
   ],
   "source": [
    "\"1,2,3,4,5\".split(\",\")"
   ]
  },
  {
   "cell_type": "code",
   "execution_count": 25,
   "id": "a9971c00-e23a-4431-be07-e61223d96462",
   "metadata": {},
   "outputs": [
    {
     "data": {
      "text/plain": [
       "['sunny', 'savita']"
      ]
     },
     "execution_count": 25,
     "metadata": {},
     "output_type": "execute_result"
    }
   ],
   "source": [
    "\"sunny#savita\".split(\"#\")"
   ]
  },
  {
   "cell_type": "code",
   "execution_count": 26,
   "id": "e3a23c1c-65de-48ae-98b5-d92db9672d7d",
   "metadata": {},
   "outputs": [
    {
     "data": {
      "text/plain": [
       "['1', '2', '3', '4', '5']"
      ]
     },
     "execution_count": 26,
     "metadata": {},
     "output_type": "execute_result"
    }
   ],
   "source": [
    "\"1-2-3-4-5\".split(\"-\")"
   ]
  },
  {
   "cell_type": "markdown",
   "id": "0041b8e4-6d6f-4601-9fed-b1872a892bb0",
   "metadata": {},
   "source": [
    "# wap to produce squre of only odd nos between 1 to 50, store them in a list and print the list.\n",
    "\n",
    "# 1. for loop\n",
    "# 2. list comprehension"
   ]
  },
  {
   "cell_type": "code",
   "execution_count": 29,
   "id": "aa562e4d-a1b1-4e04-abb5-f2a3780aca88",
   "metadata": {},
   "outputs": [
    {
     "data": {
      "text/plain": [
       "[1,\n",
       " 2,\n",
       " 3,\n",
       " 4,\n",
       " 5,\n",
       " 6,\n",
       " 7,\n",
       " 8,\n",
       " 9,\n",
       " 10,\n",
       " 11,\n",
       " 12,\n",
       " 13,\n",
       " 14,\n",
       " 15,\n",
       " 16,\n",
       " 17,\n",
       " 18,\n",
       " 19,\n",
       " 20,\n",
       " 21,\n",
       " 22,\n",
       " 23,\n",
       " 24,\n",
       " 25,\n",
       " 26,\n",
       " 27,\n",
       " 28,\n",
       " 29,\n",
       " 30,\n",
       " 31,\n",
       " 32,\n",
       " 33,\n",
       " 34,\n",
       " 35,\n",
       " 36,\n",
       " 37,\n",
       " 38,\n",
       " 39,\n",
       " 40,\n",
       " 41,\n",
       " 42,\n",
       " 43,\n",
       " 44,\n",
       " 45,\n",
       " 46,\n",
       " 47,\n",
       " 48,\n",
       " 49,\n",
       " 50]"
      ]
     },
     "execution_count": 29,
     "metadata": {},
     "output_type": "execute_result"
    }
   ],
   "source": [
    "list(range(1,51))"
   ]
  },
  {
   "cell_type": "code",
   "execution_count": 30,
   "id": "ed19a098-88e9-405f-8aad-6aa8e3899e7f",
   "metadata": {},
   "outputs": [],
   "source": [
    "aa=[]\n",
    "for i in range(1,51):\n",
    "    if i%2!=0:\n",
    "        aa.append(i**2)"
   ]
  },
  {
   "cell_type": "code",
   "execution_count": 31,
   "id": "4117c8d9-205d-40b6-bb44-f0de7e381847",
   "metadata": {},
   "outputs": [
    {
     "data": {
      "text/plain": [
       "[1,\n",
       " 9,\n",
       " 25,\n",
       " 49,\n",
       " 81,\n",
       " 121,\n",
       " 169,\n",
       " 225,\n",
       " 289,\n",
       " 361,\n",
       " 441,\n",
       " 529,\n",
       " 625,\n",
       " 729,\n",
       " 841,\n",
       " 961,\n",
       " 1089,\n",
       " 1225,\n",
       " 1369,\n",
       " 1521,\n",
       " 1681,\n",
       " 1849,\n",
       " 2025,\n",
       " 2209,\n",
       " 2401]"
      ]
     },
     "execution_count": 31,
     "metadata": {},
     "output_type": "execute_result"
    }
   ],
   "source": [
    "aa"
   ]
  },
  {
   "cell_type": "code",
   "execution_count": 32,
   "id": "4ed433cf-8547-4de3-ade9-7cdda09c26b4",
   "metadata": {},
   "outputs": [
    {
     "data": {
      "text/plain": [
       "[1,\n",
       " 9,\n",
       " 25,\n",
       " 49,\n",
       " 81,\n",
       " 121,\n",
       " 169,\n",
       " 225,\n",
       " 289,\n",
       " 361,\n",
       " 441,\n",
       " 529,\n",
       " 625,\n",
       " 729,\n",
       " 841,\n",
       " 961,\n",
       " 1089,\n",
       " 1225,\n",
       " 1369,\n",
       " 1521,\n",
       " 1681,\n",
       " 1849,\n",
       " 2025,\n",
       " 2209,\n",
       " 2401]"
      ]
     },
     "execution_count": 32,
     "metadata": {},
     "output_type": "execute_result"
    }
   ],
   "source": [
    "[i**2 for i in range(1,51) if i%2!=0]\n"
   ]
  },
  {
   "cell_type": "code",
   "execution_count": null,
   "id": "607349b9-5fe4-46a3-a25e-95856e52a10b",
   "metadata": {},
   "outputs": [],
   "source": [
    "list1to50  = range(1,51)\n",
    "\n",
    "for x in list1to50:\n",
    "    if x %2 != 0:\n",
    "        print(x**2)\n",
    "list1to50  = range(1,51)\n",
    "\n",
    "\n",
    "[x**2 for x in list1to50 if x %2 != 0 ]\n"
   ]
  },
  {
   "cell_type": "code",
   "execution_count": null,
   "id": "2daf13f1-0c80-43a8-bf51-0c0eef035f56",
   "metadata": {},
   "outputs": [],
   "source": [
    "sqList = list()\n",
    "for i in range(1,51):\n",
    "    if i%2!=0:\n",
    "        sqList.append(i**2)\n",
    "print(sqList)\n",
    "\n",
    "[i**2 for i in range(1,51) if i%2!=0]\n"
   ]
  },
  {
   "cell_type": "code",
   "execution_count": 33,
   "id": "4b3a8673-eead-45b5-828c-380a34adec8b",
   "metadata": {},
   "outputs": [
    {
     "name": "stdin",
     "output_type": "stream",
     "text": [
      " 1\n",
      " 2\n",
      " 3\n",
      " 4\n",
      " 5\n"
     ]
    }
   ],
   "source": [
    "mylist=[]\n",
    "for i in range(0,5):\n",
    "    number=int(input())\n",
    "    mylist.append(number)"
   ]
  },
  {
   "cell_type": "code",
   "execution_count": 34,
   "id": "af45708d-5ead-4a1f-8cb8-9877a38e173f",
   "metadata": {},
   "outputs": [
    {
     "data": {
      "text/plain": [
       "[1, 2, 3, 4, 5]"
      ]
     },
     "execution_count": 34,
     "metadata": {},
     "output_type": "execute_result"
    }
   ],
   "source": [
    "mylist"
   ]
  },
  {
   "cell_type": "code",
   "execution_count": 35,
   "id": "93f7a526-860e-4a84-ad7e-f4209cd86c11",
   "metadata": {},
   "outputs": [
    {
     "name": "stdin",
     "output_type": "stream",
     "text": [
      "enter 5 number with whitespace 1 2 3 4 5\n"
     ]
    },
    {
     "data": {
      "text/plain": [
       "['1', '2', '3', '4', '5']"
      ]
     },
     "execution_count": 35,
     "metadata": {},
     "output_type": "execute_result"
    }
   ],
   "source": [
    "input(\"enter 5 number with whitespace\").split()"
   ]
  },
  {
   "cell_type": "code",
   "execution_count": null,
   "id": "2f598598-fea4-4904-afe1-3d55044e3482",
   "metadata": {},
   "outputs": [],
   "source": [
    "itrabale: list,tuple,string,dict,set,range()\n",
    "\n",
    "[x for x in itrable <test_condition>]\n",
    "\n",
    "for reduce the code complexity\n",
    "for reduce the time and space complexity\n",
    "better use of this list comprehension with lambda function map function and filer function and reduce function"
   ]
  },
  {
   "cell_type": "markdown",
   "id": "b584977e-fd77-4c0c-958b-315eb078fd78",
   "metadata": {},
   "source": [
    "# create a function called removevowels() which accept a string as argument and return a list with all the vowels removed from the string\n",
    "\n",
    "# 1. for loop\n",
    "# 2. list comprehension"
   ]
  },
  {
   "cell_type": "markdown",
   "id": "cd7f53f6-c5a1-406c-9476-88c034602a9b",
   "metadata": {},
   "source": [
    "# tuple"
   ]
  },
  {
   "cell_type": "code",
   "execution_count": 36,
   "id": "151db1fa-87fe-4650-a3d8-939a70d7acb2",
   "metadata": {},
   "outputs": [],
   "source": [
    "mytuple=()"
   ]
  },
  {
   "cell_type": "code",
   "execution_count": 37,
   "id": "0c1c3e5b-fa45-479f-b026-18d467a3aebf",
   "metadata": {},
   "outputs": [
    {
     "data": {
      "text/plain": [
       "()"
      ]
     },
     "execution_count": 37,
     "metadata": {},
     "output_type": "execute_result"
    }
   ],
   "source": [
    "mytuple"
   ]
  },
  {
   "cell_type": "code",
   "execution_count": 38,
   "id": "11b912bd-fdf1-4e71-a024-215bcbdec8dc",
   "metadata": {},
   "outputs": [],
   "source": [
    "mytuple=(1,2,3,45,45,6,7)"
   ]
  },
  {
   "cell_type": "code",
   "execution_count": 39,
   "id": "7a88e755-80cc-4be3-8fd8-8a89eb7b3b22",
   "metadata": {},
   "outputs": [
    {
     "data": {
      "text/plain": [
       "(1, 2, 3, 45, 45, 6, 7)"
      ]
     },
     "execution_count": 39,
     "metadata": {},
     "output_type": "execute_result"
    }
   ],
   "source": [
    "mytuple"
   ]
  },
  {
   "cell_type": "code",
   "execution_count": 40,
   "id": "5989d4d1-ee0e-4f74-a95c-8eb521d48d55",
   "metadata": {},
   "outputs": [],
   "source": [
    "mytuple=(1,\"sunny\",10.7,True,2+3j)"
   ]
  },
  {
   "cell_type": "code",
   "execution_count": 41,
   "id": "b3671b82-7a8d-43c9-9b18-e19bb06e5bce",
   "metadata": {},
   "outputs": [
    {
     "data": {
      "text/plain": [
       "(1, 'sunny', 10.7, True, (2+3j))"
      ]
     },
     "execution_count": 41,
     "metadata": {},
     "output_type": "execute_result"
    }
   ],
   "source": [
    "mytuple"
   ]
  },
  {
   "cell_type": "code",
   "execution_count": 42,
   "id": "c0c4357e-eeec-4254-b508-1813244c37ed",
   "metadata": {},
   "outputs": [
    {
     "data": {
      "text/plain": [
       "tuple"
      ]
     },
     "execution_count": 42,
     "metadata": {},
     "output_type": "execute_result"
    }
   ],
   "source": [
    "type(mytuple)"
   ]
  },
  {
   "cell_type": "code",
   "execution_count": 46,
   "id": "6f209082-1eee-4940-a7ca-2f6c92b360c1",
   "metadata": {},
   "outputs": [],
   "source": [
    "mytuple=(10,0)"
   ]
  },
  {
   "cell_type": "code",
   "execution_count": 51,
   "id": "c79649fd-2583-4e03-b953-297886859270",
   "metadata": {},
   "outputs": [],
   "source": [
    "mytuple2=(10,)"
   ]
  },
  {
   "cell_type": "code",
   "execution_count": 48,
   "id": "0807bf78-ad92-43ec-9664-10118d460fad",
   "metadata": {},
   "outputs": [
    {
     "data": {
      "text/plain": [
       "(10, 0)"
      ]
     },
     "execution_count": 48,
     "metadata": {},
     "output_type": "execute_result"
    }
   ],
   "source": [
    "mytuple"
   ]
  },
  {
   "cell_type": "code",
   "execution_count": 52,
   "id": "111694c9-d9b7-4d1d-be8b-6b9c74b53a89",
   "metadata": {},
   "outputs": [
    {
     "data": {
      "text/plain": [
       "tuple"
      ]
     },
     "execution_count": 52,
     "metadata": {},
     "output_type": "execute_result"
    }
   ],
   "source": [
    "type(mytuple2)"
   ]
  },
  {
   "cell_type": "code",
   "execution_count": 55,
   "id": "97ad989e-538d-428b-9024-c991dedab609",
   "metadata": {},
   "outputs": [],
   "source": [
    "mytuple=(\"sunny\",)"
   ]
  },
  {
   "cell_type": "code",
   "execution_count": 56,
   "id": "e1de09f3-1245-4499-bb11-80f27f681c3a",
   "metadata": {},
   "outputs": [
    {
     "data": {
      "text/plain": [
       "tuple"
      ]
     },
     "execution_count": 56,
     "metadata": {},
     "output_type": "execute_result"
    }
   ],
   "source": [
    "type(mytuple)"
   ]
  },
  {
   "cell_type": "code",
   "execution_count": 57,
   "id": "3380d105-e247-44af-8cbe-4f104d1dae70",
   "metadata": {},
   "outputs": [],
   "source": [
    "#concept of packing and unpacking\n",
    "a=1,2,3,4"
   ]
  },
  {
   "cell_type": "code",
   "execution_count": 58,
   "id": "b14d85cc-a4f6-4b42-b4cb-91444c8d31ee",
   "metadata": {},
   "outputs": [
    {
     "data": {
      "text/plain": [
       "(1, 2, 3, 4)"
      ]
     },
     "execution_count": 58,
     "metadata": {},
     "output_type": "execute_result"
    }
   ],
   "source": [
    "a"
   ]
  },
  {
   "cell_type": "code",
   "execution_count": 59,
   "id": "735bd520-d955-44cc-9fbe-36e9c07fd1f2",
   "metadata": {},
   "outputs": [],
   "source": [
    "x,y,z,h=a"
   ]
  },
  {
   "cell_type": "code",
   "execution_count": 60,
   "id": "938dc81c-4d98-40ad-b329-478871a60ce3",
   "metadata": {},
   "outputs": [
    {
     "data": {
      "text/plain": [
       "1"
      ]
     },
     "execution_count": 60,
     "metadata": {},
     "output_type": "execute_result"
    }
   ],
   "source": [
    "x"
   ]
  },
  {
   "cell_type": "code",
   "execution_count": 61,
   "id": "070725ca-e2f0-45bb-ac23-7e448f5e366a",
   "metadata": {},
   "outputs": [
    {
     "data": {
      "text/plain": [
       "2"
      ]
     },
     "execution_count": 61,
     "metadata": {},
     "output_type": "execute_result"
    }
   ],
   "source": [
    "y"
   ]
  },
  {
   "cell_type": "code",
   "execution_count": 62,
   "id": "04f4e110-38fd-4301-b883-8f28eb61d826",
   "metadata": {},
   "outputs": [
    {
     "data": {
      "text/plain": [
       "3"
      ]
     },
     "execution_count": 62,
     "metadata": {},
     "output_type": "execute_result"
    }
   ],
   "source": [
    "z"
   ]
  },
  {
   "cell_type": "code",
   "execution_count": 63,
   "id": "811662c4-eb3d-4361-9f64-4dd25dcd2598",
   "metadata": {},
   "outputs": [
    {
     "data": {
      "text/plain": [
       "4"
      ]
     },
     "execution_count": 63,
     "metadata": {},
     "output_type": "execute_result"
    }
   ],
   "source": [
    "h"
   ]
  },
  {
   "cell_type": "code",
   "execution_count": 64,
   "id": "b7975496-c129-4deb-a8d6-32416cf05d10",
   "metadata": {},
   "outputs": [],
   "source": [
    "a=[1,2,3,4,5]"
   ]
  },
  {
   "cell_type": "code",
   "execution_count": 65,
   "id": "f2281d62-751e-493d-9bc4-fa81b3c6f10b",
   "metadata": {},
   "outputs": [],
   "source": [
    "x,y,z,e,f=a"
   ]
  },
  {
   "cell_type": "code",
   "execution_count": 66,
   "id": "314f01d7-4ce5-451d-ad02-42bc8ca4d811",
   "metadata": {},
   "outputs": [
    {
     "data": {
      "text/plain": [
       "1"
      ]
     },
     "execution_count": 66,
     "metadata": {},
     "output_type": "execute_result"
    }
   ],
   "source": [
    "x"
   ]
  },
  {
   "cell_type": "code",
   "execution_count": 67,
   "id": "3c98e96b-228a-42a7-9f71-a90e2c19e9f8",
   "metadata": {},
   "outputs": [
    {
     "data": {
      "text/plain": [
       "2"
      ]
     },
     "execution_count": 67,
     "metadata": {},
     "output_type": "execute_result"
    }
   ],
   "source": [
    "y"
   ]
  },
  {
   "cell_type": "code",
   "execution_count": 68,
   "id": "89696332-ace6-4b92-ae03-aea00121f9e7",
   "metadata": {},
   "outputs": [
    {
     "data": {
      "text/plain": [
       "3"
      ]
     },
     "execution_count": 68,
     "metadata": {},
     "output_type": "execute_result"
    }
   ],
   "source": [
    "z"
   ]
  },
  {
   "cell_type": "code",
   "execution_count": 69,
   "id": "5af95c67-14af-42d1-bf7f-184257c4679b",
   "metadata": {},
   "outputs": [
    {
     "data": {
      "text/plain": [
       "4"
      ]
     },
     "execution_count": 69,
     "metadata": {},
     "output_type": "execute_result"
    }
   ],
   "source": [
    "e"
   ]
  },
  {
   "cell_type": "code",
   "execution_count": 70,
   "id": "e376c01e-be38-4916-b1aa-9e47d4a4f8c7",
   "metadata": {},
   "outputs": [
    {
     "data": {
      "text/plain": [
       "5"
      ]
     },
     "execution_count": 70,
     "metadata": {},
     "output_type": "execute_result"
    }
   ],
   "source": [
    "f"
   ]
  },
  {
   "cell_type": "code",
   "execution_count": 71,
   "id": "1ec4a8dd-06d9-4f57-8a7f-fa5d2f362460",
   "metadata": {},
   "outputs": [],
   "source": [
    "mytuple=(1,2,43,54,657,67,4,46,567,6)"
   ]
  },
  {
   "cell_type": "code",
   "execution_count": 72,
   "id": "f0ce7eb6-dd1a-4e4c-983e-9e57097f8d6e",
   "metadata": {},
   "outputs": [
    {
     "name": "stdout",
     "output_type": "stream",
     "text": [
      "(1, 2, 43, 54, 657, 67, 4, 46, 567, 6)\n"
     ]
    }
   ],
   "source": [
    "print(mytuple)"
   ]
  },
  {
   "cell_type": "code",
   "execution_count": 73,
   "id": "cf1c7379-6706-41b5-9bd9-8cd7d417a506",
   "metadata": {},
   "outputs": [
    {
     "data": {
      "text/plain": [
       "67"
      ]
     },
     "execution_count": 73,
     "metadata": {},
     "output_type": "execute_result"
    }
   ],
   "source": [
    "mytuple[5]"
   ]
  },
  {
   "cell_type": "code",
   "execution_count": 74,
   "id": "ca8be315-4649-40c4-8e65-eaa0f1c5223a",
   "metadata": {},
   "outputs": [
    {
     "data": {
      "text/plain": [
       "567"
      ]
     },
     "execution_count": 74,
     "metadata": {},
     "output_type": "execute_result"
    }
   ],
   "source": [
    "mytuple[8]"
   ]
  },
  {
   "cell_type": "code",
   "execution_count": 75,
   "id": "ce8b3978-3987-402c-979a-c23158417a1e",
   "metadata": {},
   "outputs": [
    {
     "data": {
      "text/plain": [
       "567"
      ]
     },
     "execution_count": 75,
     "metadata": {},
     "output_type": "execute_result"
    }
   ],
   "source": [
    "mytuple[-2]"
   ]
  },
  {
   "cell_type": "code",
   "execution_count": 76,
   "id": "798c7c58-ee57-44d1-8f60-89cfb61ac2cc",
   "metadata": {},
   "outputs": [
    {
     "data": {
      "text/plain": [
       "67"
      ]
     },
     "execution_count": 76,
     "metadata": {},
     "output_type": "execute_result"
    }
   ],
   "source": [
    "mytuple[-5]"
   ]
  },
  {
   "cell_type": "code",
   "execution_count": 77,
   "id": "750f9018-a742-4822-bbe4-d287681094eb",
   "metadata": {},
   "outputs": [
    {
     "data": {
      "text/plain": [
       "(657, 67, 4)"
      ]
     },
     "execution_count": 77,
     "metadata": {},
     "output_type": "execute_result"
    }
   ],
   "source": [
    "mytuple[4:7]"
   ]
  },
  {
   "cell_type": "code",
   "execution_count": 78,
   "id": "037d1087-8907-4b3a-93d5-b4d8896dc4c8",
   "metadata": {},
   "outputs": [
    {
     "name": "stdout",
     "output_type": "stream",
     "text": [
      "(20, 30, 40)\n"
     ]
    }
   ],
   "source": [
    "mynums=(10,20,30,40,50)\n",
    "print(mynums[1:4])"
   ]
  },
  {
   "cell_type": "code",
   "execution_count": 79,
   "id": "86544153-95db-4546-81b5-d558ba2f1beb",
   "metadata": {},
   "outputs": [
    {
     "name": "stdout",
     "output_type": "stream",
     "text": [
      "(10, 20, 30, 40, 50)\n"
     ]
    }
   ],
   "source": [
    "mynums=(10,20,30, 40,50)\n",
    "print(mynums[0:10])"
   ]
  },
  {
   "cell_type": "code",
   "execution_count": 80,
   "id": "32b5d4c1-85b0-4bb2-bdf5-7d6baed72f8d",
   "metadata": {},
   "outputs": [
    {
     "name": "stdout",
     "output_type": "stream",
     "text": [
      "(10, 20, 30)\n"
     ]
    }
   ],
   "source": [
    "Mynums=(10,20,30,40,50)\n",
    "print(mynums[ :-2])"
   ]
  },
  {
   "cell_type": "code",
   "execution_count": 81,
   "id": "9ad65970-51ab-444c-99e3-c3566b959abd",
   "metadata": {},
   "outputs": [
    {
     "name": "stdout",
     "output_type": "stream",
     "text": [
      "(50, 40, 30)\n"
     ]
    }
   ],
   "source": [
    "mynums=(10,20,30, 40,50)\n",
    "print(mynums[4:1:-1])"
   ]
  },
  {
   "cell_type": "code",
   "execution_count": 82,
   "id": "29f91a2d-2c3a-4f6e-ae8e-fe61f4a5555b",
   "metadata": {},
   "outputs": [
    {
     "data": {
      "text/plain": [
       "(1, 2, 43, 54, 657, 67, 4, 46, 567, 6)"
      ]
     },
     "execution_count": 82,
     "metadata": {},
     "output_type": "execute_result"
    }
   ],
   "source": [
    "mytuple"
   ]
  },
  {
   "cell_type": "code",
   "execution_count": 84,
   "id": "96203594-e5b0-42cc-8591-837402788388",
   "metadata": {},
   "outputs": [
    {
     "data": {
      "text/plain": [
       "54"
      ]
     },
     "execution_count": 84,
     "metadata": {},
     "output_type": "execute_result"
    }
   ],
   "source": [
    "mytuple[3]"
   ]
  },
  {
   "cell_type": "code",
   "execution_count": 85,
   "id": "bab4bdd7-2983-45f2-9e98-4ad38d1f9098",
   "metadata": {},
   "outputs": [
    {
     "ename": "TypeError",
     "evalue": "'tuple' object does not support item assignment",
     "output_type": "error",
     "traceback": [
      "\u001b[0;31m---------------------------------------------------------------------------\u001b[0m",
      "\u001b[0;31mTypeError\u001b[0m                                 Traceback (most recent call last)",
      "Cell \u001b[0;32mIn [85], line 1\u001b[0m\n\u001b[0;32m----> 1\u001b[0m \u001b[43mmytuple\u001b[49m\u001b[43m[\u001b[49m\u001b[38;5;241;43m3\u001b[39;49m\u001b[43m]\u001b[49m\u001b[38;5;241m=\u001b[39m\u001b[38;5;241m100\u001b[39m\n",
      "\u001b[0;31mTypeError\u001b[0m: 'tuple' object does not support item assignment"
     ]
    }
   ],
   "source": [
    "mytuple[3]=100"
   ]
  },
  {
   "cell_type": "code",
   "execution_count": 91,
   "id": "dedcbd44-ea2e-4148-8dd7-5f89649df8bb",
   "metadata": {},
   "outputs": [],
   "source": [
    "mynums=([1,2],3,4,5,66,7)"
   ]
  },
  {
   "cell_type": "code",
   "execution_count": 93,
   "id": "54ab096b-a9bb-4925-b747-6536d9209f05",
   "metadata": {},
   "outputs": [],
   "source": [
    "mynums[0][1]=100"
   ]
  },
  {
   "cell_type": "code",
   "execution_count": 94,
   "id": "50a0c57d-db40-4ae0-a79e-d7f9e56e9ad1",
   "metadata": {},
   "outputs": [
    {
     "data": {
      "text/plain": [
       "([1, 100], 3, 4, 5, 66, 7)"
      ]
     },
     "execution_count": 94,
     "metadata": {},
     "output_type": "execute_result"
    }
   ],
   "source": [
    "mynums"
   ]
  },
  {
   "cell_type": "code",
   "execution_count": 95,
   "id": "9e2582b3-3fdf-4734-a352-bbdebbdb3cef",
   "metadata": {},
   "outputs": [],
   "source": [
    "mytuple=(100,200,300,400,500)"
   ]
  },
  {
   "cell_type": "code",
   "execution_count": 96,
   "id": "0c2fc2ba-e47a-4ebb-b862-a610f2cc2876",
   "metadata": {},
   "outputs": [],
   "source": [
    "mytuple=(1,2,3,4,5)"
   ]
  },
  {
   "cell_type": "code",
   "execution_count": 97,
   "id": "f71b7bc5-8699-46a7-bffc-034c83c2709b",
   "metadata": {},
   "outputs": [
    {
     "data": {
      "text/plain": [
       "(1, 2, 3, 4, 5)"
      ]
     },
     "execution_count": 97,
     "metadata": {},
     "output_type": "execute_result"
    }
   ],
   "source": [
    "mytuple"
   ]
  },
  {
   "cell_type": "code",
   "execution_count": 98,
   "id": "a0700fd7-c419-4143-b5ee-f9e1aa8ea6fa",
   "metadata": {},
   "outputs": [
    {
     "data": {
      "text/plain": [
       "(1, 2, 3, 4, 5)"
      ]
     },
     "execution_count": 98,
     "metadata": {},
     "output_type": "execute_result"
    }
   ],
   "source": [
    "mytuple"
   ]
  },
  {
   "cell_type": "code",
   "execution_count": 100,
   "id": "b919f06f-a931-469e-8fb5-9d7780aead5e",
   "metadata": {},
   "outputs": [
    {
     "ename": "TypeError",
     "evalue": "'tuple' object doesn't support item deletion",
     "output_type": "error",
     "traceback": [
      "\u001b[0;31m---------------------------------------------------------------------------\u001b[0m",
      "\u001b[0;31mTypeError\u001b[0m                                 Traceback (most recent call last)",
      "Cell \u001b[0;32mIn [100], line 1\u001b[0m\n\u001b[0;32m----> 1\u001b[0m \u001b[38;5;28;01mdel\u001b[39;00m(mytuple[\u001b[38;5;241m3\u001b[39m])\n",
      "\u001b[0;31mTypeError\u001b[0m: 'tuple' object doesn't support item deletion"
     ]
    }
   ],
   "source": [
    "del(mytuple[3])"
   ]
  },
  {
   "cell_type": "code",
   "execution_count": 101,
   "id": "7e4ec23c-66dc-4614-a14b-f54dbf026b7b",
   "metadata": {},
   "outputs": [],
   "source": [
    "del(mytuple)"
   ]
  },
  {
   "cell_type": "code",
   "execution_count": 102,
   "id": "6035fcab-f323-4ba1-be15-74d526e220aa",
   "metadata": {},
   "outputs": [
    {
     "ename": "NameError",
     "evalue": "name 'mytuple' is not defined",
     "output_type": "error",
     "traceback": [
      "\u001b[0;31m---------------------------------------------------------------------------\u001b[0m",
      "\u001b[0;31mNameError\u001b[0m                                 Traceback (most recent call last)",
      "Cell \u001b[0;32mIn [102], line 1\u001b[0m\n\u001b[0;32m----> 1\u001b[0m \u001b[43mmytuple\u001b[49m\n",
      "\u001b[0;31mNameError\u001b[0m: name 'mytuple' is not defined"
     ]
    }
   ],
   "source": [
    "mytuple"
   ]
  },
  {
   "cell_type": "markdown",
   "id": "43704637-9b60-4dd9-9ac0-6a9bf9377e67",
   "metadata": {},
   "source": [
    "# function in tuple\n",
    "\n",
    "len()\n",
    "\n",
    "max()\n",
    "\n",
    "min()\n",
    "\n",
    "sum()\n",
    "\n",
    "sorted()\n",
    "\n",
    "any()\n",
    "\n",
    "all()\n",
    "\n",
    "tuple()"
   ]
  },
  {
   "cell_type": "code",
   "execution_count": 105,
   "id": "20e0b498-fa94-476e-8155-62ca536b42de",
   "metadata": {},
   "outputs": [],
   "source": [
    "mytuple=(1,3,454,56,8,78,45,7,87)"
   ]
  },
  {
   "cell_type": "code",
   "execution_count": 106,
   "id": "b2163bcc-e523-487f-8fae-0925f3332845",
   "metadata": {},
   "outputs": [
    {
     "data": {
      "text/plain": [
       "9"
      ]
     },
     "execution_count": 106,
     "metadata": {},
     "output_type": "execute_result"
    }
   ],
   "source": [
    "len(mytuple)"
   ]
  },
  {
   "cell_type": "code",
   "execution_count": 107,
   "id": "66cd7272-e3a3-40e1-83a6-89c824629970",
   "metadata": {},
   "outputs": [
    {
     "data": {
      "text/plain": [
       "454"
      ]
     },
     "execution_count": 107,
     "metadata": {},
     "output_type": "execute_result"
    }
   ],
   "source": [
    "max(mytuple)"
   ]
  },
  {
   "cell_type": "code",
   "execution_count": 108,
   "id": "80249f3e-3983-465c-b5b7-cef95c0a6a28",
   "metadata": {},
   "outputs": [
    {
     "data": {
      "text/plain": [
       "1"
      ]
     },
     "execution_count": 108,
     "metadata": {},
     "output_type": "execute_result"
    }
   ],
   "source": [
    "min(mytuple)"
   ]
  },
  {
   "cell_type": "code",
   "execution_count": 109,
   "id": "7cfeefdc-a611-44a1-b660-3d54242ee3f6",
   "metadata": {},
   "outputs": [
    {
     "data": {
      "text/plain": [
       "739"
      ]
     },
     "execution_count": 109,
     "metadata": {},
     "output_type": "execute_result"
    }
   ],
   "source": [
    "sum(mytuple)"
   ]
  },
  {
   "cell_type": "code",
   "execution_count": 110,
   "id": "8ece0cc6-c6df-4b10-ba58-0cb6272ed2d8",
   "metadata": {},
   "outputs": [
    {
     "data": {
      "text/plain": [
       "[1, 3, 7, 8, 45, 56, 78, 87, 454]"
      ]
     },
     "execution_count": 110,
     "metadata": {},
     "output_type": "execute_result"
    }
   ],
   "source": [
    "sorted(mytuple)"
   ]
  },
  {
   "cell_type": "code",
   "execution_count": 111,
   "id": "9e98780d-11cf-411d-8420-71732e5cccf6",
   "metadata": {},
   "outputs": [
    {
     "data": {
      "text/plain": [
       "[454, 87, 78, 56, 45, 8, 7, 3, 1]"
      ]
     },
     "execution_count": 111,
     "metadata": {},
     "output_type": "execute_result"
    }
   ],
   "source": [
    "sorted(mytuple,reverse=True)"
   ]
  },
  {
   "cell_type": "code",
   "execution_count": 113,
   "id": "bfeb3f83-656e-4d81-864f-ed20f0b7141c",
   "metadata": {},
   "outputs": [
    {
     "data": {
      "text/plain": [
       "True"
      ]
     },
     "execution_count": 113,
     "metadata": {},
     "output_type": "execute_result"
    }
   ],
   "source": [
    "#atleast one element should be true\n",
    "any(mytuple)"
   ]
  },
  {
   "cell_type": "code",
   "execution_count": 114,
   "id": "8f1c4f14-dfa7-4174-8bd0-634f193867ca",
   "metadata": {},
   "outputs": [
    {
     "data": {
      "text/plain": [
       "True"
      ]
     },
     "execution_count": 114,
     "metadata": {},
     "output_type": "execute_result"
    }
   ],
   "source": [
    "#all element should be true\n",
    "all(mytuple)"
   ]
  },
  {
   "cell_type": "code",
   "execution_count": 115,
   "id": "02258764-96f8-4e8b-936a-f87ba38752ec",
   "metadata": {},
   "outputs": [
    {
     "data": {
      "text/plain": [
       "('s', 'u', 'n', 'n', 'y')"
      ]
     },
     "execution_count": 115,
     "metadata": {},
     "output_type": "execute_result"
    }
   ],
   "source": [
    "tuple(\"sunny\")"
   ]
  },
  {
   "cell_type": "code",
   "execution_count": 116,
   "id": "e500b30b-2929-4011-b1b9-b4024a55ee73",
   "metadata": {},
   "outputs": [
    {
     "data": {
      "text/plain": [
       "(1, 2, 3, 45, 6, 7, 4, 4)"
      ]
     },
     "execution_count": 116,
     "metadata": {},
     "output_type": "execute_result"
    }
   ],
   "source": [
    "tuple([1,2,3,45,6,7,4,4])"
   ]
  },
  {
   "cell_type": "code",
   "execution_count": null,
   "id": "553fff39-fea9-4e60-b755-5de54c3f434e",
   "metadata": {},
   "outputs": [],
   "source": [
    "iterable: iterable is a object on tope that we can iterate \n",
    "1 list\n",
    "2. tuple\n",
    "3. string\n",
    "4. set\n",
    "5. range"
   ]
  },
  {
   "cell_type": "code",
   "execution_count": null,
   "id": "ee067fc3-7fb6-4ae7-b819-629c40bbb8a3",
   "metadata": {},
   "outputs": [],
   "source": [
    "methods for tuple\n",
    "1. append()# it won't work\n",
    "2. extend()# it won't work\n",
    "3. insert()# it won't work\n",
    "4. count()#work\n",
    "5. index()#work\n",
    "6. clear()# it won't work\n",
    "7. pop()# it won't work\n",
    "8. remove()# it won't work\n",
    "8. sort()\n",
    "9. reverse()"
   ]
  },
  {
   "cell_type": "code",
   "execution_count": 117,
   "id": "722c0903-b85c-4eab-b936-1b6226af048e",
   "metadata": {},
   "outputs": [],
   "source": [
    "mytuple=(1,2,3,4,5)"
   ]
  },
  {
   "cell_type": "code",
   "execution_count": 118,
   "id": "d223e39b-8ece-4988-888f-15f64c2fe631",
   "metadata": {},
   "outputs": [
    {
     "ename": "AttributeError",
     "evalue": "'tuple' object has no attribute 'append'",
     "output_type": "error",
     "traceback": [
      "\u001b[0;31m---------------------------------------------------------------------------\u001b[0m",
      "\u001b[0;31mAttributeError\u001b[0m                            Traceback (most recent call last)",
      "Cell \u001b[0;32mIn [118], line 1\u001b[0m\n\u001b[0;32m----> 1\u001b[0m \u001b[43mmytuple\u001b[49m\u001b[38;5;241;43m.\u001b[39;49m\u001b[43mappend\u001b[49m(\u001b[38;5;241m6\u001b[39m)\n",
      "\u001b[0;31mAttributeError\u001b[0m: 'tuple' object has no attribute 'append'"
     ]
    }
   ],
   "source": [
    "mytuple.append(6)"
   ]
  },
  {
   "cell_type": "code",
   "execution_count": 119,
   "id": "9a938458-08d2-468b-81a1-77442db14738",
   "metadata": {},
   "outputs": [
    {
     "ename": "AttributeError",
     "evalue": "'tuple' object has no attribute 'extend'",
     "output_type": "error",
     "traceback": [
      "\u001b[0;31m---------------------------------------------------------------------------\u001b[0m",
      "\u001b[0;31mAttributeError\u001b[0m                            Traceback (most recent call last)",
      "Cell \u001b[0;32mIn [119], line 1\u001b[0m\n\u001b[0;32m----> 1\u001b[0m \u001b[43mmytuple\u001b[49m\u001b[38;5;241;43m.\u001b[39;49m\u001b[43mextend\u001b[49m([\u001b[38;5;241m6\u001b[39m,\u001b[38;5;241m7\u001b[39m])\n",
      "\u001b[0;31mAttributeError\u001b[0m: 'tuple' object has no attribute 'extend'"
     ]
    }
   ],
   "source": [
    "mytuple.extend([6,7])"
   ]
  },
  {
   "cell_type": "code",
   "execution_count": 120,
   "id": "2df95637-fd94-407c-a5f2-03681411f86e",
   "metadata": {},
   "outputs": [
    {
     "ename": "AttributeError",
     "evalue": "'tuple' object has no attribute 'insert'",
     "output_type": "error",
     "traceback": [
      "\u001b[0;31m---------------------------------------------------------------------------\u001b[0m",
      "\u001b[0;31mAttributeError\u001b[0m                            Traceback (most recent call last)",
      "Cell \u001b[0;32mIn [120], line 1\u001b[0m\n\u001b[0;32m----> 1\u001b[0m \u001b[43mmynums\u001b[49m\u001b[38;5;241;43m.\u001b[39;49m\u001b[43minsert\u001b[49m(\u001b[38;5;241m3\u001b[39m,\u001b[38;5;241m10\u001b[39m)\n",
      "\u001b[0;31mAttributeError\u001b[0m: 'tuple' object has no attribute 'insert'"
     ]
    }
   ],
   "source": [
    "mynums.insert(3,10)"
   ]
  },
  {
   "cell_type": "code",
   "execution_count": 122,
   "id": "17bf771f-62da-45d0-b52f-d768a5ae942a",
   "metadata": {},
   "outputs": [
    {
     "data": {
      "text/plain": [
       "1"
      ]
     },
     "execution_count": 122,
     "metadata": {},
     "output_type": "execute_result"
    }
   ],
   "source": [
    "mytuple.count(1)"
   ]
  },
  {
   "cell_type": "code",
   "execution_count": 124,
   "id": "a86c533a-6524-42d4-993b-aa4f701a82d0",
   "metadata": {},
   "outputs": [
    {
     "data": {
      "text/plain": [
       "(1, 2, 3, 4, 5)"
      ]
     },
     "execution_count": 124,
     "metadata": {},
     "output_type": "execute_result"
    }
   ],
   "source": [
    "mytuple"
   ]
  },
  {
   "cell_type": "code",
   "execution_count": 123,
   "id": "f13f5a6e-f784-49f9-bf5d-ba1dd7df4cea",
   "metadata": {},
   "outputs": [
    {
     "data": {
      "text/plain": [
       "3"
      ]
     },
     "execution_count": 123,
     "metadata": {},
     "output_type": "execute_result"
    }
   ],
   "source": [
    "#here we pass element and it return the index\n",
    "mytuple.index(4)"
   ]
  },
  {
   "cell_type": "code",
   "execution_count": 125,
   "id": "d24adbde-e0f4-4207-855d-b05b8c9230eb",
   "metadata": {},
   "outputs": [
    {
     "ename": "AttributeError",
     "evalue": "'tuple' object has no attribute 'sort'",
     "output_type": "error",
     "traceback": [
      "\u001b[0;31m---------------------------------------------------------------------------\u001b[0m",
      "\u001b[0;31mAttributeError\u001b[0m                            Traceback (most recent call last)",
      "Cell \u001b[0;32mIn [125], line 1\u001b[0m\n\u001b[0;32m----> 1\u001b[0m \u001b[43mmytuple\u001b[49m\u001b[38;5;241;43m.\u001b[39;49m\u001b[43msort\u001b[49m()\n",
      "\u001b[0;31mAttributeError\u001b[0m: 'tuple' object has no attribute 'sort'"
     ]
    }
   ],
   "source": [
    "mytuple.sort()"
   ]
  },
  {
   "cell_type": "code",
   "execution_count": 126,
   "id": "672215d1-d423-43ad-8d50-ab61dd972c48",
   "metadata": {},
   "outputs": [
    {
     "ename": "AttributeError",
     "evalue": "'tuple' object has no attribute 'reverse'",
     "output_type": "error",
     "traceback": [
      "\u001b[0;31m---------------------------------------------------------------------------\u001b[0m",
      "\u001b[0;31mAttributeError\u001b[0m                            Traceback (most recent call last)",
      "Cell \u001b[0;32mIn [126], line 1\u001b[0m\n\u001b[0;32m----> 1\u001b[0m \u001b[43mmytuple\u001b[49m\u001b[38;5;241;43m.\u001b[39;49m\u001b[43mreverse\u001b[49m()\n",
      "\u001b[0;31mAttributeError\u001b[0m: 'tuple' object has no attribute 'reverse'"
     ]
    }
   ],
   "source": [
    "mytuple.reverse()"
   ]
  },
  {
   "cell_type": "markdown",
   "id": "4f6ed15b-9960-42fb-a1b3-86c3b226b8da",
   "metadata": {},
   "source": [
    "# member ship operator in and not in works with tuple"
   ]
  },
  {
   "cell_type": "code",
   "execution_count": 127,
   "id": "13379c38-ecb9-46c1-854b-42ea82c0af86",
   "metadata": {},
   "outputs": [],
   "source": [
    "my_tuple=(\"a\",\"e\",\"i\",\"o\",\"u\")"
   ]
  },
  {
   "cell_type": "code",
   "execution_count": 128,
   "id": "3aa79891-0209-4263-a72a-31ea17599e7a",
   "metadata": {},
   "outputs": [
    {
     "data": {
      "text/plain": [
       "True"
      ]
     },
     "execution_count": 128,
     "metadata": {},
     "output_type": "execute_result"
    }
   ],
   "source": [
    "'a' in my_tuple"
   ]
  },
  {
   "cell_type": "code",
   "execution_count": 129,
   "id": "a4fd118a-9c7a-4f10-8731-be598d0169d3",
   "metadata": {},
   "outputs": [
    {
     "data": {
      "text/plain": [
       "True"
      ]
     },
     "execution_count": 129,
     "metadata": {},
     "output_type": "execute_result"
    }
   ],
   "source": [
    "'z' not in my_tuple"
   ]
  },
  {
   "cell_type": "markdown",
   "id": "5a6561a6-549d-4e09-8fef-bb44909638ca",
   "metadata": {},
   "source": [
    "# concatenation "
   ]
  },
  {
   "cell_type": "code",
   "execution_count": 130,
   "id": "6ce2b519-9a58-459d-b8da-b0b1ee5d207b",
   "metadata": {},
   "outputs": [],
   "source": [
    "odd=(1,3,5)\n",
    "even=(2,4,6)"
   ]
  },
  {
   "cell_type": "code",
   "execution_count": 133,
   "id": "101fa94c-6e19-438a-b20a-d011295410dc",
   "metadata": {},
   "outputs": [
    {
     "data": {
      "text/plain": [
       "140473157439296"
      ]
     },
     "execution_count": 133,
     "metadata": {},
     "output_type": "execute_result"
    }
   ],
   "source": [
    "id(odd)"
   ]
  },
  {
   "cell_type": "code",
   "execution_count": 134,
   "id": "bee5ad38-2c2c-4555-babf-e6adb8fa3acc",
   "metadata": {},
   "outputs": [
    {
     "data": {
      "text/plain": [
       "140473159750080"
      ]
     },
     "execution_count": 134,
     "metadata": {},
     "output_type": "execute_result"
    }
   ],
   "source": [
    "id(even)"
   ]
  },
  {
   "cell_type": "code",
   "execution_count": 132,
   "id": "83ea38a5-1188-4fd2-8549-bf0774ab4029",
   "metadata": {},
   "outputs": [
    {
     "data": {
      "text/plain": [
       "140473157065920"
      ]
     },
     "execution_count": 132,
     "metadata": {},
     "output_type": "execute_result"
    }
   ],
   "source": [
    "id(odd+even)"
   ]
  },
  {
   "cell_type": "code",
   "execution_count": 135,
   "id": "e27b60f7-069c-4d1c-9b24-ba33c93e074f",
   "metadata": {},
   "outputs": [],
   "source": [
    "all=odd+even"
   ]
  },
  {
   "cell_type": "code",
   "execution_count": 136,
   "id": "8bbd9cac-85e7-455b-bbcd-d3a60f823c27",
   "metadata": {},
   "outputs": [
    {
     "data": {
      "text/plain": [
       "(1, 3, 5, 2, 4, 6)"
      ]
     },
     "execution_count": 136,
     "metadata": {},
     "output_type": "execute_result"
    }
   ],
   "source": [
    "all"
   ]
  },
  {
   "cell_type": "markdown",
   "id": "eb73fb3c-ca29-4d0d-8c83-1a8cf78760a6",
   "metadata": {},
   "source": [
    "# multiplication of element"
   ]
  },
  {
   "cell_type": "code",
   "execution_count": 137,
   "id": "7782f7af-04aa-4347-be79-374bf13d3561",
   "metadata": {},
   "outputs": [],
   "source": [
    "a=(10,20,30)"
   ]
  },
  {
   "cell_type": "code",
   "execution_count": 139,
   "id": "8875a354-4a54-4b3a-8274-0f50b69f0b9c",
   "metadata": {},
   "outputs": [
    {
     "data": {
      "text/plain": [
       "140473160042816"
      ]
     },
     "execution_count": 139,
     "metadata": {},
     "output_type": "execute_result"
    }
   ],
   "source": [
    "id(a)"
   ]
  },
  {
   "cell_type": "code",
   "execution_count": 140,
   "id": "9601c598-160d-4bf4-b7cc-af978ea43c85",
   "metadata": {},
   "outputs": [
    {
     "data": {
      "text/plain": [
       "140473159780288"
      ]
     },
     "execution_count": 140,
     "metadata": {},
     "output_type": "execute_result"
    }
   ],
   "source": [
    "id(a*3)"
   ]
  },
  {
   "cell_type": "markdown",
   "id": "c3fcb1e1-14d0-4d82-beb3-5062d86e53b2",
   "metadata": {},
   "source": [
    "# relational operators"
   ]
  },
  {
   "cell_type": "code",
   "execution_count": 147,
   "id": "1da27e4d-70f5-4fd9-a74f-a9a84de852eb",
   "metadata": {},
   "outputs": [],
   "source": [
    "a=(4,5,6)\n",
    "b=(4,5,6)"
   ]
  },
  {
   "cell_type": "code",
   "execution_count": 148,
   "id": "e26b7e59-fd36-41ff-8960-5023e625f4d8",
   "metadata": {},
   "outputs": [
    {
     "data": {
      "text/plain": [
       "False"
      ]
     },
     "execution_count": 148,
     "metadata": {},
     "output_type": "execute_result"
    }
   ],
   "source": [
    "a<b"
   ]
  },
  {
   "cell_type": "markdown",
   "id": "002c1702-1b4e-4dfc-a9d9-ecfe177b8a19",
   "metadata": {},
   "source": [
    "# set"
   ]
  },
  {
   "cell_type": "markdown",
   "id": "ece6a9f8-f8ce-460b-9e89-05c583994619",
   "metadata": {},
   "source": [
    "### 1. we can not keep duplicate value\n",
    "### 2. we can not use subscript operator(we can not do indexing as well as slicing)\n",
    "### 3. set is unordered collection"
   ]
  },
  {
   "cell_type": "code",
   "execution_count": 149,
   "id": "f0c5273c-62fc-45dc-896f-81bdbb56409c",
   "metadata": {},
   "outputs": [],
   "source": [
    "mylist=[1,2,3,4,5]#access element with index this is possible\n",
    "mytuple=(1,2,3,4,5)#access element with index this is possible\n",
    "myset={1,2,3,4,5}#we can not access element with index in set"
   ]
  },
  {
   "cell_type": "code",
   "execution_count": 150,
   "id": "8c5c102e-605e-4b74-ae44-c6f7b6f608ff",
   "metadata": {},
   "outputs": [
    {
     "data": {
      "text/plain": [
       "list"
      ]
     },
     "execution_count": 150,
     "metadata": {},
     "output_type": "execute_result"
    }
   ],
   "source": [
    "type(mylist)"
   ]
  },
  {
   "cell_type": "code",
   "execution_count": 151,
   "id": "f53d2ea8-f2f0-4eca-9155-1513e3d47976",
   "metadata": {},
   "outputs": [
    {
     "data": {
      "text/plain": [
       "tuple"
      ]
     },
     "execution_count": 151,
     "metadata": {},
     "output_type": "execute_result"
    }
   ],
   "source": [
    "type(mytuple)"
   ]
  },
  {
   "cell_type": "code",
   "execution_count": 152,
   "id": "8a1c7ead-3b49-4a21-b319-dcdc3cb082ae",
   "metadata": {},
   "outputs": [
    {
     "data": {
      "text/plain": [
       "set"
      ]
     },
     "execution_count": 152,
     "metadata": {},
     "output_type": "execute_result"
    }
   ],
   "source": [
    "type(myset)"
   ]
  },
  {
   "cell_type": "code",
   "execution_count": 154,
   "id": "13ca0c5f-34d4-4e77-8554-7f0d5a730df1",
   "metadata": {},
   "outputs": [],
   "source": [
    "myset={1,2,3,4,56,4,3,67,56}"
   ]
  },
  {
   "cell_type": "code",
   "execution_count": 155,
   "id": "6c34364d-2226-4d47-9508-55ebb9f6e7e9",
   "metadata": {},
   "outputs": [
    {
     "data": {
      "text/plain": [
       "{1, 2, 3, 4, 56, 67}"
      ]
     },
     "execution_count": 155,
     "metadata": {},
     "output_type": "execute_result"
    }
   ],
   "source": [
    "myset"
   ]
  },
  {
   "cell_type": "code",
   "execution_count": 156,
   "id": "ac1d06ce-5903-4612-9662-7d1496488bd0",
   "metadata": {},
   "outputs": [
    {
     "ename": "TypeError",
     "evalue": "'set' object is not subscriptable",
     "output_type": "error",
     "traceback": [
      "\u001b[0;31m---------------------------------------------------------------------------\u001b[0m",
      "\u001b[0;31mTypeError\u001b[0m                                 Traceback (most recent call last)",
      "Cell \u001b[0;32mIn [156], line 1\u001b[0m\n\u001b[0;32m----> 1\u001b[0m \u001b[43mmyset\u001b[49m\u001b[43m[\u001b[49m\u001b[38;5;241;43m0\u001b[39;49m\u001b[43m]\u001b[49m\n",
      "\u001b[0;31mTypeError\u001b[0m: 'set' object is not subscriptable"
     ]
    }
   ],
   "source": [
    "myset[0]"
   ]
  },
  {
   "cell_type": "code",
   "execution_count": 157,
   "id": "27bf6206-ce74-4a35-9662-c0f6a4cd548d",
   "metadata": {},
   "outputs": [
    {
     "ename": "TypeError",
     "evalue": "'set' object is not subscriptable",
     "output_type": "error",
     "traceback": [
      "\u001b[0;31m---------------------------------------------------------------------------\u001b[0m",
      "\u001b[0;31mTypeError\u001b[0m                                 Traceback (most recent call last)",
      "Cell \u001b[0;32mIn [157], line 1\u001b[0m\n\u001b[0;32m----> 1\u001b[0m \u001b[43mmyset\u001b[49m\u001b[43m[\u001b[49m\u001b[38;5;241;43m1\u001b[39;49m\u001b[43m:\u001b[49m\u001b[38;5;241;43m4\u001b[39;49m\u001b[43m]\u001b[49m\n",
      "\u001b[0;31mTypeError\u001b[0m: 'set' object is not subscriptable"
     ]
    }
   ],
   "source": [
    "myset[1:4]"
   ]
  },
  {
   "cell_type": "code",
   "execution_count": 158,
   "id": "c428a675-f94b-4658-9bbe-de82c4f1b115",
   "metadata": {},
   "outputs": [],
   "source": [
    "myset={1,\"hello\",10.5}"
   ]
  },
  {
   "cell_type": "code",
   "execution_count": 159,
   "id": "08888b07-7408-46b0-9605-ce0dfcc9f815",
   "metadata": {},
   "outputs": [
    {
     "data": {
      "text/plain": [
       "{1, 10.5, 'hello'}"
      ]
     },
     "execution_count": 159,
     "metadata": {},
     "output_type": "execute_result"
    }
   ],
   "source": [
    "myset"
   ]
  },
  {
   "cell_type": "markdown",
   "id": "da3c54a9-b724-4663-90f1-0fae1eada42c",
   "metadata": {},
   "source": [
    "i can pass any iterable to this set funciton\n",
    "set(<iterable>)"
   ]
  },
  {
   "cell_type": "code",
   "execution_count": 160,
   "id": "23a55dcd-1cc9-41b9-9ea8-843d4b96a053",
   "metadata": {},
   "outputs": [
    {
     "data": {
      "text/plain": [
       "{1, 2, 3, 4, 5, 6}"
      ]
     },
     "execution_count": 160,
     "metadata": {},
     "output_type": "execute_result"
    }
   ],
   "source": [
    "set([1,2,3,4,5,6])"
   ]
  },
  {
   "cell_type": "code",
   "execution_count": 161,
   "id": "06b8ec72-35f8-42de-bc3d-e5cc1d6513fe",
   "metadata": {},
   "outputs": [
    {
     "data": {
      "text/plain": [
       "{1, 2, 3, 4, 5, 57}"
      ]
     },
     "execution_count": 161,
     "metadata": {},
     "output_type": "execute_result"
    }
   ],
   "source": [
    "set((1,2,3,4,5,3,4,57,3))"
   ]
  },
  {
   "cell_type": "markdown",
   "id": "afafb4ad-8b77-4923-bb7b-274e92246fbb",
   "metadata": {},
   "source": [
    "# if i can add something in set there is a function add()"
   ]
  },
  {
   "cell_type": "code",
   "execution_count": 164,
   "id": "73ef8887-18e3-4835-a7e9-84216d06a3d3",
   "metadata": {},
   "outputs": [],
   "source": [
    "myset.add(10000)"
   ]
  },
  {
   "cell_type": "code",
   "execution_count": 165,
   "id": "c3857bd0-7346-47b2-8c46-b26b56325435",
   "metadata": {},
   "outputs": [
    {
     "data": {
      "text/plain": [
       "{1, 10.5, 10000, 'hello'}"
      ]
     },
     "execution_count": 165,
     "metadata": {},
     "output_type": "execute_result"
    }
   ],
   "source": [
    "myset"
   ]
  },
  {
   "cell_type": "markdown",
   "id": "35c1d13c-ae3e-48c7-8ec2-6801aef2df2b",
   "metadata": {},
   "source": [
    "# clear()"
   ]
  },
  {
   "cell_type": "code",
   "execution_count": 166,
   "id": "2efbe1bd-dfdd-420e-acc4-2ad22d22ea82",
   "metadata": {},
   "outputs": [],
   "source": [
    "myset.clear()"
   ]
  },
  {
   "cell_type": "code",
   "execution_count": 167,
   "id": "e48f21b0-bc2e-40b9-b6e8-5a9c8cf6361b",
   "metadata": {},
   "outputs": [
    {
     "data": {
      "text/plain": [
       "set()"
      ]
     },
     "execution_count": 167,
     "metadata": {},
     "output_type": "execute_result"
    }
   ],
   "source": [
    "myset"
   ]
  },
  {
   "cell_type": "markdown",
   "id": "21b4b1b8-950a-4b71-a020-6dd0b96d20bf",
   "metadata": {},
   "source": [
    "# copy()"
   ]
  },
  {
   "cell_type": "code",
   "execution_count": 168,
   "id": "307e366d-0e85-4243-a9c1-a3a882f0030d",
   "metadata": {},
   "outputs": [],
   "source": [
    "myset={1,234,46,67,6,465,68,8}"
   ]
  },
  {
   "cell_type": "code",
   "execution_count": 169,
   "id": "d925fe23-13cb-49d0-8e7e-35f1895e981d",
   "metadata": {},
   "outputs": [
    {
     "data": {
      "text/plain": [
       "{1, 6, 8, 46, 67, 68, 234, 465}"
      ]
     },
     "execution_count": 169,
     "metadata": {},
     "output_type": "execute_result"
    }
   ],
   "source": [
    "myset.copy()"
   ]
  },
  {
   "cell_type": "markdown",
   "id": "6bee4e3b-484d-4a22-a886-fd145db8a595",
   "metadata": {},
   "source": [
    "# pop() #remove() #update()"
   ]
  },
  {
   "cell_type": "code",
   "execution_count": 1,
   "id": "d80313f0-c12f-499e-abaa-1e2d8645d82c",
   "metadata": {},
   "outputs": [],
   "source": [
    "# string and dict"
   ]
  },
  {
   "cell_type": "code",
   "execution_count": 4,
   "id": "91e2ff2c",
   "metadata": {},
   "outputs": [],
   "source": [
    "# # take multiple input using list comprehension, map and split \n",
    "\n",
    "# # using  map and list\n",
    "\n",
    "# x = list(map(int, input().split()))  # multiple input\n",
    "\n",
    "# # take two input\n",
    "# a,b,c = list(map(int, input(\"Enter Numbe: \").split()))\n",
    "\n",
    "# print(a+b+c)\n",
    "\n"
   ]
  },
  {
   "cell_type": "code",
   "execution_count": 10,
   "id": "74961c2a",
   "metadata": {},
   "outputs": [
    {
     "name": "stdout",
     "output_type": "stream",
     "text": [
      "1 2 3\n",
      "6\n"
     ]
    }
   ],
   "source": [
    "# split function \n",
    "a,b,c = input().split()\n",
    "a = int(a)\n",
    "b = int(b)\n",
    "c = int(c)\n",
    "print(a+b+c)"
   ]
  },
  {
   "cell_type": "code",
   "execution_count": 14,
   "id": "20815d3a",
   "metadata": {},
   "outputs": [
    {
     "name": "stdout",
     "output_type": "stream",
     "text": [
      "1  2 4 5 66 8\n",
      "1\n",
      "3\n",
      "7\n",
      "12\n",
      "78\n",
      "86\n"
     ]
    }
   ],
   "source": [
    "# [[j for j in range(3)] for i in range(4)]\n",
    "# take multiple input using list comeprehension  \n",
    "nums= [int(x) for x in input().split()]\n",
    "\n",
    "sum = 0;\n",
    "for i in nums:\n",
    "    sum +=i\n",
    "    print(sum)\n",
    "    \n",
    "\n"
   ]
  },
  {
   "cell_type": "code",
   "execution_count": null,
   "id": "255d9d43",
   "metadata": {},
   "outputs": [],
   "source": []
  }
 ],
 "metadata": {
  "kernelspec": {
   "display_name": "Python 3 (ipykernel)",
   "language": "python",
   "name": "python3"
  },
  "language_info": {
   "codemirror_mode": {
    "name": "ipython",
    "version": 3
   },
   "file_extension": ".py",
   "mimetype": "text/x-python",
   "name": "python",
   "nbconvert_exporter": "python",
   "pygments_lexer": "ipython3",
   "version": "3.11.5"
  }
 },
 "nbformat": 4,
 "nbformat_minor": 5
}
