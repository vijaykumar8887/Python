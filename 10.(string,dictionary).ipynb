{
 "cells": [
  {
   "cell_type": "code",
   "execution_count": 1,
   "id": "21e93ff6-f117-4822-a6d4-9eb6bd347860",
   "metadata": {},
   "outputs": [],
   "source": [
    "mystring=\"sunny\""
   ]
  },
  {
   "cell_type": "code",
   "execution_count": 12,
   "id": "ae523279-c073-406c-ad3a-021db611c36d",
   "metadata": {},
   "outputs": [],
   "source": [
    "mychar=\"A\""
   ]
  },
  {
   "cell_type": "code",
   "execution_count": 13,
   "id": "77bc92bc-c20e-4387-9748-57d90456dcfb",
   "metadata": {},
   "outputs": [
    {
     "data": {
      "text/plain": [
       "str"
      ]
     },
     "execution_count": 13,
     "metadata": {},
     "output_type": "execute_result"
    }
   ],
   "source": [
    "type(mychar)"
   ]
  },
  {
   "cell_type": "code",
   "execution_count": 2,
   "id": "0393138b-f0ef-4dda-840c-68cc0e3e97ab",
   "metadata": {},
   "outputs": [
    {
     "name": "stdout",
     "output_type": "stream",
     "text": [
      "sunny\n"
     ]
    }
   ],
   "source": [
    "print(mystring)"
   ]
  },
  {
   "cell_type": "code",
   "execution_count": 3,
   "id": "46cd639a-4076-4a08-99f1-e33d0be1781e",
   "metadata": {},
   "outputs": [
    {
     "data": {
      "text/plain": [
       "'sunny'"
      ]
     },
     "execution_count": 3,
     "metadata": {},
     "output_type": "execute_result"
    }
   ],
   "source": [
    "mystring"
   ]
  },
  {
   "cell_type": "code",
   "execution_count": 4,
   "id": "62cdf31a-9c49-4aa4-9289-1ea21e8b6cbd",
   "metadata": {},
   "outputs": [],
   "source": [
    "mystring1='sunny'"
   ]
  },
  {
   "cell_type": "code",
   "execution_count": 5,
   "id": "057fc5f5-319e-46a4-8d99-0389014e8fba",
   "metadata": {},
   "outputs": [
    {
     "data": {
      "text/plain": [
       "'sunny'"
      ]
     },
     "execution_count": 5,
     "metadata": {},
     "output_type": "execute_result"
    }
   ],
   "source": [
    "mystring1"
   ]
  },
  {
   "cell_type": "code",
   "execution_count": 8,
   "id": "600eb713-0094-48e5-bab9-2f089cc6a14e",
   "metadata": {},
   "outputs": [],
   "source": [
    "mystring3=\"\"\"i\n",
    "love\n",
    "python\"\"\""
   ]
  },
  {
   "cell_type": "code",
   "execution_count": 11,
   "id": "751e51cb-cfca-43ef-ae02-777d1a6307f2",
   "metadata": {},
   "outputs": [
    {
     "data": {
      "text/plain": [
       "'i\\nlove\\npython'"
      ]
     },
     "execution_count": 11,
     "metadata": {},
     "output_type": "execute_result"
    }
   ],
   "source": [
    "mystring3"
   ]
  },
  {
   "cell_type": "code",
   "execution_count": 10,
   "id": "114113c2-5168-4387-bc7e-79d43d4b12fb",
   "metadata": {},
   "outputs": [
    {
     "name": "stdout",
     "output_type": "stream",
     "text": [
      "i\n",
      "love\n",
      "python\n"
     ]
    }
   ],
   "source": [
    "print(mystring3)"
   ]
  },
  {
   "cell_type": "code",
   "execution_count": 15,
   "id": "46711d10-6c6f-4f82-a1ad-e8ea49d6ddb5",
   "metadata": {},
   "outputs": [],
   "source": [
    "mystring4=\"\""
   ]
  },
  {
   "cell_type": "code",
   "execution_count": 16,
   "id": "ab8584de-eb48-4255-b88e-73c45590f5a0",
   "metadata": {},
   "outputs": [
    {
     "data": {
      "text/plain": [
       "''"
      ]
     },
     "execution_count": 16,
     "metadata": {},
     "output_type": "execute_result"
    }
   ],
   "source": [
    "mystring4"
   ]
  },
  {
   "cell_type": "code",
   "execution_count": 17,
   "id": "939d0419-8d81-462d-b9a1-e3be6efa2edd",
   "metadata": {},
   "outputs": [],
   "source": [
    "mystring5=\" \""
   ]
  },
  {
   "cell_type": "code",
   "execution_count": 18,
   "id": "5e3728ed-26fa-49a3-9b10-fb52e3ac455f",
   "metadata": {},
   "outputs": [
    {
     "data": {
      "text/plain": [
       "' '"
      ]
     },
     "execution_count": 18,
     "metadata": {},
     "output_type": "execute_result"
    }
   ],
   "source": [
    "mystring5"
   ]
  },
  {
   "cell_type": "code",
   "execution_count": 19,
   "id": "318e43a0-4896-4dcb-bb4a-fccd20b02aca",
   "metadata": {},
   "outputs": [],
   "source": [
    "mystring6=\"i love coding\""
   ]
  },
  {
   "cell_type": "code",
   "execution_count": 21,
   "id": "a7bdb1dc-8297-46af-9bf5-d06919ff6980",
   "metadata": {},
   "outputs": [
    {
     "data": {
      "text/plain": [
       "12"
      ]
     },
     "execution_count": 21,
     "metadata": {},
     "output_type": "execute_result"
    }
   ],
   "source": [
    "len(mystring6)-1"
   ]
  },
  {
   "cell_type": "code",
   "execution_count": 22,
   "id": "c561f3e8-f707-4f04-9152-40725079a98b",
   "metadata": {},
   "outputs": [
    {
     "name": "stdout",
     "output_type": "stream",
     "text": [
      "v\n"
     ]
    }
   ],
   "source": [
    "print(mystring6[4])"
   ]
  },
  {
   "cell_type": "code",
   "execution_count": 24,
   "id": "78be15d4-f8ff-410c-ae89-93a752073671",
   "metadata": {},
   "outputs": [
    {
     "data": {
      "text/plain": [
       "'love'"
      ]
     },
     "execution_count": 24,
     "metadata": {},
     "output_type": "execute_result"
    }
   ],
   "source": [
    "mystring6[2:6]"
   ]
  },
  {
   "cell_type": "markdown",
   "id": "6e43af51-dd20-4b68-a9cd-b9c5865b6468",
   "metadata": {},
   "source": [
    "# wap to take input from user and print it in reverse order\n",
    "\n",
    "# note: dont use slicing operator."
   ]
  },
  {
   "cell_type": "code",
   "execution_count": null,
   "id": "2d8938a7-0785-419b-8259-bbb2a6cc94f8",
   "metadata": {},
   "outputs": [],
   "source": [
    "sunny\n",
    "01234\n",
    "\n",
    "yunns"
   ]
  },
  {
   "cell_type": "code",
   "execution_count": 25,
   "id": "24abaaf1-e393-4330-98a2-3a0d0a4f9d9d",
   "metadata": {},
   "outputs": [],
   "source": [
    "name=\"sunny\""
   ]
  },
  {
   "cell_type": "code",
   "execution_count": 29,
   "id": "e45b0a49-9689-4f37-a7dd-f09c1c7cabc9",
   "metadata": {},
   "outputs": [
    {
     "data": {
      "text/plain": [
       "4"
      ]
     },
     "execution_count": 29,
     "metadata": {},
     "output_type": "execute_result"
    }
   ],
   "source": [
    "len(name)-1"
   ]
  },
  {
   "cell_type": "code",
   "execution_count": 31,
   "id": "c18527b1-b89a-47a8-b094-b48aefa94a31",
   "metadata": {},
   "outputs": [
    {
     "data": {
      "text/plain": [
       "[4, 3, 2, 1, 0]"
      ]
     },
     "execution_count": 31,
     "metadata": {},
     "output_type": "execute_result"
    }
   ],
   "source": [
    "list(range(len(name)-1,-1,-1))"
   ]
  },
  {
   "cell_type": "code",
   "execution_count": 39,
   "id": "6611f4ba-2c94-4a51-8fd9-dca5888aa49e",
   "metadata": {},
   "outputs": [
    {
     "data": {
      "text/plain": [
       "[10, 9, 8, 7, 6, 5, 4, 3, 2]"
      ]
     },
     "execution_count": 39,
     "metadata": {},
     "output_type": "execute_result"
    }
   ],
   "source": [
    "list(range(10,1,-1))"
   ]
  },
  {
   "cell_type": "code",
   "execution_count": 32,
   "id": "939e808a-9c89-4a93-9145-f07539b4c14e",
   "metadata": {},
   "outputs": [
    {
     "name": "stdout",
     "output_type": "stream",
     "text": [
      "y\n",
      "n\n",
      "n\n",
      "u\n",
      "s\n"
     ]
    }
   ],
   "source": [
    "for i in range(len(name)-1,-1,-1):\n",
    "    print(name[i])"
   ]
  },
  {
   "cell_type": "code",
   "execution_count": 34,
   "id": "2d8ab274-01ea-480f-ba8b-2eea47b6b31a",
   "metadata": {},
   "outputs": [
    {
     "name": "stdin",
     "output_type": "stream",
     "text": [
      "write your name cibi\n"
     ]
    },
    {
     "name": "stdout",
     "output_type": "stream",
     "text": [
      "i\n",
      "b\n",
      "i\n",
      "c\n"
     ]
    }
   ],
   "source": [
    "name=input(\"write your name\")\n",
    "for i in range(len(name)-1,-1,-1):\n",
    "    print(name[i])"
   ]
  },
  {
   "cell_type": "code",
   "execution_count": null,
   "id": "e1054332-a2a0-4bc3-968d-dc25130ec1c5",
   "metadata": {},
   "outputs": [],
   "source": [
    "+ operator for concatination"
   ]
  },
  {
   "cell_type": "code",
   "execution_count": 41,
   "id": "8b2f9203-3878-4cc6-8829-c94c40d35e7d",
   "metadata": {},
   "outputs": [
    {
     "data": {
      "text/plain": [
       "'sunny savita'"
      ]
     },
     "execution_count": 41,
     "metadata": {},
     "output_type": "execute_result"
    }
   ],
   "source": [
    "\"sunny\"+\" \"+\"savita\""
   ]
  },
  {
   "cell_type": "code",
   "execution_count": 43,
   "id": "1cd2b892-3d5f-48ba-a7b4-c56e1d123c7c",
   "metadata": {},
   "outputs": [
    {
     "data": {
      "text/plain": [
       "'sunnysunny'"
      ]
     },
     "execution_count": 43,
     "metadata": {},
     "output_type": "execute_result"
    }
   ],
   "source": [
    "\"sunny\"*2"
   ]
  },
  {
   "cell_type": "code",
   "execution_count": 44,
   "id": "55011069-5911-424e-b1bc-301d4bdcad36",
   "metadata": {},
   "outputs": [
    {
     "data": {
      "text/plain": [
       "'byebye'"
      ]
     },
     "execution_count": 44,
     "metadata": {},
     "output_type": "execute_result"
    }
   ],
   "source": [
    "\"bye\"*2"
   ]
  },
  {
   "cell_type": "code",
   "execution_count": 45,
   "id": "008c39cc-be15-4a71-8eb5-89cb7a191c2f",
   "metadata": {},
   "outputs": [
    {
     "data": {
      "text/plain": [
       "'banana'"
      ]
     },
     "execution_count": 45,
     "metadata": {},
     "output_type": "execute_result"
    }
   ],
   "source": [
    "\"ba\"+\"na\"*2"
   ]
  },
  {
   "cell_type": "code",
   "execution_count": 46,
   "id": "2db8fad2-aae7-4a69-ba24-60f1793401c4",
   "metadata": {},
   "outputs": [],
   "source": [
    "mystring=\"i love my india\""
   ]
  },
  {
   "cell_type": "code",
   "execution_count": 47,
   "id": "19111df0-b7d9-49e2-ad1d-eb73347dbbdb",
   "metadata": {},
   "outputs": [
    {
     "data": {
      "text/plain": [
       "True"
      ]
     },
     "execution_count": 47,
     "metadata": {},
     "output_type": "execute_result"
    }
   ],
   "source": [
    "\"love\" in mystring"
   ]
  },
  {
   "cell_type": "code",
   "execution_count": 48,
   "id": "7b1b593f-4b2a-477e-a121-a13a195e7429",
   "metadata": {},
   "outputs": [
    {
     "data": {
      "text/plain": [
       "True"
      ]
     },
     "execution_count": 48,
     "metadata": {},
     "output_type": "execute_result"
    }
   ],
   "source": [
    "\"india\" in mystring"
   ]
  },
  {
   "cell_type": "code",
   "execution_count": 50,
   "id": "14b3a32f-9c65-4504-8595-6904a7412cb8",
   "metadata": {},
   "outputs": [
    {
     "data": {
      "text/plain": [
       "False"
      ]
     },
     "execution_count": 50,
     "metadata": {},
     "output_type": "execute_result"
    }
   ],
   "source": [
    "\"you\" in mystring"
   ]
  },
  {
   "cell_type": "code",
   "execution_count": 51,
   "id": "9bba7cd5-4d8d-4a19-9ea2-ff33b6d3c59c",
   "metadata": {},
   "outputs": [
    {
     "data": {
      "text/plain": [
       "True"
      ]
     },
     "execution_count": 51,
     "metadata": {},
     "output_type": "execute_result"
    }
   ],
   "source": [
    "\" \" in mystring"
   ]
  },
  {
   "cell_type": "code",
   "execution_count": 52,
   "id": "3f0a46a9-43d7-4007-b8de-089c4c0524e1",
   "metadata": {},
   "outputs": [
    {
     "data": {
      "text/plain": [
       "True"
      ]
     },
     "execution_count": 52,
     "metadata": {},
     "output_type": "execute_result"
    }
   ],
   "source": [
    "\"\" in mystring"
   ]
  },
  {
   "cell_type": "code",
   "execution_count": 53,
   "id": "734d48e2-5c3f-401e-99ed-baf82d0eb32f",
   "metadata": {},
   "outputs": [
    {
     "data": {
      "text/plain": [
       "True"
      ]
     },
     "execution_count": 53,
     "metadata": {},
     "output_type": "execute_result"
    }
   ],
   "source": [
    "\"hindustan\" not in mystring"
   ]
  },
  {
   "cell_type": "code",
   "execution_count": 54,
   "id": "ada08eba-455e-4971-96fe-d1c35b6773b0",
   "metadata": {},
   "outputs": [
    {
     "data": {
      "text/plain": [
       "False"
      ]
     },
     "execution_count": 54,
     "metadata": {},
     "output_type": "execute_result"
    }
   ],
   "source": [
    "\"tim\" == \"tie\""
   ]
  },
  {
   "cell_type": "code",
   "execution_count": 55,
   "id": "a959b98f-c9ec-4392-aeb7-33c488b408bb",
   "metadata": {},
   "outputs": [
    {
     "data": {
      "text/plain": [
       "True"
      ]
     },
     "execution_count": 55,
     "metadata": {},
     "output_type": "execute_result"
    }
   ],
   "source": [
    "\"free\" != \"freedom\""
   ]
  },
  {
   "cell_type": "code",
   "execution_count": 56,
   "id": "638736a2-24c1-4934-bc93-cec0764b1edb",
   "metadata": {},
   "outputs": [
    {
     "data": {
      "text/plain": [
       "True"
      ]
     },
     "execution_count": 56,
     "metadata": {},
     "output_type": "execute_result"
    }
   ],
   "source": [
    "\"arrow\" > \"aron\""
   ]
  },
  {
   "cell_type": "code",
   "execution_count": 58,
   "id": "86e5af7e-28b5-412c-a524-4bff02a7bdae",
   "metadata": {},
   "outputs": [
    {
     "data": {
      "text/plain": [
       "True"
      ]
     },
     "execution_count": 58,
     "metadata": {},
     "output_type": "execute_result"
    }
   ],
   "source": [
    "\"right\" >= \"left\""
   ]
  },
  {
   "cell_type": "code",
   "execution_count": 59,
   "id": "89f8bd44-315a-4330-a662-4df17986be5b",
   "metadata": {},
   "outputs": [
    {
     "data": {
      "text/plain": [
       "False"
      ]
     },
     "execution_count": 59,
     "metadata": {},
     "output_type": "execute_result"
    }
   ],
   "source": [
    "\"teeth\" < \"tee\""
   ]
  },
  {
   "cell_type": "code",
   "execution_count": 60,
   "id": "96a0b6a2-2ed1-4679-bbd9-c5764576dca0",
   "metadata": {},
   "outputs": [
    {
     "data": {
      "text/plain": [
       "False"
      ]
     },
     "execution_count": 60,
     "metadata": {},
     "output_type": "execute_result"
    }
   ],
   "source": [
    "\"yellow\" <= \"fellow\""
   ]
  },
  {
   "cell_type": "code",
   "execution_count": 61,
   "id": "130bb536-37cf-4ba8-b247-4030a5e4b1ac",
   "metadata": {},
   "outputs": [
    {
     "data": {
      "text/plain": [
       "True"
      ]
     },
     "execution_count": 61,
     "metadata": {},
     "output_type": "execute_result"
    }
   ],
   "source": [
    "\"abc\" > \" \"\n"
   ]
  },
  {
   "cell_type": "code",
   "execution_count": null,
   "id": "58881d02-52f5-42a3-9583-79e5b59b5bcb",
   "metadata": {},
   "outputs": [],
   "source": [
    "is and is not"
   ]
  },
  {
   "cell_type": "code",
   "execution_count": 62,
   "id": "82f499d2-1998-4d1d-8de7-b3eea7641209",
   "metadata": {},
   "outputs": [],
   "source": [
    "a=\"sunny\"\n",
    "b=\"sunny\""
   ]
  },
  {
   "cell_type": "code",
   "execution_count": 63,
   "id": "67d8321a-d3b3-4992-baad-48e8f7d73347",
   "metadata": {},
   "outputs": [
    {
     "data": {
      "text/plain": [
       "True"
      ]
     },
     "execution_count": 63,
     "metadata": {},
     "output_type": "execute_result"
    }
   ],
   "source": [
    "a is b"
   ]
  },
  {
   "cell_type": "code",
   "execution_count": 64,
   "id": "7e5b458f-4b7f-4484-9025-1078bd0510f7",
   "metadata": {},
   "outputs": [],
   "source": [
    "c=\"savita\""
   ]
  },
  {
   "cell_type": "code",
   "execution_count": 65,
   "id": "45a3c3dc-ca4b-45d6-aa16-b8dc78bdb58d",
   "metadata": {},
   "outputs": [
    {
     "data": {
      "text/plain": [
       "False"
      ]
     },
     "execution_count": 65,
     "metadata": {},
     "output_type": "execute_result"
    }
   ],
   "source": [
    "a is c"
   ]
  },
  {
   "cell_type": "code",
   "execution_count": 66,
   "id": "99184cb5-70a1-40ad-ad49-e3664f909bd3",
   "metadata": {},
   "outputs": [
    {
     "data": {
      "text/plain": [
       "True"
      ]
     },
     "execution_count": 66,
     "metadata": {},
     "output_type": "execute_result"
    }
   ],
   "source": [
    "a is not c"
   ]
  },
  {
   "cell_type": "markdown",
   "id": "d51dfd1f-97f7-4ba8-aecd-7414eac803fe",
   "metadata": {},
   "source": [
    "# function in string"
   ]
  },
  {
   "cell_type": "markdown",
   "id": "42962363-ee62-45b4-8bb2-646d080caec9",
   "metadata": {},
   "source": [
    "# len()\n",
    "# max()\n",
    "# min()\n",
    "# chr()\n",
    "# ord()"
   ]
  },
  {
   "cell_type": "code",
   "execution_count": 72,
   "id": "1fad2cf4-26f2-4576-96ce-10b451395306",
   "metadata": {},
   "outputs": [
    {
     "name": "stdout",
     "output_type": "stream",
     "text": [
      "14\n"
     ]
    }
   ],
   "source": [
    "mystring=\"sunnysavitaahz\"\n",
    "print(len(mystring))"
   ]
  },
  {
   "cell_type": "code",
   "execution_count": 70,
   "id": "816d65a7-ddda-4976-b18a-87c0221559d8",
   "metadata": {},
   "outputs": [
    {
     "data": {
      "text/plain": [
       "'z'"
      ]
     },
     "execution_count": 70,
     "metadata": {},
     "output_type": "execute_result"
    }
   ],
   "source": [
    "max(mystring)"
   ]
  },
  {
   "cell_type": "code",
   "execution_count": 73,
   "id": "27ff52bd-23d2-44f5-af66-5727bbb56ada",
   "metadata": {},
   "outputs": [
    {
     "data": {
      "text/plain": [
       "'a'"
      ]
     },
     "execution_count": 73,
     "metadata": {},
     "output_type": "execute_result"
    }
   ],
   "source": [
    "min(mystring)"
   ]
  },
  {
   "cell_type": "code",
   "execution_count": 74,
   "id": "68d2e5d2-d9c4-450b-802b-bac2e1358ab5",
   "metadata": {},
   "outputs": [
    {
     "data": {
      "text/plain": [
       "32"
      ]
     },
     "execution_count": 74,
     "metadata": {},
     "output_type": "execute_result"
    }
   ],
   "source": [
    "ord(\" \")"
   ]
  },
  {
   "cell_type": "code",
   "execution_count": 75,
   "id": "6bfb7842-404f-4c76-bb76-ce7c379032f8",
   "metadata": {},
   "outputs": [
    {
     "data": {
      "text/plain": [
       "97"
      ]
     },
     "execution_count": 75,
     "metadata": {},
     "output_type": "execute_result"
    }
   ],
   "source": [
    "ord(\"a\")"
   ]
  },
  {
   "cell_type": "code",
   "execution_count": 76,
   "id": "a68a66e6-2a5d-46c4-aea2-174acc07e1c0",
   "metadata": {},
   "outputs": [
    {
     "data": {
      "text/plain": [
       "43"
      ]
     },
     "execution_count": 76,
     "metadata": {},
     "output_type": "execute_result"
    }
   ],
   "source": [
    "ord(\"+\")"
   ]
  },
  {
   "cell_type": "code",
   "execution_count": 78,
   "id": "7bb39b6a-d065-4b17-ae4f-f3459ff2efa4",
   "metadata": {},
   "outputs": [
    {
     "data": {
      "text/plain": [
       "48"
      ]
     },
     "execution_count": 78,
     "metadata": {},
     "output_type": "execute_result"
    }
   ],
   "source": [
    "ord(\"0\")"
   ]
  },
  {
   "cell_type": "code",
   "execution_count": 79,
   "id": "ff877bd6-c686-47c2-8c88-afc687e465d1",
   "metadata": {},
   "outputs": [
    {
     "data": {
      "text/plain": [
       "53"
      ]
     },
     "execution_count": 79,
     "metadata": {},
     "output_type": "execute_result"
    }
   ],
   "source": [
    "ord(\"5\")"
   ]
  },
  {
   "cell_type": "code",
   "execution_count": 80,
   "id": "6bc58dc5-d2e9-413d-afc2-4676097e0f2b",
   "metadata": {},
   "outputs": [
    {
     "data": {
      "text/plain": [
       "'+'"
      ]
     },
     "execution_count": 80,
     "metadata": {},
     "output_type": "execute_result"
    }
   ],
   "source": [
    "chr(43)"
   ]
  },
  {
   "cell_type": "code",
   "execution_count": 81,
   "id": "538df78e-3d02-4df3-b220-c4f2038539df",
   "metadata": {},
   "outputs": [
    {
     "data": {
      "text/plain": [
       "'a'"
      ]
     },
     "execution_count": 81,
     "metadata": {},
     "output_type": "execute_result"
    }
   ],
   "source": [
    "chr(97)"
   ]
  },
  {
   "cell_type": "code",
   "execution_count": 83,
   "id": "9d5cd7f0-cb63-47ab-8ae8-3a30b23bd2cb",
   "metadata": {},
   "outputs": [
    {
     "data": {
      "text/plain": [
       "'n'"
      ]
     },
     "execution_count": 83,
     "metadata": {},
     "output_type": "execute_result"
    }
   ],
   "source": [
    "chr(110)"
   ]
  },
  {
   "cell_type": "markdown",
   "id": "3ac1e034-95f2-4dfd-afe8-b44e7b6db360",
   "metadata": {},
   "source": [
    "# methods of the string"
   ]
  },
  {
   "cell_type": "markdown",
   "id": "1bb58b47-45f9-45fb-9c47-d161f361be5d",
   "metadata": {},
   "source": [
    "# capitalize( ):Returns a copy of the string with first character capitalized and rest of  the characters in lower case. "
   ]
  },
  {
   "cell_type": "code",
   "execution_count": 84,
   "id": "1ae5b14d-e005-4edc-b1b0-0326a0d23b10",
   "metadata": {},
   "outputs": [],
   "source": [
    "name=\"guido van rossum\"\n",
    "newname=name.capitalize()"
   ]
  },
  {
   "cell_type": "code",
   "execution_count": 85,
   "id": "df4ba9fb-fc0d-4467-997e-53dc1c45cd52",
   "metadata": {},
   "outputs": [
    {
     "data": {
      "text/plain": [
       "'Guido van rossum'"
      ]
     },
     "execution_count": 85,
     "metadata": {},
     "output_type": "execute_result"
    }
   ],
   "source": [
    "newname"
   ]
  },
  {
   "cell_type": "markdown",
   "id": "3d39e7c4-4bff-4855-bcf1-9681f011ca22",
   "metadata": {},
   "source": [
    "# lower( ) \n",
    "# upper( )\n",
    "\n",
    "# Returns a copy of the string with all letters converted to lowercase and uppercase respectively"
   ]
  },
  {
   "cell_type": "code",
   "execution_count": 86,
   "id": "61f8b272-55ed-4511-820f-9b672e4ce716",
   "metadata": {},
   "outputs": [],
   "source": [
    "name=\"Sunny Savita\"\n",
    "lc=name.lower()"
   ]
  },
  {
   "cell_type": "code",
   "execution_count": 87,
   "id": "f40dda9d-d03e-4329-8bd1-6b667cd087f6",
   "metadata": {},
   "outputs": [
    {
     "data": {
      "text/plain": [
       "'sunny savita'"
      ]
     },
     "execution_count": 87,
     "metadata": {},
     "output_type": "execute_result"
    }
   ],
   "source": [
    "lc"
   ]
  },
  {
   "cell_type": "code",
   "execution_count": 88,
   "id": "4f8b89dd-4568-4751-b17c-fb2c91075a1b",
   "metadata": {},
   "outputs": [],
   "source": [
    "uc=name.upper()"
   ]
  },
  {
   "cell_type": "code",
   "execution_count": 89,
   "id": "8a03480c-673d-4a62-a59f-e32b5ac834d9",
   "metadata": {},
   "outputs": [
    {
     "data": {
      "text/plain": [
       "'SUNNY SAVITA'"
      ]
     },
     "execution_count": 89,
     "metadata": {},
     "output_type": "execute_result"
    }
   ],
   "source": [
    "uc"
   ]
  },
  {
   "cell_type": "markdown",
   "id": "b49532c8-868e-42dc-a91e-84423560d9a7",
   "metadata": {},
   "source": [
    "# swapcase():Returns a copy of the string with the case of every character swapped . Means that lowercase characters are changed to uppercase and vice-versa. "
   ]
  },
  {
   "cell_type": "code",
   "execution_count": 90,
   "id": "0b5a69f5-672a-4fc5-9fea-3ecc67724f7d",
   "metadata": {},
   "outputs": [],
   "source": [
    "name=\"Sunny Savita\""
   ]
  },
  {
   "cell_type": "code",
   "execution_count": 91,
   "id": "2a3a7383-7331-4c79-b770-b7193c7f8dbf",
   "metadata": {},
   "outputs": [
    {
     "data": {
      "text/plain": [
       "'sUNNY sAVITA'"
      ]
     },
     "execution_count": 91,
     "metadata": {},
     "output_type": "execute_result"
    }
   ],
   "source": [
    "name.swapcase()"
   ]
  },
  {
   "cell_type": "code",
   "execution_count": 92,
   "id": "03a41a28-db7c-479a-8cdd-09af698493c2",
   "metadata": {},
   "outputs": [],
   "source": [
    "mystring='sUNNY sAVITA'"
   ]
  },
  {
   "cell_type": "code",
   "execution_count": 93,
   "id": "36cab018-d66d-430f-aa67-d6fa337b75db",
   "metadata": {},
   "outputs": [
    {
     "data": {
      "text/plain": [
       "'Sunny Savita'"
      ]
     },
     "execution_count": 93,
     "metadata": {},
     "output_type": "execute_result"
    }
   ],
   "source": [
    "mystring.swapcase()"
   ]
  },
  {
   "cell_type": "markdown",
   "id": "8726d808-0699-448b-91fc-b5c16100c2b1",
   "metadata": {},
   "source": [
    "# title(): Returns a copy of the string converted to proper case or title case. i.e. , all words begin with uppercase letter and the rest are in lowercase. "
   ]
  },
  {
   "cell_type": "code",
   "execution_count": 94,
   "id": "e1d1697e-470b-46a1-af2e-2c129dade7d2",
   "metadata": {},
   "outputs": [],
   "source": [
    "text = \"i lOVe pYTHoN\""
   ]
  },
  {
   "cell_type": "code",
   "execution_count": 95,
   "id": "fbfd3674-187a-42ab-8e18-1a11123d23d9",
   "metadata": {},
   "outputs": [
    {
     "data": {
      "text/plain": [
       "'I Love Python'"
      ]
     },
     "execution_count": 95,
     "metadata": {},
     "output_type": "execute_result"
    }
   ],
   "source": [
    "text.title()"
   ]
  },
  {
   "cell_type": "markdown",
   "id": "78189622-1f57-49d8-9305-ed22cbf1a3aa",
   "metadata": {},
   "source": [
    "# islower( )\n",
    "# isupper( ) \n",
    "# islower( ) and isupper( ) \n",
    "# Returns True or False depending on whether all alphabets in the string are in lowercase and uppercase respectively"
   ]
  },
  {
   "cell_type": "code",
   "execution_count": 96,
   "id": "cc4c2eba-1dea-44b8-8a4d-2f95cd37ff7a",
   "metadata": {},
   "outputs": [],
   "source": [
    "text=\"this is good\""
   ]
  },
  {
   "cell_type": "code",
   "execution_count": 97,
   "id": "3119074c-cc19-4676-8b9e-199cff57c0d0",
   "metadata": {},
   "outputs": [
    {
     "data": {
      "text/plain": [
       "True"
      ]
     },
     "execution_count": 97,
     "metadata": {},
     "output_type": "execute_result"
    }
   ],
   "source": [
    "text.islower()"
   ]
  },
  {
   "cell_type": "code",
   "execution_count": 98,
   "id": "f17eabcf-9dba-47f5-8c23-305cd1c36d54",
   "metadata": {},
   "outputs": [
    {
     "data": {
      "text/plain": [
       "False"
      ]
     },
     "execution_count": 98,
     "metadata": {},
     "output_type": "execute_result"
    }
   ],
   "source": [
    "text.isupper()"
   ]
  },
  {
   "cell_type": "code",
   "execution_count": 99,
   "id": "633b53fc-18b4-4c4c-8855-240ea746c154",
   "metadata": {},
   "outputs": [],
   "source": [
    "text=\"I LOVE PYTHON\""
   ]
  },
  {
   "cell_type": "code",
   "execution_count": 100,
   "id": "2e5a4508-495f-43c0-8fcd-c9a04ee9631b",
   "metadata": {},
   "outputs": [
    {
     "data": {
      "text/plain": [
       "True"
      ]
     },
     "execution_count": 100,
     "metadata": {},
     "output_type": "execute_result"
    }
   ],
   "source": [
    "text.isupper()"
   ]
  },
  {
   "cell_type": "markdown",
   "id": "9782e6b2-455e-4ac6-8e96-64e8f2572ce8",
   "metadata": {},
   "source": [
    "# isalpha( )\n",
    "\n",
    "# Returns True if the string contains only alphabets ,otherwise returns False"
   ]
  },
  {
   "cell_type": "code",
   "execution_count": 107,
   "id": "2c2d04eb-7e32-4ff1-8b5f-29650c5ae977",
   "metadata": {},
   "outputs": [],
   "source": [
    "string=\"mynameissunnyilovedatascience\""
   ]
  },
  {
   "cell_type": "code",
   "execution_count": 108,
   "id": "9fabae18-06c8-49de-8300-30cebb9a6911",
   "metadata": {},
   "outputs": [
    {
     "data": {
      "text/plain": [
       "True"
      ]
     },
     "execution_count": 108,
     "metadata": {},
     "output_type": "execute_result"
    }
   ],
   "source": [
    "string.isalpha()"
   ]
  },
  {
   "cell_type": "markdown",
   "id": "16e59043-4453-4e5f-9445-072b5ae81643",
   "metadata": {},
   "source": [
    "# isdigit( )\n",
    "# Returns True if the string contains only digits , otherwise returns False"
   ]
  },
  {
   "cell_type": "code",
   "execution_count": 112,
   "id": "74f10e18-1b0c-4322-afdd-7a38ca25fd85",
   "metadata": {},
   "outputs": [],
   "source": [
    "mystring=\"1234567890\""
   ]
  },
  {
   "cell_type": "code",
   "execution_count": 113,
   "id": "104d4376-85b4-4a4b-988c-d83685076604",
   "metadata": {},
   "outputs": [
    {
     "data": {
      "text/plain": [
       "True"
      ]
     },
     "execution_count": 113,
     "metadata": {},
     "output_type": "execute_result"
    }
   ],
   "source": [
    "mystring.isdigit()"
   ]
  },
  {
   "cell_type": "markdown",
   "id": "13c32786-8de7-413f-b3e9-1764abd4a4b5",
   "metadata": {},
   "source": [
    "# isalnum( )\n",
    "# Returns True if the string contains only alphanumeric characters , otherwise returns False"
   ]
  },
  {
   "cell_type": "code",
   "execution_count": 129,
   "id": "88b01019-b1c8-4e89-b57e-da04096ce927",
   "metadata": {},
   "outputs": [],
   "source": [
    "mystring=\"sunny123\"\n",
    "mystring1=\"sunny\"\n",
    "mystring2=\"1232345\"\n",
    "mystring3=\"sunny123 savita456\"\n",
    "mystring4=\"ehrfjk$%*\""
   ]
  },
  {
   "cell_type": "code",
   "execution_count": 130,
   "id": "1c2cd270-51b9-4838-b81e-44f9b3555213",
   "metadata": {},
   "outputs": [
    {
     "name": "stdout",
     "output_type": "stream",
     "text": [
      "True\n",
      "True\n",
      "True\n",
      "False\n",
      "False\n"
     ]
    }
   ],
   "source": [
    "print(mystring.isalnum())\n",
    "print(mystring1.isalnum())\n",
    "print(mystring2.isalnum())\n",
    "print(mystring3.isalnum())\n",
    "print(mystring4.isalnum())"
   ]
  },
  {
   "cell_type": "markdown",
   "id": "03e406bc-df84-426f-8bef-62ffe9a2e98e",
   "metadata": {},
   "source": [
    "# isspace( )\n",
    "# Returns True if the string contains only whitespace characters , otherwise returns False"
   ]
  },
  {
   "cell_type": "code",
   "execution_count": 146,
   "id": "595f81ba-d86f-40ab-a9fd-9e437819f626",
   "metadata": {},
   "outputs": [],
   "source": [
    "string=\" \""
   ]
  },
  {
   "cell_type": "code",
   "execution_count": 147,
   "id": "30f89ef5-f57e-4b54-8844-aac60250ce49",
   "metadata": {},
   "outputs": [
    {
     "data": {
      "text/plain": [
       "True"
      ]
     },
     "execution_count": 147,
     "metadata": {},
     "output_type": "execute_result"
    }
   ],
   "source": [
    "string.isspace()"
   ]
  },
  {
   "cell_type": "code",
   "execution_count": 148,
   "id": "9a81c3f3-b716-4342-ba11-0960b89457f2",
   "metadata": {},
   "outputs": [],
   "source": [
    "string1=\"\""
   ]
  },
  {
   "cell_type": "code",
   "execution_count": 149,
   "id": "938b75b1-1a99-4472-8686-3e9140344956",
   "metadata": {},
   "outputs": [
    {
     "data": {
      "text/plain": [
       "False"
      ]
     },
     "execution_count": 149,
     "metadata": {},
     "output_type": "execute_result"
    }
   ],
   "source": [
    "string1.isspace()"
   ]
  },
  {
   "cell_type": "code",
   "execution_count": 150,
   "id": "931de0ba-5f19-42c2-96ae-832fcac663f0",
   "metadata": {},
   "outputs": [],
   "source": [
    "string2=\"S \" "
   ]
  },
  {
   "cell_type": "code",
   "execution_count": 151,
   "id": "4d65d36e-7813-4a5b-9979-55defd064f95",
   "metadata": {},
   "outputs": [
    {
     "data": {
      "text/plain": [
       "False"
      ]
     },
     "execution_count": 151,
     "metadata": {},
     "output_type": "execute_result"
    }
   ],
   "source": [
    "string2.isspace()"
   ]
  },
  {
   "cell_type": "markdown",
   "id": "4d334b38-d19a-4fe2-af0b-dda4a490956c",
   "metadata": {},
   "source": [
    "# startswith( )\n",
    "# endswith( )\n"
   ]
  },
  {
   "cell_type": "code",
   "execution_count": 152,
   "id": "977878b8-245b-4edb-8a24-20b561d9eb3c",
   "metadata": {},
   "outputs": [],
   "source": [
    "text=\"i love machine learning\""
   ]
  },
  {
   "cell_type": "code",
   "execution_count": 154,
   "id": "18fabd52-4289-4a7c-9564-91ff3a586559",
   "metadata": {},
   "outputs": [
    {
     "data": {
      "text/plain": [
       "True"
      ]
     },
     "execution_count": 154,
     "metadata": {},
     "output_type": "execute_result"
    }
   ],
   "source": [
    "text.startswith(\"i\")"
   ]
  },
  {
   "cell_type": "code",
   "execution_count": 156,
   "id": "ed2da210-c88a-4878-b2a4-30fccab41340",
   "metadata": {},
   "outputs": [
    {
     "data": {
      "text/plain": [
       "False"
      ]
     },
     "execution_count": 156,
     "metadata": {},
     "output_type": "execute_result"
    }
   ],
   "source": [
    "text.endswith(\"machine\")"
   ]
  },
  {
   "cell_type": "code",
   "execution_count": 157,
   "id": "599e81a2-74b3-4b25-990b-f3c556636996",
   "metadata": {},
   "outputs": [
    {
     "data": {
      "text/plain": [
       "True"
      ]
     },
     "execution_count": 157,
     "metadata": {},
     "output_type": "execute_result"
    }
   ],
   "source": [
    "text.endswith(\"learning\")"
   ]
  },
  {
   "cell_type": "markdown",
   "id": "91b95b53-7b9c-4ed9-a59f-b68af0dbbdab",
   "metadata": {},
   "source": [
    "# index( )\n",
    "# Returns the index of first occurrence of a substring  inside the string (if found). \n",
    "\n",
    "# If the substring is not found, it raises an exception."
   ]
  },
  {
   "cell_type": "code",
   "execution_count": 161,
   "id": "360bfb27-31cc-4bdd-a327-580b5ed06605",
   "metadata": {},
   "outputs": [],
   "source": [
    "text=\"sunday is fun day fun day\""
   ]
  },
  {
   "cell_type": "code",
   "execution_count": 163,
   "id": "de901864-814f-42b4-9d1c-18bb4491d688",
   "metadata": {},
   "outputs": [
    {
     "data": {
      "text/plain": [
       "3"
      ]
     },
     "execution_count": 163,
     "metadata": {},
     "output_type": "execute_result"
    }
   ],
   "source": [
    "text.index(\"day\")"
   ]
  },
  {
   "cell_type": "markdown",
   "id": "ef4ca6a8-a71a-4b46-9e92-cf0a7db43865",
   "metadata": {},
   "source": [
    "# count( )\n",
    "\n",
    "# Returns the number of occurrences of a substring in the given string\n"
   ]
  },
  {
   "cell_type": "code",
   "execution_count": 166,
   "id": "94c4a4a9-9887-44d5-8ad3-6d8acd4ee81a",
   "metadata": {},
   "outputs": [
    {
     "data": {
      "text/plain": [
       "3"
      ]
     },
     "execution_count": 166,
     "metadata": {},
     "output_type": "execute_result"
    }
   ],
   "source": [
    "text=\"python is awasome. isn't it?, is it true\"\n",
    "text.count(\"is\")"
   ]
  },
  {
   "cell_type": "markdown",
   "id": "e1c42910-b954-4c81-8b01-b1d7ab34396a",
   "metadata": {},
   "source": [
    "# split()"
   ]
  },
  {
   "cell_type": "code",
   "execution_count": 169,
   "id": "2b93dfb5-e708-4fe2-a13b-62b314989a4f",
   "metadata": {},
   "outputs": [
    {
     "data": {
      "text/plain": [
       "['i', 'love', 'my', 'india']"
      ]
     },
     "execution_count": 169,
     "metadata": {},
     "output_type": "execute_result"
    }
   ],
   "source": [
    "\"i@love@my@india\".split(\"@\")"
   ]
  },
  {
   "cell_type": "markdown",
   "id": "2decb1ff-cd98-4f24-9ce7-75ecec40e270",
   "metadata": {},
   "source": [
    "# join()"
   ]
  },
  {
   "cell_type": "code",
   "execution_count": 172,
   "id": "c6b5f34a-745b-4e6f-8b0f-7f859ecbef45",
   "metadata": {},
   "outputs": [
    {
     "data": {
      "text/plain": [
       "'s@u@n@n@y'"
      ]
     },
     "execution_count": 172,
     "metadata": {},
     "output_type": "execute_result"
    }
   ],
   "source": [
    "\"@\".join([\"s\",\"u\",\"n\",\"n\",\"y\"])"
   ]
  },
  {
   "cell_type": "code",
   "execution_count": 173,
   "id": "46718609-c24b-4588-9dee-6a625a43001d",
   "metadata": {},
   "outputs": [
    {
     "data": {
      "text/plain": [
       "'s@u@n@n@y'"
      ]
     },
     "execution_count": 173,
     "metadata": {},
     "output_type": "execute_result"
    }
   ],
   "source": [
    "\"@\".join(\"sunny\")"
   ]
  },
  {
   "cell_type": "code",
   "execution_count": 175,
   "id": "4bafc808-5a76-40b1-808a-fde370d695ce",
   "metadata": {},
   "outputs": [
    {
     "data": {
      "text/plain": [
       "'s n y'"
      ]
     },
     "execution_count": 175,
     "metadata": {},
     "output_type": "execute_result"
    }
   ],
   "source": [
    "\" \".join((\"s\",\"n\",\"y\"))"
   ]
  },
  {
   "cell_type": "code",
   "execution_count": 176,
   "id": "51acfc9c-2d5d-4c0f-8104-2c5f5f2f539c",
   "metadata": {},
   "outputs": [],
   "source": [
    "name=\"sunny\"\n",
    "age=26"
   ]
  },
  {
   "cell_type": "code",
   "execution_count": 177,
   "id": "17a6cda6-b8c1-4ffa-8a17-697012f6aed0",
   "metadata": {},
   "outputs": [
    {
     "name": "stdout",
     "output_type": "stream",
     "text": [
      "My name is sunny and my age is 26\n"
     ]
    }
   ],
   "source": [
    "print(\"My name is\",name,\"and my age is\",age)"
   ]
  },
  {
   "cell_type": "code",
   "execution_count": 178,
   "id": "ff255b8d-f95b-44ae-be98-ba3298b9c7b1",
   "metadata": {},
   "outputs": [
    {
     "name": "stdout",
     "output_type": "stream",
     "text": [
      "My name is sunny and my age is 26\n"
     ]
    }
   ],
   "source": [
    "print(\"My name is {0} and my age is {1}\".format(name,age))"
   ]
  },
  {
   "cell_type": "code",
   "execution_count": 179,
   "id": "bcfb886e-0f11-47b2-8ac2-90fc2df829b9",
   "metadata": {},
   "outputs": [
    {
     "name": "stdout",
     "output_type": "stream",
     "text": [
      "My name is sunny and my age is 26\n"
     ]
    }
   ],
   "source": [
    " print(\"My name is %s and my age is %d\"%(name,age))"
   ]
  },
  {
   "cell_type": "markdown",
   "id": "11af6f43-545d-47bb-aa0f-6016165c8129",
   "metadata": {},
   "source": [
    "# f-string\n",
    "# string interpolation"
   ]
  },
  {
   "cell_type": "code",
   "execution_count": 181,
   "id": "3bb8a0e7-543b-4f0e-b852-26c87bb2afe8",
   "metadata": {},
   "outputs": [
    {
     "name": "stdout",
     "output_type": "stream",
     "text": [
      "my name is sunny my age is 26\n"
     ]
    }
   ],
   "source": [
    "# time com complexity is very less\n",
    "print(f\"my name is {name} my age is {age}\")"
   ]
  },
  {
   "cell_type": "code",
   "execution_count": 184,
   "id": "3703b64b-66ca-4bc8-aea7-42b4a61585c6",
   "metadata": {},
   "outputs": [],
   "source": [
    "a=10\n",
    "b=20\n",
    "\n",
    "#i want max from a and b"
   ]
  },
  {
   "cell_type": "code",
   "execution_count": 185,
   "id": "ff07b4d5-4abc-460d-8e2d-7ecb5034bf72",
   "metadata": {},
   "outputs": [
    {
     "name": "stdout",
     "output_type": "stream",
     "text": [
      "my first number is 10 my second number is 20 and max number is 20\n"
     ]
    }
   ],
   "source": [
    "print(f\"my first number is {a} my second number is {b} and max number is {max(a,b)}\")"
   ]
  },
  {
   "cell_type": "code",
   "execution_count": 186,
   "id": "d96e3ded-9dc3-41ef-ac15-816bc40e1503",
   "metadata": {},
   "outputs": [
    {
     "name": "stdout",
     "output_type": "stream",
     "text": [
      "max is 20\n"
     ]
    }
   ],
   "source": [
    "a = 10\n",
    "b = 20\n",
    "if a > b:\n",
    "    print(f'max is {a}')\n",
    "else:\n",
    "    print(f'max is {b}')\n"
   ]
  },
  {
   "cell_type": "code",
   "execution_count": 187,
   "id": "fa0aa8b0-1f44-425e-aa0a-41e98676a710",
   "metadata": {},
   "outputs": [
    {
     "name": "stdout",
     "output_type": "stream",
     "text": [
      "max between a and b is 20\n"
     ]
    }
   ],
   "source": [
    "a = 10\n",
    "b = 20\n",
    "max1 = max(a,b)\n",
    "print(f\"max between a and b is {max1}\")\n"
   ]
  },
  {
   "cell_type": "markdown",
   "id": "d37342a8-e144-49f3-9eaf-3b4aaf9437ea",
   "metadata": {},
   "source": [
    "# dictionary"
   ]
  },
  {
   "cell_type": "code",
   "execution_count": null,
   "id": "253b31fd-4aa4-4822-b030-e72848e8b18c",
   "metadata": {},
   "outputs": [],
   "source": [
    "list=[]\n",
    "tuple=()\n",
    "set={}\n",
    "string=\"\""
   ]
  },
  {
   "cell_type": "code",
   "execution_count": null,
   "id": "29190587-883a-43b2-8c02-1fbbcde5f7b6",
   "metadata": {},
   "outputs": [],
   "source": [
    "key:value pair\n",
    "\n",
    "dictionary: dict is a collection which holds data in pair(that pair will be in key and value)\n",
    "\n",
    "if i want to connect one piece of info with other piece of info so we always we use dictionary\n",
    "\n",
    "ex: rollno->student name\n",
    "    name-> mobile number\n",
    "\n"
   ]
  },
  {
   "cell_type": "code",
   "execution_count": 188,
   "id": "7fd98046-3fd5-4b0e-a65a-16d56539b442",
   "metadata": {},
   "outputs": [
    {
     "ename": "SyntaxError",
     "evalue": "':' expected after dictionary key (1837110034.py, line 4)",
     "output_type": "error",
     "traceback": [
      "\u001b[0;36m  Cell \u001b[0;32mIn [188], line 4\u001b[0;36m\u001b[0m\n\u001b[0;31m    ....\u001b[0m\n\u001b[0m      ^\u001b[0m\n\u001b[0;31mSyntaxError\u001b[0m\u001b[0;31m:\u001b[0m ':' expected after dictionary key\n"
     ]
    }
   ],
   "source": [
    "#syntax of dictionary\n",
    "dict={ key1:value1,\n",
    " key2:value2,\n",
    " key3:value3,\n",
    " ....\n",
    " keyn:valuen\n",
    "}"
   ]
  },
  {
   "cell_type": "code",
   "execution_count": 189,
   "id": "9ed81098-d2a4-4146-9b4f-e43f356867ca",
   "metadata": {},
   "outputs": [],
   "source": [
    "mydict={}"
   ]
  },
  {
   "cell_type": "code",
   "execution_count": 190,
   "id": "0dc80632-5842-4faf-a147-a1ae1f07a176",
   "metadata": {},
   "outputs": [
    {
     "data": {
      "text/plain": [
       "dict"
      ]
     },
     "execution_count": 190,
     "metadata": {},
     "output_type": "execute_result"
    }
   ],
   "source": [
    "type(mydict)"
   ]
  },
  {
   "cell_type": "code",
   "execution_count": 191,
   "id": "5bb35f26-563c-4e82-8620-f830a6f48910",
   "metadata": {},
   "outputs": [],
   "source": [
    "# dict of int key\n",
    "mydict1={1:\"sunny\",2:\"rajat\",3:\"satish\"}"
   ]
  },
  {
   "cell_type": "code",
   "execution_count": 192,
   "id": "dfdbb203-dbf2-4091-85eb-e8836b46612f",
   "metadata": {},
   "outputs": [
    {
     "data": {
      "text/plain": [
       "{1: 'sunny', 2: 'rajat', 3: 'satish'}"
      ]
     },
     "execution_count": 192,
     "metadata": {},
     "output_type": "execute_result"
    }
   ],
   "source": [
    "mydict1"
   ]
  },
  {
   "cell_type": "code",
   "execution_count": 193,
   "id": "685159ad-3b6d-4bc1-85c2-33e78def0c2c",
   "metadata": {},
   "outputs": [],
   "source": [
    "mydict2={1:\"sunny\",\"a\":\"shubham\"}"
   ]
  },
  {
   "cell_type": "code",
   "execution_count": 194,
   "id": "b61f0518-0837-4da0-a9ba-2e3f7944a9de",
   "metadata": {},
   "outputs": [
    {
     "data": {
      "text/plain": [
       "{1: 'sunny', 'a': 'shubham'}"
      ]
     },
     "execution_count": 194,
     "metadata": {},
     "output_type": "execute_result"
    }
   ],
   "source": [
    "mydict2"
   ]
  },
  {
   "cell_type": "code",
   "execution_count": 196,
   "id": "75bd4850-a375-4fb3-9a1b-f95476d6af70",
   "metadata": {},
   "outputs": [],
   "source": [
    "mydict3={\"rahul\":[\"c\",\"c++\"],\"rohit\":[\"java\",\"java script\"],\"sunny\":[\"python\",\"machine learning\"]}"
   ]
  },
  {
   "cell_type": "code",
   "execution_count": 197,
   "id": "61da1e3c-0eae-484d-befd-79fb37f1c81f",
   "metadata": {},
   "outputs": [
    {
     "data": {
      "text/plain": [
       "{'rahul': ['c', 'c++'],\n",
       " 'rohit': ['java', 'java script'],\n",
       " 'sunny': ['python', 'machine learning']}"
      ]
     },
     "execution_count": 197,
     "metadata": {},
     "output_type": "execute_result"
    }
   ],
   "source": [
    "mydict3"
   ]
  },
  {
   "cell_type": "code",
   "execution_count": 198,
   "id": "6cceb8e7-58ba-446a-bae1-f6fcce4a1175",
   "metadata": {},
   "outputs": [
    {
     "data": {
      "text/plain": [
       "['c', 'c++']"
      ]
     },
     "execution_count": 198,
     "metadata": {},
     "output_type": "execute_result"
    }
   ],
   "source": [
    "mydict3[\"rahul\"]"
   ]
  },
  {
   "cell_type": "code",
   "execution_count": 199,
   "id": "0cca53a7-9f9b-4af6-aa4b-d83d694a566e",
   "metadata": {},
   "outputs": [
    {
     "data": {
      "text/plain": [
       "['python', 'machine learning']"
      ]
     },
     "execution_count": 199,
     "metadata": {},
     "output_type": "execute_result"
    }
   ],
   "source": [
    "mydict3[\"sunny\"]"
   ]
  },
  {
   "cell_type": "code",
   "execution_count": 200,
   "id": "d09785b6-cb52-4491-b661-6346ed92ba5f",
   "metadata": {},
   "outputs": [
    {
     "data": {
      "text/plain": [
       "['python', 'machine learning']"
      ]
     },
     "execution_count": 200,
     "metadata": {},
     "output_type": "execute_result"
    }
   ],
   "source": [
    "mydict3.get(\"sunny\")"
   ]
  },
  {
   "cell_type": "code",
   "execution_count": 201,
   "id": "b469c5af-e56d-428d-909e-7c5e497073bc",
   "metadata": {},
   "outputs": [],
   "source": [
    "student_data={1:\"amit\",2:\"brajesh\",3:\"chetan\",4:\"deepak\",5:\"neeraj\"}"
   ]
  },
  {
   "cell_type": "code",
   "execution_count": 202,
   "id": "4bdf0668-3e67-4be5-be4a-8c30bb522e62",
   "metadata": {},
   "outputs": [
    {
     "data": {
      "text/plain": [
       "{1: 'amit', 2: 'brajesh', 3: 'chetan', 4: 'deepak', 5: 'neeraj'}"
      ]
     },
     "execution_count": 202,
     "metadata": {},
     "output_type": "execute_result"
    }
   ],
   "source": [
    "student_data"
   ]
  },
  {
   "cell_type": "code",
   "execution_count": 207,
   "id": "f1b6db77-e198-4034-8779-3964cb4d68cf",
   "metadata": {},
   "outputs": [
    {
     "name": "stdout",
     "output_type": "stream",
     "text": [
      "my key is: 1\n",
      "my key is: 2\n",
      "my key is: 3\n",
      "my key is: 4\n",
      "my key is: 5\n"
     ]
    }
   ],
   "source": [
    "for i in student_data:\n",
    "    print(\"my key is:\",i)"
   ]
  },
  {
   "cell_type": "code",
   "execution_count": 209,
   "id": "2a641f14-bd4f-42cb-8428-c04176e623f7",
   "metadata": {},
   "outputs": [
    {
     "name": "stdout",
     "output_type": "stream",
     "text": [
      "my key is: 1\n",
      "my key is: 2\n",
      "my key is: 3\n",
      "my key is: 4\n",
      "my key is: 5\n"
     ]
    }
   ],
   "source": [
    "for i in student_data.keys():\n",
    "    print(\"my key is:\",i)"
   ]
  },
  {
   "cell_type": "code",
   "execution_count": 210,
   "id": "db3f61bf-cd1d-4802-ac61-9417c085a095",
   "metadata": {},
   "outputs": [
    {
     "name": "stdout",
     "output_type": "stream",
     "text": [
      "my values is: amit\n",
      "my values is: brajesh\n",
      "my values is: chetan\n",
      "my values is: deepak\n",
      "my values is: neeraj\n"
     ]
    }
   ],
   "source": [
    "for i in student_data.values():\n",
    "    print(\"my values is:\",i)"
   ]
  },
  {
   "cell_type": "code",
   "execution_count": 205,
   "id": "7fd51dbe-2ade-4d99-b721-aaf7d58592c9",
   "metadata": {},
   "outputs": [
    {
     "name": "stdout",
     "output_type": "stream",
     "text": [
      "(1, 'amit')\n",
      "(2, 'brajesh')\n",
      "(3, 'chetan')\n",
      "(4, 'deepak')\n",
      "(5, 'neeraj')\n"
     ]
    }
   ],
   "source": [
    "for x in student_data.items():\n",
    "    print(x)"
   ]
  },
  {
   "cell_type": "code",
   "execution_count": 211,
   "id": "ae8ce5f4-6782-4e70-806b-28518fc73756",
   "metadata": {},
   "outputs": [
    {
     "name": "stdout",
     "output_type": "stream",
     "text": [
      "my key is 1 my value is amit\n",
      "my key is 2 my value is brajesh\n",
      "my key is 3 my value is chetan\n",
      "my key is 4 my value is deepak\n",
      "my key is 5 my value is neeraj\n"
     ]
    }
   ],
   "source": [
    "for x,y in student_data.items():\n",
    "    print(f\"my key is {x} my value is {y}\")"
   ]
  },
  {
   "cell_type": "code",
   "execution_count": 212,
   "id": "4dd9f74a-c6c5-4ea7-9a9f-0881e70e93f2",
   "metadata": {},
   "outputs": [],
   "source": [
    "student_data={1:\"amit\",2:\"brajesh\",3:\"chetan\",4:\"deepak\",5:\"neeraj\"}"
   ]
  },
  {
   "cell_type": "code",
   "execution_count": null,
   "id": "6a1d5cf6-43ce-4383-b570-39fb4196607a",
   "metadata": {},
   "outputs": [],
   "source": [
    "if we want to update any new key value pair in dict we use subscript operator or update function."
   ]
  },
  {
   "cell_type": "code",
   "execution_count": 213,
   "id": "9ce27548-8f46-4572-bce8-1d063551d0d6",
   "metadata": {},
   "outputs": [],
   "source": [
    "student_data[6]=\"sunny\""
   ]
  },
  {
   "cell_type": "code",
   "execution_count": 214,
   "id": "d127808d-c4a8-4786-b233-3de2c51d2e99",
   "metadata": {},
   "outputs": [
    {
     "data": {
      "text/plain": [
       "{1: 'amit', 2: 'brajesh', 3: 'chetan', 4: 'deepak', 5: 'neeraj', 6: 'sunny'}"
      ]
     },
     "execution_count": 214,
     "metadata": {},
     "output_type": "execute_result"
    }
   ],
   "source": [
    "student_data"
   ]
  },
  {
   "cell_type": "code",
   "execution_count": 215,
   "id": "b493ae94-a2b5-4e26-b4e5-3ffd65b18eb9",
   "metadata": {},
   "outputs": [],
   "source": [
    "student_data.update({7:\"zoha\"})"
   ]
  },
  {
   "cell_type": "code",
   "execution_count": 216,
   "id": "c7844d0b-f9ac-4a69-b910-6a560915a995",
   "metadata": {},
   "outputs": [
    {
     "data": {
      "text/plain": [
       "{1: 'amit',\n",
       " 2: 'brajesh',\n",
       " 3: 'chetan',\n",
       " 4: 'deepak',\n",
       " 5: 'neeraj',\n",
       " 6: 'sunny',\n",
       " 7: 'zoha'}"
      ]
     },
     "execution_count": 216,
     "metadata": {},
     "output_type": "execute_result"
    }
   ],
   "source": [
    "student_data"
   ]
  },
  {
   "cell_type": "code",
   "execution_count": 217,
   "id": "c76921fa-a8b0-4a95-aef0-2ecd385037d4",
   "metadata": {},
   "outputs": [],
   "source": [
    "student_data[2]=\"narend modi\""
   ]
  },
  {
   "cell_type": "code",
   "execution_count": 218,
   "id": "3a64455f-bb85-4792-bd9a-f3e1f3163f2b",
   "metadata": {},
   "outputs": [
    {
     "data": {
      "text/plain": [
       "{1: 'amit',\n",
       " 2: 'narend modi',\n",
       " 3: 'chetan',\n",
       " 4: 'deepak',\n",
       " 5: 'neeraj',\n",
       " 6: 'sunny',\n",
       " 7: 'zoha'}"
      ]
     },
     "execution_count": 218,
     "metadata": {},
     "output_type": "execute_result"
    }
   ],
   "source": [
    "student_data"
   ]
  },
  {
   "cell_type": "markdown",
   "id": "3f357e04-68f4-4b42-b405-987d74a64a78",
   "metadata": {},
   "source": [
    "# if key is not available then it will create new pair if it is avaialble it will be overwrite"
   ]
  },
  {
   "cell_type": "markdown",
   "id": "99228a52-2d63-434a-9518-0c49b9e9f46b",
   "metadata": {},
   "source": [
    "# function for the dict\n",
    "\n",
    "len()\n",
    "\n",
    "max()\n",
    "\n",
    "min()\n",
    "\n",
    "any()\n",
    "\n",
    "all()\n",
    "\n",
    "sorted()\n",
    "\n",
    "dict()\n"
   ]
  },
  {
   "cell_type": "code",
   "execution_count": 220,
   "id": "4ce60e54-aa53-4909-a807-d2e6db276e6e",
   "metadata": {},
   "outputs": [],
   "source": [
    "sixMonths = {\"Jan\":31, \"Feb\":28, \"Mar\":31, \"Apr\":30, \"May\":31, \"Jun\":30}\n"
   ]
  },
  {
   "cell_type": "code",
   "execution_count": 225,
   "id": "21489879-ad65-4cdb-8e2c-270e2a03fb9a",
   "metadata": {},
   "outputs": [
    {
     "data": {
      "text/plain": [
       "{'Jan': 31, 'Feb': 28, 'Mar': 31, 'Apr': 30, 'May': 31, 'Jun': 30}"
      ]
     },
     "execution_count": 225,
     "metadata": {},
     "output_type": "execute_result"
    }
   ],
   "source": [
    "sixMonths"
   ]
  },
  {
   "cell_type": "code",
   "execution_count": 226,
   "id": "433476ec-3c87-47fd-9d5f-7b97af5bb29e",
   "metadata": {},
   "outputs": [
    {
     "data": {
      "text/plain": [
       "dict_keys(['Jan', 'Feb', 'Mar', 'Apr', 'May', 'Jun'])"
      ]
     },
     "execution_count": 226,
     "metadata": {},
     "output_type": "execute_result"
    }
   ],
   "source": [
    "sixMonths.keys()"
   ]
  },
  {
   "cell_type": "code",
   "execution_count": 227,
   "id": "00e06530-7339-43c6-a284-684e325e4aa3",
   "metadata": {},
   "outputs": [
    {
     "data": {
      "text/plain": [
       "dict_values([31, 28, 31, 30, 31, 30])"
      ]
     },
     "execution_count": 227,
     "metadata": {},
     "output_type": "execute_result"
    }
   ],
   "source": [
    "sixMonths.values()"
   ]
  },
  {
   "cell_type": "code",
   "execution_count": 228,
   "id": "f0aaf50a-70b8-4f3c-a537-fd19c3f0aabf",
   "metadata": {},
   "outputs": [
    {
     "data": {
      "text/plain": [
       "dict_items([('Jan', 31), ('Feb', 28), ('Mar', 31), ('Apr', 30), ('May', 31), ('Jun', 30)])"
      ]
     },
     "execution_count": 228,
     "metadata": {},
     "output_type": "execute_result"
    }
   ],
   "source": [
    "sixMonths.items()"
   ]
  },
  {
   "cell_type": "code",
   "execution_count": 221,
   "id": "e1683972-08b9-42ca-bc93-4395c4cff14f",
   "metadata": {},
   "outputs": [
    {
     "data": {
      "text/plain": [
       "6"
      ]
     },
     "execution_count": 221,
     "metadata": {},
     "output_type": "execute_result"
    }
   ],
   "source": [
    "len(sixMonths)"
   ]
  },
  {
   "cell_type": "code",
   "execution_count": 224,
   "id": "d1c0d456-7b5b-47f9-8168-839379409a81",
   "metadata": {},
   "outputs": [
    {
     "data": {
      "text/plain": [
       "'May'"
      ]
     },
     "execution_count": 224,
     "metadata": {},
     "output_type": "execute_result"
    }
   ],
   "source": [
    "max(sixMonths)"
   ]
  },
  {
   "cell_type": "code",
   "execution_count": null,
   "id": "8d3b6272-bed5-4880-8495-40a8e39e11a3",
   "metadata": {},
   "outputs": [],
   "source": [
    "m will be greater among all\n",
    "\n",
    "lexiographic comaprison\n",
    "\n",
    "a >b < c"
   ]
  },
  {
   "cell_type": "code",
   "execution_count": null,
   "id": "a7c40cf6-0e1b-4372-b7f7-fefd4131d48c",
   "metadata": {},
   "outputs": [],
   "source": [
    "a b c d e f g h i j k l m n o"
   ]
  },
  {
   "cell_type": "code",
   "execution_count": 223,
   "id": "a0ed04b4-5547-45d0-82d4-812bdee432e4",
   "metadata": {},
   "outputs": [
    {
     "data": {
      "text/plain": [
       "31"
      ]
     },
     "execution_count": 223,
     "metadata": {},
     "output_type": "execute_result"
    }
   ],
   "source": [
    "max(sixMonths.values())"
   ]
  },
  {
   "cell_type": "code",
   "execution_count": 229,
   "id": "98e93161-c92f-489e-b344-4327cbbee55b",
   "metadata": {},
   "outputs": [
    {
     "data": {
      "text/plain": [
       "'Apr'"
      ]
     },
     "execution_count": 229,
     "metadata": {},
     "output_type": "execute_result"
    }
   ],
   "source": [
    "min(sixMonths)"
   ]
  },
  {
   "cell_type": "code",
   "execution_count": 231,
   "id": "be8e2848-d20a-4202-8328-055ebe600854",
   "metadata": {},
   "outputs": [
    {
     "data": {
      "text/plain": [
       "[28, 30, 30, 31, 31, 31]"
      ]
     },
     "execution_count": 231,
     "metadata": {},
     "output_type": "execute_result"
    }
   ],
   "source": [
    "sorted(sixMonths.values())"
   ]
  },
  {
   "cell_type": "code",
   "execution_count": 232,
   "id": "1e217618-395b-4e3f-bb85-7cac18e5e6fe",
   "metadata": {},
   "outputs": [
    {
     "data": {
      "text/plain": [
       "True"
      ]
     },
     "execution_count": 232,
     "metadata": {},
     "output_type": "execute_result"
    }
   ],
   "source": [
    "# homework\n",
    "any(sixMonths)"
   ]
  },
  {
   "cell_type": "code",
   "execution_count": 233,
   "id": "0fd97921-459f-44aa-b050-21c606585f08",
   "metadata": {},
   "outputs": [
    {
     "data": {
      "text/plain": [
       "True"
      ]
     },
     "execution_count": 233,
     "metadata": {},
     "output_type": "execute_result"
    }
   ],
   "source": [
    "#homework\n",
    "all(sixMonths)"
   ]
  },
  {
   "cell_type": "markdown",
   "id": "0d336147-8ec3-4df5-a643-4d3e7e418bbb",
   "metadata": {},
   "source": [
    "# methods in dictionary\n",
    "\n",
    "clear()\n",
    "\n",
    "copy()\n",
    "\n",
    "setdefault()\n",
    "\n",
    "get()# alredy discussed\n",
    "\n",
    "keys()# already discussed\n",
    "\n",
    "values()# already discussed\n",
    "\n",
    "items() # already discussed\n",
    "\n",
    "updated() # already discussed\n",
    "\n",
    "pop()# marked\n",
    "\n",
    "popitem()#marked"
   ]
  },
  {
   "cell_type": "code",
   "execution_count": 234,
   "id": "2db4b67b-53e0-45d1-8d0b-7fc4402d2daf",
   "metadata": {},
   "outputs": [],
   "source": [
    "sixMonths = {\"Jan\":31, \"Feb\":28, \"Mar\":31, \"Apr\":30, \"May\":31, \"Jun\":30}\n"
   ]
  },
  {
   "cell_type": "code",
   "execution_count": 235,
   "id": "d35a1b73-a422-402c-be65-550d5c079062",
   "metadata": {},
   "outputs": [
    {
     "data": {
      "text/plain": [
       "{'Jan': 31, 'Feb': 28, 'Mar': 31, 'Apr': 30, 'May': 31, 'Jun': 30}"
      ]
     },
     "execution_count": 235,
     "metadata": {},
     "output_type": "execute_result"
    }
   ],
   "source": [
    "sixMonths"
   ]
  },
  {
   "cell_type": "code",
   "execution_count": 236,
   "id": "c02c0251-e2ca-48ce-98fc-736c26c7a378",
   "metadata": {},
   "outputs": [
    {
     "data": {
      "text/plain": [
       "31"
      ]
     },
     "execution_count": 236,
     "metadata": {},
     "output_type": "execute_result"
    }
   ],
   "source": [
    "sixMonths.pop(\"Jan\")"
   ]
  },
  {
   "cell_type": "code",
   "execution_count": 237,
   "id": "ae6325b8-d7f0-4b1e-a3ee-b89aaede9bdf",
   "metadata": {},
   "outputs": [
    {
     "data": {
      "text/plain": [
       "{'Feb': 28, 'Mar': 31, 'Apr': 30, 'May': 31, 'Jun': 30}"
      ]
     },
     "execution_count": 237,
     "metadata": {},
     "output_type": "execute_result"
    }
   ],
   "source": [
    "sixMonths"
   ]
  },
  {
   "cell_type": "code",
   "execution_count": 238,
   "id": "db53f10b-0711-4fe1-9f1d-06825e8e2c6d",
   "metadata": {},
   "outputs": [
    {
     "ename": "KeyError",
     "evalue": "'nov'",
     "output_type": "error",
     "traceback": [
      "\u001b[0;31m---------------------------------------------------------------------------\u001b[0m",
      "\u001b[0;31mKeyError\u001b[0m                                  Traceback (most recent call last)",
      "Cell \u001b[0;32mIn [238], line 1\u001b[0m\n\u001b[0;32m----> 1\u001b[0m \u001b[43msixMonths\u001b[49m\u001b[38;5;241;43m.\u001b[39;49m\u001b[43mpop\u001b[49m\u001b[43m(\u001b[49m\u001b[38;5;124;43m\"\u001b[39;49m\u001b[38;5;124;43mnov\u001b[39;49m\u001b[38;5;124;43m\"\u001b[39;49m\u001b[43m)\u001b[49m\n",
      "\u001b[0;31mKeyError\u001b[0m: 'nov'"
     ]
    }
   ],
   "source": [
    "sixMonths.pop(\"nov\")"
   ]
  },
  {
   "cell_type": "code",
   "execution_count": 239,
   "id": "3e899b63-788a-49c4-9490-9a4b13a858b9",
   "metadata": {},
   "outputs": [
    {
     "data": {
      "text/plain": [
       "'not found'"
      ]
     },
     "execution_count": 239,
     "metadata": {},
     "output_type": "execute_result"
    }
   ],
   "source": [
    "sixMonths.pop(\"nov\",\"not found\")"
   ]
  },
  {
   "cell_type": "code",
   "execution_count": 240,
   "id": "409b717a-3a9d-4f44-a5c3-c987e81542a9",
   "metadata": {},
   "outputs": [
    {
     "data": {
      "text/plain": [
       "28"
      ]
     },
     "execution_count": 240,
     "metadata": {},
     "output_type": "execute_result"
    }
   ],
   "source": [
    "sixMonths.pop(\"Feb\",\"not found\")"
   ]
  },
  {
   "cell_type": "code",
   "execution_count": 241,
   "id": "a88061bf-b590-49a1-b259-4666d57fb2b4",
   "metadata": {},
   "outputs": [
    {
     "data": {
      "text/plain": [
       "{'Mar': 31, 'Apr': 30, 'May': 31, 'Jun': 30}"
      ]
     },
     "execution_count": 241,
     "metadata": {},
     "output_type": "execute_result"
    }
   ],
   "source": [
    "sixMonths"
   ]
  },
  {
   "cell_type": "code",
   "execution_count": 242,
   "id": "b158c0b0-a332-4295-95f6-0f7a3beb6e48",
   "metadata": {},
   "outputs": [
    {
     "data": {
      "text/plain": [
       "'not found'"
      ]
     },
     "execution_count": 242,
     "metadata": {},
     "output_type": "execute_result"
    }
   ],
   "source": [
    "sixMonths.pop(\"oct\",\"not found\")"
   ]
  },
  {
   "cell_type": "code",
   "execution_count": 243,
   "id": "9237e9aa-4477-4fc2-8d11-bad218601991",
   "metadata": {},
   "outputs": [
    {
     "data": {
      "text/plain": [
       "{'Mar': 31, 'Apr': 30, 'May': 31, 'Jun': 30}"
      ]
     },
     "execution_count": 243,
     "metadata": {},
     "output_type": "execute_result"
    }
   ],
   "source": [
    "sixMonths\n"
   ]
  },
  {
   "cell_type": "code",
   "execution_count": 244,
   "id": "c6f4c737-45f7-40c3-a557-1dc37a14e8b1",
   "metadata": {},
   "outputs": [
    {
     "data": {
      "text/plain": [
       "('Jun', 30)"
      ]
     },
     "execution_count": 244,
     "metadata": {},
     "output_type": "execute_result"
    }
   ],
   "source": [
    "sixMonths.popitem()"
   ]
  },
  {
   "cell_type": "code",
   "execution_count": 245,
   "id": "8c59c53d-c39a-40d6-b0e3-36b394b5da58",
   "metadata": {},
   "outputs": [
    {
     "data": {
      "text/plain": [
       "{'Mar': 31, 'Apr': 30, 'May': 31}"
      ]
     },
     "execution_count": 245,
     "metadata": {},
     "output_type": "execute_result"
    }
   ],
   "source": [
    "sixMonths"
   ]
  },
  {
   "cell_type": "code",
   "execution_count": 246,
   "id": "a70644d2-c6d8-4660-af6a-4bd46e518e4b",
   "metadata": {},
   "outputs": [
    {
     "data": {
      "text/plain": [
       "('May', 31)"
      ]
     },
     "execution_count": 246,
     "metadata": {},
     "output_type": "execute_result"
    }
   ],
   "source": [
    "sixMonths.popitem()"
   ]
  },
  {
   "cell_type": "code",
   "execution_count": 247,
   "id": "a74e2f7c-e065-4af1-892f-6e5a683b175d",
   "metadata": {},
   "outputs": [
    {
     "data": {
      "text/plain": [
       "{'Mar': 31, 'Apr': 30}"
      ]
     },
     "execution_count": 247,
     "metadata": {},
     "output_type": "execute_result"
    }
   ],
   "source": [
    "sixMonths"
   ]
  },
  {
   "cell_type": "code",
   "execution_count": null,
   "id": "fa03c5da-b226-4ceb-80be-fdb2fc7ae735",
   "metadata": {},
   "outputs": [],
   "source": [
    "pop and popitem is clear"
   ]
  },
  {
   "cell_type": "code",
   "execution_count": 248,
   "id": "7cfd440f-b87a-4b1a-9aa5-bd8b087bdbc6",
   "metadata": {},
   "outputs": [],
   "source": [
    "sixMonths = {\"Jan\":31, \"Feb\":28, \"Mar\":31, \"Apr\":30, \"May\":31, \"Jun\":30}"
   ]
  },
  {
   "cell_type": "code",
   "execution_count": 249,
   "id": "608bb5fb-cc1d-47d2-b455-d974c61335e0",
   "metadata": {},
   "outputs": [],
   "source": [
    "sixMonths.clear()"
   ]
  },
  {
   "cell_type": "code",
   "execution_count": 250,
   "id": "7cd1bde1-09b9-4583-a352-d3ce4a0f2344",
   "metadata": {},
   "outputs": [
    {
     "data": {
      "text/plain": [
       "{}"
      ]
     },
     "execution_count": 250,
     "metadata": {},
     "output_type": "execute_result"
    }
   ],
   "source": [
    "sixMonths"
   ]
  },
  {
   "cell_type": "code",
   "execution_count": 251,
   "id": "89c371de-77ee-4b6e-a285-40ac5210b091",
   "metadata": {},
   "outputs": [],
   "source": [
    "orignal={1:\"one\",2:\"two\",3:\"three\"}"
   ]
  },
  {
   "cell_type": "code",
   "execution_count": 253,
   "id": "519eaaa6-0872-40c1-a172-931831afd541",
   "metadata": {},
   "outputs": [],
   "source": [
    "new=orignal.copy()"
   ]
  },
  {
   "cell_type": "code",
   "execution_count": 254,
   "id": "29fb72f1-6e26-49cd-bc05-1fe462983b43",
   "metadata": {},
   "outputs": [
    {
     "data": {
      "text/plain": [
       "{1: 'one', 2: 'two', 3: 'three'}"
      ]
     },
     "execution_count": 254,
     "metadata": {},
     "output_type": "execute_result"
    }
   ],
   "source": [
    "new"
   ]
  },
  {
   "cell_type": "markdown",
   "id": "0efce232-6f7c-47e4-8ae3-72e6fa0fc742",
   "metadata": {},
   "source": [
    "# what is a difference between deep copy and shallow copy?"
   ]
  },
  {
   "cell_type": "code",
   "execution_count": 255,
   "id": "ad823ab1-795b-4fbf-a62f-fc08f4a0ecac",
   "metadata": {},
   "outputs": [],
   "source": [
    "cars = {\"Maruti\":\"Ciaz\",\"Hyundai\":\"Verna\",\"Honda\":\"Amaze\"}\n"
   ]
  },
  {
   "cell_type": "code",
   "execution_count": 256,
   "id": "dd97e340-ca54-4891-92c8-6a899446f4c8",
   "metadata": {},
   "outputs": [],
   "source": [
    "value=cars.setdefault(\"Hyundai\")"
   ]
  },
  {
   "cell_type": "code",
   "execution_count": 257,
   "id": "7542ce66-7fa5-4584-9e75-bf76a22b43a2",
   "metadata": {},
   "outputs": [
    {
     "data": {
      "text/plain": [
       "'Verna'"
      ]
     },
     "execution_count": 257,
     "metadata": {},
     "output_type": "execute_result"
    }
   ],
   "source": [
    "value"
   ]
  },
  {
   "cell_type": "code",
   "execution_count": 258,
   "id": "0b6b8673-2d9d-47ca-a9d9-6f9fccdbb5ab",
   "metadata": {},
   "outputs": [],
   "source": [
    "value=cars.setdefault(\"Hyundai\",\"i20\")"
   ]
  },
  {
   "cell_type": "code",
   "execution_count": 259,
   "id": "fc2cef0b-164d-4c5a-9548-e2c50e6af71a",
   "metadata": {},
   "outputs": [
    {
     "data": {
      "text/plain": [
       "'Verna'"
      ]
     },
     "execution_count": 259,
     "metadata": {},
     "output_type": "execute_result"
    }
   ],
   "source": [
    "value"
   ]
  },
  {
   "cell_type": "code",
   "execution_count": 260,
   "id": "457fd555-91af-4d6e-bc46-ee4ac38495a4",
   "metadata": {},
   "outputs": [],
   "source": [
    "value=cars.setdefault(\"Renault\")"
   ]
  },
  {
   "cell_type": "code",
   "execution_count": 261,
   "id": "d1d112c5-25d2-4294-b017-6ad05f9f11db",
   "metadata": {},
   "outputs": [],
   "source": [
    "value"
   ]
  },
  {
   "cell_type": "code",
   "execution_count": 262,
   "id": "1a4c375c-4399-42f5-a656-1968f816d399",
   "metadata": {},
   "outputs": [
    {
     "data": {
      "text/plain": [
       "{'Maruti': 'Ciaz', 'Hyundai': 'Verna', 'Honda': 'Amaze', 'Renault': None}"
      ]
     },
     "execution_count": 262,
     "metadata": {},
     "output_type": "execute_result"
    }
   ],
   "source": [
    "cars"
   ]
  },
  {
   "cell_type": "code",
   "execution_count": 266,
   "id": "f967df17-a90d-4423-a54c-6b401dd26823",
   "metadata": {},
   "outputs": [],
   "source": [
    "value=cars.setdefault(\"Renault\",\"duster\")"
   ]
  },
  {
   "cell_type": "code",
   "execution_count": 268,
   "id": "f10200d3-b58e-45c1-8309-b420a7b09bc4",
   "metadata": {},
   "outputs": [],
   "source": [
    "cars[\"Renault\"]=\"duster\""
   ]
  },
  {
   "cell_type": "code",
   "execution_count": 269,
   "id": "7e02f4d4-daca-494f-aac5-3203c80c21aa",
   "metadata": {},
   "outputs": [
    {
     "data": {
      "text/plain": [
       "{'Maruti': 'Ciaz', 'Hyundai': 'Verna', 'Honda': 'Amaze', 'Renault': 'duster'}"
      ]
     },
     "execution_count": 269,
     "metadata": {},
     "output_type": "execute_result"
    }
   ],
   "source": [
    "cars"
   ]
  },
  {
   "cell_type": "code",
   "execution_count": 270,
   "id": "acb89e61-9d5d-4aed-a65c-0b90a1e1fa9a",
   "metadata": {},
   "outputs": [],
   "source": [
    "value=cars.setdefault(\"Audi\",\"Q7\")"
   ]
  },
  {
   "cell_type": "code",
   "execution_count": 271,
   "id": "efa5f44e-ff6e-4709-88f9-6e2dd10289ec",
   "metadata": {},
   "outputs": [
    {
     "data": {
      "text/plain": [
       "'Q7'"
      ]
     },
     "execution_count": 271,
     "metadata": {},
     "output_type": "execute_result"
    }
   ],
   "source": [
    "value"
   ]
  },
  {
   "cell_type": "code",
   "execution_count": 272,
   "id": "ba5bb7e6-91a0-4742-b26b-18661317a7ad",
   "metadata": {},
   "outputs": [
    {
     "data": {
      "text/plain": [
       "'Q7'"
      ]
     },
     "execution_count": 272,
     "metadata": {},
     "output_type": "execute_result"
    }
   ],
   "source": [
    "value"
   ]
  },
  {
   "cell_type": "code",
   "execution_count": 273,
   "id": "33051e41-0423-4efb-8439-db8e9e93cef3",
   "metadata": {},
   "outputs": [
    {
     "data": {
      "text/plain": [
       "{'Maruti': 'Ciaz',\n",
       " 'Hyundai': 'Verna',\n",
       " 'Honda': 'Amaze',\n",
       " 'Renault': 'duster',\n",
       " 'Audi': 'Q7'}"
      ]
     },
     "execution_count": 273,
     "metadata": {},
     "output_type": "execute_result"
    }
   ],
   "source": [
    "cars"
   ]
  },
  {
   "cell_type": "code",
   "execution_count": 274,
   "id": "6859199e-31dc-4a11-b175-788ad82da562",
   "metadata": {},
   "outputs": [],
   "source": [
    "cars.setdefault(\"Mahindra\")"
   ]
  },
  {
   "cell_type": "code",
   "execution_count": 275,
   "id": "23f8d8f4-462a-44a6-897f-aa242a7ee242",
   "metadata": {},
   "outputs": [
    {
     "data": {
      "text/plain": [
       "{'Maruti': 'Ciaz',\n",
       " 'Hyundai': 'Verna',\n",
       " 'Honda': 'Amaze',\n",
       " 'Renault': 'duster',\n",
       " 'Audi': 'Q7',\n",
       " 'Mahindra': None}"
      ]
     },
     "execution_count": 275,
     "metadata": {},
     "output_type": "execute_result"
    }
   ],
   "source": [
    "cars"
   ]
  },
  {
   "cell_type": "code",
   "execution_count": 276,
   "id": "a61df796-30d7-4e98-8037-052ad6e26b52",
   "metadata": {},
   "outputs": [],
   "source": [
    "value=cars.setdefault(\"Mahindra\")"
   ]
  },
  {
   "cell_type": "code",
   "execution_count": 277,
   "id": "c81e213f-b2ac-4fba-9c6f-2903612bc6eb",
   "metadata": {},
   "outputs": [],
   "source": [
    "value"
   ]
  },
  {
   "cell_type": "code",
   "execution_count": 282,
   "id": "94b49395-2a3e-4a5b-b888-86c555c252aa",
   "metadata": {},
   "outputs": [],
   "source": [
    "value=cars.setdefault(\"bmw\",\"m5\")"
   ]
  },
  {
   "cell_type": "code",
   "execution_count": 283,
   "id": "dc1db3f5-3ae7-44e2-b7cf-a93113c1ba4f",
   "metadata": {},
   "outputs": [
    {
     "data": {
      "text/plain": [
       "'m5'"
      ]
     },
     "execution_count": 283,
     "metadata": {},
     "output_type": "execute_result"
    }
   ],
   "source": [
    "value"
   ]
  },
  {
   "cell_type": "code",
   "execution_count": null,
   "id": "20952f01-15df-457e-9d20-8966650f80a4",
   "metadata": {},
   "outputs": [],
   "source": [
    "#kwargs\n",
    "#functions\n",
    "#oops"
   ]
  }
 ],
 "metadata": {
  "kernelspec": {
   "display_name": "Python 3 (ipykernel)",
   "language": "python",
   "name": "python3"
  },
  "language_info": {
   "codemirror_mode": {
    "name": "ipython",
    "version": 3
   },
   "file_extension": ".py",
   "mimetype": "text/x-python",
   "name": "python",
   "nbconvert_exporter": "python",
   "pygments_lexer": "ipython3",
   "version": "3.11.5"
  }
 },
 "nbformat": 4,
 "nbformat_minor": 5
}
