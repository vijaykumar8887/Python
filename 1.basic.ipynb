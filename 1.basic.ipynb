{
 "cells": [
  {
   "cell_type": "code",
   "execution_count": 1,
   "id": "9b5c8b1e-72bb-4aed-9482-bed3dcc87331",
   "metadata": {},
   "outputs": [
    {
     "name": "stdout",
     "output_type": "stream",
     "text": [
      "30\n"
     ]
    }
   ],
   "source": [
    "a=10\n",
    "b=20\n",
    "c=a+b\n",
    "print(c)"
   ]
  },
  {
   "cell_type": "code",
   "execution_count": 2,
   "id": "44fa8a75-29ed-4a2e-8705-60af27b36114",
   "metadata": {},
   "outputs": [],
   "source": [
    "def test():\n",
    "    a=30\n",
    "    b=40\n",
    "    c=a+b\n",
    "    print(c)\n",
    "    "
   ]
  },
  {
   "cell_type": "code",
   "execution_count": 3,
   "id": "ee0ae7de-fcd4-49a3-9376-165004a96e4d",
   "metadata": {},
   "outputs": [
    {
     "name": "stdout",
     "output_type": "stream",
     "text": [
      "70\n"
     ]
    }
   ],
   "source": [
    "test()"
   ]
  },
  {
   "cell_type": "code",
   "execution_count": 4,
   "id": "06d149ac-4ed6-4962-86e9-deb1f95dd5e3",
   "metadata": {},
   "outputs": [
    {
     "name": "stdout",
     "output_type": "stream",
     "text": [
      "70\n"
     ]
    }
   ],
   "source": [
    "test()"
   ]
  },
  {
   "cell_type": "code",
   "execution_count": null,
   "id": "26b4e4f0-f4d6-41dd-9c20-64a516885568",
   "metadata": {},
   "outputs": [],
   "source": [
    "print(\"welcome to python introduction class\")"
   ]
  },
  {
   "cell_type": "code",
   "execution_count": null,
   "id": "895d60d5-911c-4f7b-975b-226631eeac31",
   "metadata": {},
   "outputs": [],
   "source": [
    "a=10"
   ]
  },
  {
   "cell_type": "code",
   "execution_count": null,
   "id": "ae40f9b0-e1ff-4c07-8303-8474f6344479",
   "metadata": {},
   "outputs": [],
   "source": [
    "print(a)"
   ]
  },
  {
   "cell_type": "code",
   "execution_count": 8,
   "id": "5f3baf55-ac04-47d0-8850-5863787195fa",
   "metadata": {},
   "outputs": [],
   "source": [
    "b=20"
   ]
  },
  {
   "cell_type": "code",
   "execution_count": 9,
   "id": "d5aae04f-d033-4d4e-8d61-dea3f6a1ba84",
   "metadata": {},
   "outputs": [
    {
     "name": "stdout",
     "output_type": "stream",
     "text": [
      "20\n"
     ]
    }
   ],
   "source": [
    "print(b)"
   ]
  },
  {
   "cell_type": "code",
   "execution_count": 10,
   "id": "d5d204b3-f346-45a5-8af3-d0fbc9704fb4",
   "metadata": {},
   "outputs": [
    {
     "name": "stdout",
     "output_type": "stream",
     "text": [
      "10\n",
      "20\n"
     ]
    }
   ],
   "source": [
    "print(a)\n",
    "print(b)"
   ]
  },
  {
   "cell_type": "code",
   "execution_count": 11,
   "id": "153e45d6-745c-4386-8d0b-772d650c9ca0",
   "metadata": {},
   "outputs": [
    {
     "name": "stdout",
     "output_type": "stream",
     "text": [
      "this is my first number 10\n"
     ]
    }
   ],
   "source": [
    "print(\"this is my first number\",a)"
   ]
  },
  {
   "cell_type": "code",
   "execution_count": 12,
   "id": "767095e3-6d62-490d-a4be-f752ab8feb5a",
   "metadata": {},
   "outputs": [
    {
     "name": "stdout",
     "output_type": "stream",
     "text": [
      "this is my second number 20\n"
     ]
    }
   ],
   "source": [
    "print(\"this is my second number\",b)"
   ]
  },
  {
   "cell_type": "code",
   "execution_count": 13,
   "id": "94a04ca4-2699-4e82-a5e3-fa9d3b4e6637",
   "metadata": {},
   "outputs": [],
   "source": [
    "c=30"
   ]
  },
  {
   "cell_type": "code",
   "execution_count": 14,
   "id": "b03ae098-9a6c-485c-a4f5-b8580ca09bc5",
   "metadata": {},
   "outputs": [
    {
     "name": "stdout",
     "output_type": "stream",
     "text": [
      "102030\n"
     ]
    }
   ],
   "source": [
    "print(a,end='')\n",
    "print(b,end='')\n",
    "print(c)"
   ]
  },
  {
   "cell_type": "code",
   "execution_count": 15,
   "id": "54b0cef4-0e19-43af-b68f-3f1235875634",
   "metadata": {},
   "outputs": [],
   "source": [
    "# \\t-->tab or 4 white spaces\n",
    "# \\b--> represents the backspace character\n"
   ]
  },
  {
   "cell_type": "code",
   "execution_count": null,
   "id": "47cad137-9da5-4206-92c2-48bd6aae4d05",
   "metadata": {},
   "outputs": [],
   "source": [
    "print(a,end='\\t')\n",
    "print(b,end='')\n",
    "print(c)"
   ]
  },
  {
   "cell_type": "code",
   "execution_count": null,
   "id": "2a4018d4-33b8-475f-a5bf-6305872c32f8",
   "metadata": {},
   "outputs": [],
   "source": [
    "print(a,end='\\t')\n",
    "print(b,end='\\b')\n",
    "print(c)"
   ]
  },
  {
   "cell_type": "markdown",
   "id": "b528d461-ad2f-438e-b928-6c2dd9884660",
   "metadata": {},
   "source": [
    "10     230\n"
   ]
  },
  {
   "cell_type": "markdown",
   "id": "39117027-1412-41ea-a825-76b9df139829",
   "metadata": {},
   "source": [
    "# sep"
   ]
  },
  {
   "cell_type": "code",
   "execution_count": null,
   "id": "569fa57f-0830-41b1-b8f4-e4282b9949a5",
   "metadata": {},
   "outputs": [],
   "source": [
    "# print(a,b,c...n)"
   ]
  },
  {
   "cell_type": "code",
   "execution_count": null,
   "id": "7d74d3fb-6750-4620-9ec4-086013ed6a6b",
   "metadata": {},
   "outputs": [],
   "source": [
    "print(a,b,sep=\"\",end=\"\")"
   ]
  },
  {
   "cell_type": "code",
   "execution_count": null,
   "id": "c2da8a19-bd4a-4f47-80a2-a7a072ef901b",
   "metadata": {},
   "outputs": [],
   "source": [
    "print(a,b,c,sep=\",\")"
   ]
  },
  {
   "cell_type": "markdown",
   "id": "5fb9d3f7-c752-43a0-85fb-ab725c38fc5e",
   "metadata": {},
   "source": [
    "# will start back by 9:18 PM IST"
   ]
  },
  {
   "cell_type": "markdown",
   "id": "066dc6b5-5709-4451-9993-2d22979e5436",
   "metadata": {},
   "source": [
    "# input funciton\n",
    "\n",
    "# it is responsible for taking input from user"
   ]
  },
  {
   "cell_type": "code",
   "execution_count": 16,
   "id": "c5791d56-d8dc-4622-b61d-a09ab2563140",
   "metadata": {},
   "outputs": [
    {
     "name": "stdout",
     "output_type": "stream",
     "text": [
      "1004\n"
     ]
    },
    {
     "data": {
      "text/plain": [
       "'1004'"
      ]
     },
     "execution_count": 16,
     "metadata": {},
     "output_type": "execute_result"
    }
   ],
   "source": [
    "input()"
   ]
  },
  {
   "cell_type": "code",
   "execution_count": null,
   "id": "8664cdc7-8ca9-4b42-b8c3-d63fbcde9d7f",
   "metadata": {},
   "outputs": [],
   "source": [
    "input(\"first number:\")"
   ]
  },
  {
   "cell_type": "code",
   "execution_count": null,
   "id": "7531844a-6c38-4371-bf9d-b3b01457ca3a",
   "metadata": {},
   "outputs": [],
   "source": [
    "a=input(\"please write any number:\")"
   ]
  },
  {
   "cell_type": "code",
   "execution_count": null,
   "id": "b805421f-a33a-40d0-8bfb-c8c153c0c66d",
   "metadata": {},
   "outputs": [],
   "source": [
    "print(a)"
   ]
  },
  {
   "cell_type": "code",
   "execution_count": null,
   "id": "282404d0-7fd7-4707-a2f0-6de47f7eb6cb",
   "metadata": {},
   "outputs": [],
   "source": [
    "type(a)#skip"
   ]
  },
  {
   "cell_type": "code",
   "execution_count": null,
   "id": "f73a3d48-3c8c-4c57-8c4c-9e0300fcacd9",
   "metadata": {},
   "outputs": [],
   "source": [
    "a=100"
   ]
  },
  {
   "cell_type": "code",
   "execution_count": null,
   "id": "19a640a8-cc70-4bca-bcc2-da3e361a11e4",
   "metadata": {},
   "outputs": [],
   "source": [
    "b=200"
   ]
  },
  {
   "cell_type": "code",
   "execution_count": null,
   "id": "85b7afdd-8546-458b-af3a-e3fae2371f77",
   "metadata": {},
   "outputs": [],
   "source": [
    "a+b"
   ]
  },
  {
   "cell_type": "code",
   "execution_count": null,
   "id": "a8cc0258-9b5c-4a61-a9fd-4ef0e0053059",
   "metadata": {},
   "outputs": [],
   "source": [
    "# a+ invalid syntax"
   ]
  },
  {
   "cell_type": "code",
   "execution_count": null,
   "id": "427025f3-9372-4727-a59e-7453daa4cb01",
   "metadata": {},
   "outputs": [],
   "source": [
    "print(a)"
   ]
  },
  {
   "cell_type": "code",
   "execution_count": null,
   "id": "443a4ea7-a7f9-406d-8d22-7a70f72bcf8d",
   "metadata": {},
   "outputs": [],
   "source": [
    "print(a "
   ]
  },
  {
   "cell_type": "code",
   "execution_count": null,
   "id": "f0c8b183-38f6-460e-930b-cea6a20911c6",
   "metadata": {},
   "outputs": [],
   "source": [
    "input()"
   ]
  },
  {
   "cell_type": "code",
   "execution_count": null,
   "id": "e1436641-0cdc-41e2-a3c1-a1bd413a7066",
   "metadata": {},
   "outputs": [],
   "source": [
    "iinput()"
   ]
  },
  {
   "cell_type": "code",
   "execution_count": null,
   "id": "e59eefd0-3add-4e3d-84d2-7590575985b2",
   "metadata": {},
   "outputs": [],
   "source": [
    "a=10\n",
    "b=20\n",
    "c=a/b\n",
    "print(c)"
   ]
  },
  {
   "cell_type": "code",
   "execution_count": null,
   "id": "da2b16eb-45d1-4f02-abda-106030101725",
   "metadata": {},
   "outputs": [],
   "source": [
    "a=10\n",
    "b=0\n",
    "c=a/b\n",
    "print(c)"
   ]
  },
  {
   "cell_type": "code",
   "execution_count": null,
   "id": "11aee1f8-c417-47e3-a1df-c196c5b7decd",
   "metadata": {},
   "outputs": [],
   "source": [
    "a=10"
   ]
  },
  {
   "cell_type": "code",
   "execution_count": null,
   "id": "d0c51ae5-6f15-4093-960b-7d1c48a203cb",
   "metadata": {},
   "outputs": [],
   "source": [
    "B=20"
   ]
  },
  {
   "cell_type": "code",
   "execution_count": null,
   "id": "3dc019d3-298c-4ac0-ae64-ae5aa6097671",
   "metadata": {},
   "outputs": [],
   "source": [
    "3=20"
   ]
  },
  {
   "cell_type": "code",
   "execution_count": null,
   "id": "a560bd01-7dee-4fb2-a8cc-bb8e6f8a40d5",
   "metadata": {},
   "outputs": [],
   "source": [
    "_=30"
   ]
  },
  {
   "cell_type": "code",
   "execution_count": null,
   "id": "4faea4cf-8bc0-4546-88a3-35313297a458",
   "metadata": {},
   "outputs": [],
   "source": [
    "print(_)"
   ]
  },
  {
   "cell_type": "code",
   "execution_count": null,
   "id": "f03f0804-f77c-4263-b79a-fead3bae3904",
   "metadata": {},
   "outputs": [],
   "source": [
    "_3=1000"
   ]
  },
  {
   "cell_type": "code",
   "execution_count": null,
   "id": "8fdc770e-fd50-48b6-82ec-176bcb864d28",
   "metadata": {},
   "outputs": [],
   "source": [
    "print(_3)"
   ]
  },
  {
   "cell_type": "code",
   "execution_count": null,
   "id": "56adece5-c15f-43ff-a009-6e21e3272ff9",
   "metadata": {},
   "outputs": [],
   "source": [
    "30_=1000"
   ]
  },
  {
   "cell_type": "code",
   "execution_count": null,
   "id": "92cee4de-007d-4443-9b8e-3dde955f4f78",
   "metadata": {},
   "outputs": [],
   "source": [
    "a1=1000"
   ]
  },
  {
   "cell_type": "code",
   "execution_count": null,
   "id": "eb940667-fdbf-470b-a36f-be72dc5da517",
   "metadata": {},
   "outputs": [],
   "source": [
    "a1"
   ]
  },
  {
   "cell_type": "code",
   "execution_count": null,
   "id": "b7ec68be-87c0-4285-b1d6-8f5be24bfdda",
   "metadata": {},
   "outputs": [],
   "source": [
    "a_=13409309"
   ]
  },
  {
   "cell_type": "code",
   "execution_count": null,
   "id": "907b8d2f-47f3-4955-b9a8-3db51ec72dbe",
   "metadata": {},
   "outputs": [],
   "source": [
    "_a=2343928"
   ]
  },
  {
   "cell_type": "code",
   "execution_count": null,
   "id": "594ff25a-f2ab-4982-a6ec-6f1869866285",
   "metadata": {},
   "outputs": [],
   "source": [
    "123=\"sunny\""
   ]
  },
  {
   "cell_type": "code",
   "execution_count": null,
   "id": "50de4eac-769b-4325-8b7b-2c2ec9283be3",
   "metadata": {},
   "outputs": [],
   "source": [
    "_123=\"sunny\""
   ]
  },
  {
   "cell_type": "code",
   "execution_count": null,
   "id": "8701c1ea-f0dd-48bc-83b5-1ae3fedd80ac",
   "metadata": {},
   "outputs": [],
   "source": [
    "def _123():\n",
    "    print(\"sunny\")"
   ]
  },
  {
   "cell_type": "code",
   "execution_count": null,
   "id": "04d0f5c5-93ea-4726-bac9-e17817816ba4",
   "metadata": {},
   "outputs": [],
   "source": [
    "_123()"
   ]
  },
  {
   "cell_type": "code",
   "execution_count": null,
   "id": "08862605-21cf-4b8d-b713-8adc32418706",
   "metadata": {},
   "outputs": [],
   "source": [
    "help()"
   ]
  },
  {
   "cell_type": "code",
   "execution_count": 20,
   "id": "76668072-4e0e-4817-9e43-f2359ae1646d",
   "metadata": {},
   "outputs": [],
   "source": [
    "a=100\n"
   ]
  },
  {
   "cell_type": "code",
   "execution_count": 21,
   "id": "5cbfc37f-78d2-402f-8eda-84f10a255ec5",
   "metadata": {},
   "outputs": [
    {
     "name": "stdout",
     "output_type": "stream",
     "text": [
      "100\n"
     ]
    }
   ],
   "source": [
    "print(a)"
   ]
  },
  {
   "cell_type": "code",
   "execution_count": 22,
   "id": "9d752b77-9443-49aa-b439-1c8654147fdf",
   "metadata": {},
   "outputs": [
    {
     "name": "stdout",
     "output_type": "stream",
     "text": [
      "sunny\n"
     ]
    }
   ],
   "source": [
    "if a>10:#the condition will be true and my code will be execute\n",
    "    print(\"sunny\")"
   ]
  },
  {
   "cell_type": "code",
   "execution_count": 23,
   "id": "183d01e8-1fe3-4ac5-b5e7-a3b3294caa00",
   "metadata": {},
   "outputs": [
    {
     "ename": "SyntaxError",
     "evalue": "invalid syntax (982906395.py, line 1)",
     "output_type": "error",
     "traceback": [
      "\u001b[1;36m  Cell \u001b[1;32mIn[23], line 1\u001b[1;36m\u001b[0m\n\u001b[1;33m    if=122939\u001b[0m\n\u001b[1;37m      ^\u001b[0m\n\u001b[1;31mSyntaxError\u001b[0m\u001b[1;31m:\u001b[0m invalid syntax\n"
     ]
    }
   ],
   "source": [
    "if=122939"
   ]
  },
  {
   "cell_type": "code",
   "execution_count": 24,
   "id": "bb73e2b3-fe76-46cd-a1b1-4c880ac8b05d",
   "metadata": {},
   "outputs": [
    {
     "ename": "SyntaxError",
     "evalue": "assignment to yield expression not possible (3980778788.py, line 1)",
     "output_type": "error",
     "traceback": [
      "\u001b[1;36m  Cell \u001b[1;32mIn[24], line 1\u001b[1;36m\u001b[0m\n\u001b[1;33m    yield=2312\u001b[0m\n\u001b[1;37m    ^\u001b[0m\n\u001b[1;31mSyntaxError\u001b[0m\u001b[1;31m:\u001b[0m assignment to yield expression not possible\n"
     ]
    }
   ],
   "source": [
    "yield=2312"
   ]
  },
  {
   "cell_type": "code",
   "execution_count": 25,
   "id": "6c8d0a90-d73a-49b7-9ad7-77e3345a803a",
   "metadata": {},
   "outputs": [
    {
     "ename": "SyntaxError",
     "evalue": "invalid syntax (3906099982.py, line 1)",
     "output_type": "error",
     "traceback": [
      "\u001b[1;36m  Cell \u001b[1;32mIn[25], line 1\u001b[1;36m\u001b[0m\n\u001b[1;33m    def raise():#becuase rasie is keyword or alreay reserved\u001b[0m\n\u001b[1;37m        ^\u001b[0m\n\u001b[1;31mSyntaxError\u001b[0m\u001b[1;31m:\u001b[0m invalid syntax\n"
     ]
    }
   ],
   "source": [
    "def raise():#becuase rasie is keyword or alreay reserved\n",
    "    print(\"sunny\")"
   ]
  },
  {
   "cell_type": "code",
   "execution_count": null,
   "id": "bf560c26-f6e6-4cb6-ab6d-3af4aa4df6e1",
   "metadata": {},
   "outputs": [],
   "source": []
  },
  {
   "cell_type": "code",
   "execution_count": null,
   "id": "35f1e626",
   "metadata": {},
   "outputs": [],
   "source": []
  }
 ],
 "metadata": {
  "kernelspec": {
   "display_name": "Python 3 (ipykernel)",
   "language": "python",
   "name": "python3"
  },
  "language_info": {
   "codemirror_mode": {
    "name": "ipython",
    "version": 3
   },
   "file_extension": ".py",
   "mimetype": "text/x-python",
   "name": "python",
   "nbconvert_exporter": "python",
   "pygments_lexer": "ipython3",
   "version": "3.11.5"
  }
 },
 "nbformat": 4,
 "nbformat_minor": 5
}
