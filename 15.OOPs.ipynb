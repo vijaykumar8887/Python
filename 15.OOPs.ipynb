{
 "cells": [
  {
   "cell_type": "code",
   "execution_count": null,
   "id": "5286dea7-da68-4e75-9f28-3a99f757c8fc",
   "metadata": {},
   "outputs": [],
   "source": [
    "Simple Inheritance\n",
    "multilevel Inheritance\n",
    "hirarchical Inheritance\n",
    "multiple Inheritance\n",
    "Hybrid Inheritance\n"
   ]
  },
  {
   "cell_type": "markdown",
   "id": "1987ba2d-a5fa-45dd-83b3-1ad701ba486c",
   "metadata": {},
   "source": [
    "# this is a example of hirarchical Inheritance"
   ]
  },
  {
   "cell_type": "code",
   "execution_count": 6,
   "id": "0ea54dca-3c38-4455-a843-7b51ed299c6c",
   "metadata": {},
   "outputs": [],
   "source": [
    "class schoolmember:\n",
    "    def __init__(self,name,age):\n",
    "        self.name=name\n",
    "        self.age=age\n",
    "    def tell(self):\n",
    "        print(self.name,self.age, end=\" \")\n",
    "class student(schoolmember):\n",
    "    def __init__(self,name,age,rollno,per):\n",
    "        super().__init__(name,age)\n",
    "        self.rollno=rollno\n",
    "        self.per=per\n",
    "    def tell(self):\n",
    "        super().tell()\n",
    "        print(self.rollno,self.per)\n",
    "class teacher(schoolmember):\n",
    "    def __init__(self,name,age,sal):\n",
    "        super().__init__()\n",
    "        self.sal=sal\n",
    "        "
   ]
  },
  {
   "cell_type": "code",
   "execution_count": 7,
   "id": "a22cd36b-4c77-49e1-a5a3-a2c597dc8d0e",
   "metadata": {},
   "outputs": [],
   "source": [
    "pranab=student(\"pranab\",30,12,75)\n"
   ]
  },
  {
   "cell_type": "code",
   "execution_count": 8,
   "id": "fb98d1d8-7892-495f-ab66-77303d9a9d4e",
   "metadata": {},
   "outputs": [
    {
     "name": "stdout",
     "output_type": "stream",
     "text": [
      "pranab 30 12 75\n"
     ]
    }
   ],
   "source": [
    "pranab.tell()"
   ]
  },
  {
   "cell_type": "markdown",
   "id": "74820862-6c2f-4940-ab02-0c9d9f02e4fe",
   "metadata": {},
   "source": [
    "# this is a example of multiple Inheritance"
   ]
  },
  {
   "cell_type": "markdown",
   "id": "1744a258-5770-436f-bcd4-f73a88026562",
   "metadata": {},
   "source": [
    "# this is Method Resolution Order (MRO)"
   ]
  },
  {
   "cell_type": "code",
   "execution_count": 22,
   "id": "d213fec2-1cff-4268-bb3e-9f01f3674ce8",
   "metadata": {},
   "outputs": [],
   "source": [
    "class A:\n",
    "    pass\n",
    "    #def __init__(self):\n",
    "        #print(\"A has been called\")\n",
    "class B:\n",
    "    def __init__(self):\n",
    "        print(\"B has been called\")\n",
    "class C(A,B):\n",
    "    pass\n",
    "    #def __init__(self):\n",
    "        #pass"
   ]
  },
  {
   "cell_type": "code",
   "execution_count": 25,
   "id": "6a8dd71f-81ec-456f-8c58-b3ac34ee7267",
   "metadata": {},
   "outputs": [
    {
     "name": "stdout",
     "output_type": "stream",
     "text": [
      "[<class '__main__.C'>, <class '__main__.A'>, <class '__main__.B'>, <class 'object'>]\n"
     ]
    }
   ],
   "source": [
    "print(C.mro())"
   ]
  },
  {
   "cell_type": "code",
   "execution_count": 23,
   "id": "0502e72e-1939-4e7c-889f-592a64a5491b",
   "metadata": {},
   "outputs": [
    {
     "name": "stdout",
     "output_type": "stream",
     "text": [
      "B has been called\n"
     ]
    }
   ],
   "source": [
    "obj_first=C()"
   ]
  },
  {
   "cell_type": "code",
   "execution_count": 32,
   "id": "fb9210fd-d324-4089-8756-718901a917f8",
   "metadata": {},
   "outputs": [],
   "source": [
    "class A:\n",
    "    def __init__(self):\n",
    "        print(\"A has been called\")\n",
    "class B:\n",
    "    pass\n",
    "    #def __init__(self):\n",
    "        #print(\"B has been called\")\n",
    "class C(B,A):\n",
    "    pass\n",
    "    #def __init__(self):\n",
    "        #print(\"c has been called\")"
   ]
  },
  {
   "cell_type": "code",
   "execution_count": 34,
   "id": "9043f140-830c-4a52-97f2-0f5301b3ea24",
   "metadata": {},
   "outputs": [
    {
     "name": "stdout",
     "output_type": "stream",
     "text": [
      "[<class '__main__.C'>, <class '__main__.B'>, <class '__main__.A'>, <class 'object'>]\n"
     ]
    }
   ],
   "source": [
    "print(C.mro())"
   ]
  },
  {
   "cell_type": "code",
   "execution_count": 33,
   "id": "4434d922-f464-46c1-b421-ab150364c3b7",
   "metadata": {},
   "outputs": [
    {
     "name": "stdout",
     "output_type": "stream",
     "text": [
      "A has been called\n"
     ]
    }
   ],
   "source": [
    "obj_second=C()"
   ]
  },
  {
   "cell_type": "code",
   "execution_count": 35,
   "id": "ef54fc2d-caa0-4596-b985-89dadaf83930",
   "metadata": {},
   "outputs": [],
   "source": [
    "obj_third=object()"
   ]
  },
  {
   "cell_type": "code",
   "execution_count": 36,
   "id": "04e2a7f4-9abc-4a05-aa6c-b0912e33dce7",
   "metadata": {},
   "outputs": [
    {
     "data": {
      "text/plain": [
       "['__class__',\n",
       " '__delattr__',\n",
       " '__dir__',\n",
       " '__doc__',\n",
       " '__eq__',\n",
       " '__format__',\n",
       " '__ge__',\n",
       " '__getattribute__',\n",
       " '__gt__',\n",
       " '__hash__',\n",
       " '__init__',\n",
       " '__init_subclass__',\n",
       " '__le__',\n",
       " '__lt__',\n",
       " '__ne__',\n",
       " '__new__',\n",
       " '__reduce__',\n",
       " '__reduce_ex__',\n",
       " '__repr__',\n",
       " '__setattr__',\n",
       " '__sizeof__',\n",
       " '__str__',\n",
       " '__subclasshook__']"
      ]
     },
     "execution_count": 36,
     "metadata": {},
     "output_type": "execute_result"
    }
   ],
   "source": [
    "dir(obj_third)"
   ]
  },
  {
   "cell_type": "code",
   "execution_count": 43,
   "id": "dcf54b21-dd9f-47c3-9292-fa69c10264c0",
   "metadata": {},
   "outputs": [],
   "source": [
    "class person:\n",
    "    def __init__(self,name,age):\n",
    "        print(\"person called\")\n",
    "        self.name=name\n",
    "        self.age=age\n",
    "class student:\n",
    "    def __init__(self,name,age,rollno,per):\n",
    "        print(\"student called\")\n",
    "        super().__init__(name,age)\n",
    "        self.rollno=rollno\n",
    "        self.per=per\n",
    "class sciencestudent(student,person):\n",
    "    def __init__(self,name,age,rollno,per,stream):\n",
    "        print(\"science student called\")\n",
    "        super().__init__(name,age,rollno,per)\n",
    "        self.stream=stream\n",
    "    def tell(self):\n",
    "        print(self.name,self.age,self.rollno,self.per,self.stream)"
   ]
  },
  {
   "cell_type": "code",
   "execution_count": 44,
   "id": "3c9ab9a4-4450-4910-9a82-8cd782a0b383",
   "metadata": {},
   "outputs": [
    {
     "name": "stdout",
     "output_type": "stream",
     "text": [
      "science student called\n",
      "student called\n",
      "person called\n"
     ]
    }
   ],
   "source": [
    "sunny=sciencestudent(\"sunny\",26,1,79.5,\"science\")"
   ]
  },
  {
   "cell_type": "code",
   "execution_count": 45,
   "id": "a05198cc-7995-4f31-8809-4cd7758df311",
   "metadata": {},
   "outputs": [
    {
     "name": "stdout",
     "output_type": "stream",
     "text": [
      "sunny 26 1 79.5 science\n"
     ]
    }
   ],
   "source": [
    "sunny.tell()"
   ]
  },
  {
   "cell_type": "code",
   "execution_count": 58,
   "id": "739ce8c0-f12b-4dd8-b996-2eca6d6e9681",
   "metadata": {},
   "outputs": [],
   "source": [
    "class A:\n",
    "    def __init__(self):\n",
    "        print(\"constructor called\")\n",
    "class B:\n",
    "    def __init__(self):\n",
    "        print(\"b called\")\n",
    "        super().__init__()\n",
    "        \n",
    "class C(B,A):\n",
    "    def __init__(self):\n",
    "        print(\"c called\")\n",
    "        super().__init__()\n",
    "        \n",
    "    "
   ]
  },
  {
   "cell_type": "code",
   "execution_count": 59,
   "id": "9f1220ee-52d2-4452-a710-526af428bcd5",
   "metadata": {},
   "outputs": [
    {
     "name": "stdout",
     "output_type": "stream",
     "text": [
      "[<class '__main__.C'>, <class '__main__.B'>, <class '__main__.A'>, <class 'object'>]\n"
     ]
    }
   ],
   "source": [
    "print(C.mro())"
   ]
  },
  {
   "cell_type": "code",
   "execution_count": 60,
   "id": "101cecfc-41ee-42c4-8e49-f0c294ffc133",
   "metadata": {},
   "outputs": [
    {
     "name": "stdout",
     "output_type": "stream",
     "text": [
      "c called\n",
      "b called\n",
      "constructor called\n"
     ]
    }
   ],
   "source": [
    "obj=C()"
   ]
  },
  {
   "cell_type": "code",
   "execution_count": 52,
   "id": "7d66cf81-01b2-4ddd-831f-6cf0cfc8b0da",
   "metadata": {},
   "outputs": [],
   "source": [
    "class person:\n",
    "    def __init__(self,name,age):\n",
    "        self.name=name\n",
    "        self.age=age\n",
    "class student:\n",
    "    def __init__(self,rollno,per):\n",
    "        self.rollno=rollno\n",
    "        self.per=per\n",
    "class sciencestudent(student,person):\n",
    "    def __init__(self,name,age,rollno,per,stream):\n",
    "        person.__init__(self,name,age)\n",
    "        student.__init__(self,rollno,per)\n",
    "        self.stream=stream\n",
    "    def tell(self):\n",
    "        print(self.name,self.age,self.rollno,self.per,self.stream)"
   ]
  },
  {
   "cell_type": "code",
   "execution_count": 53,
   "id": "5f34fbcb-18bb-401d-b88f-458926aee214",
   "metadata": {},
   "outputs": [],
   "source": [
    "rajat=sciencestudent(\"rajat\",29,10,97.5,\"math-bio\")"
   ]
  },
  {
   "cell_type": "code",
   "execution_count": 54,
   "id": "7c9d4159-93e8-44bb-89dc-0299db293fef",
   "metadata": {},
   "outputs": [
    {
     "name": "stdout",
     "output_type": "stream",
     "text": [
      "rajat 29 10 97.5 math-bio\n"
     ]
    }
   ],
   "source": [
    "rajat.tell()"
   ]
  },
  {
   "cell_type": "code",
   "execution_count": 68,
   "id": "204e554c-2ac2-4dcb-89fb-1e6232fbeedb",
   "metadata": {},
   "outputs": [],
   "source": [
    "class A:\n",
    "    def __init__(self):\n",
    "        print(\"A has been called\")\n",
    "class B(A):\n",
    "    pass\n",
    "    #def __init__(self):\n",
    "        #print(\"B has been called\")\n",
    "class C(A):\n",
    "    def __init__(self):\n",
    "        print(\"C has been called\")\n",
    "class D(B,C):\n",
    "    pass\n",
    "    #def __init__(self):\n",
    "        #print(\"D has been called\")"
   ]
  },
  {
   "cell_type": "code",
   "execution_count": 65,
   "id": "7fbf4a19-fb3a-40be-aa79-4f0a2da32100",
   "metadata": {},
   "outputs": [
    {
     "name": "stdout",
     "output_type": "stream",
     "text": [
      "[<class '__main__.D'>, <class '__main__.B'>, <class '__main__.C'>, <class '__main__.A'>, <class 'object'>]\n"
     ]
    }
   ],
   "source": [
    "print(D.mro())"
   ]
  },
  {
   "cell_type": "code",
   "execution_count": 69,
   "id": "3841c48a-06b8-4d0d-86df-6437321cbe7f",
   "metadata": {},
   "outputs": [
    {
     "name": "stdout",
     "output_type": "stream",
     "text": [
      "C has been called\n"
     ]
    }
   ],
   "source": [
    "myfirstobj=D()"
   ]
  },
  {
   "cell_type": "markdown",
   "id": "0685fa08-abc4-41d5-ac70-8d11bf47d84c",
   "metadata": {},
   "source": [
    "# hybrid inheritance"
   ]
  },
  {
   "cell_type": "code",
   "execution_count": 72,
   "id": "fc286c5c-4194-46aa-819a-4687d39aa807",
   "metadata": {},
   "outputs": [],
   "source": [
    "class A:\n",
    "    def m(self):\n",
    "        print(\"m of A called\")\n",
    "\n",
    "class B(A):\n",
    "    def m(self):\n",
    "        print(\"m of B called\")\n",
    "    \n",
    "class C(A):\n",
    "    def m(self):\n",
    "        print(\"m of C called\")\n",
    "\n",
    "class D(B,C):\n",
    "    def m(self):\n",
    "        print(\"m of D called\")\n",
    "        B.m(self)\n",
    "        C.m(self)\n",
    "        A.m(self)\n"
   ]
  },
  {
   "cell_type": "code",
   "execution_count": 73,
   "id": "454c7d25-95bf-49d7-b949-bf0ca0dffed6",
   "metadata": {},
   "outputs": [],
   "source": [
    "mysecondobj=D()"
   ]
  },
  {
   "cell_type": "code",
   "execution_count": 74,
   "id": "9d9587ac-8afc-4c68-96aa-30b23a3a692b",
   "metadata": {},
   "outputs": [
    {
     "name": "stdout",
     "output_type": "stream",
     "text": [
      "m of D called\n",
      "m of B called\n",
      "m of C called\n",
      "m of A called\n"
     ]
    }
   ],
   "source": [
    "mysecondobj.m()"
   ]
  },
  {
   "cell_type": "code",
   "execution_count": 75,
   "id": "4d15b3e2-0d09-498c-9540-90378485c436",
   "metadata": {},
   "outputs": [],
   "source": [
    "class A:\n",
    "    def m(self):\n",
    "        \tprint(\"m of A called\")\n",
    "class B(A):\n",
    "\tdef m(self):\n",
    "\t\tprint(\"m of B called\")\n",
    "\t\tA.m(self)\n",
    "class C(A):\n",
    "\tdef m(self):\n",
    "\t\tprint(\"m of C called\")\n",
    "\t\tA.m(self)\n",
    "class D(B,C):\n",
    "\tdef m(self):\n",
    "\t\tprint(\"m of D called\")\n",
    "\t\tB.m(self)\n",
    "\t\tC.m(self)\n"
   ]
  },
  {
   "cell_type": "code",
   "execution_count": 78,
   "id": "5a3ff7a7-2a29-4c60-a5a6-5bdcf15c26c4",
   "metadata": {},
   "outputs": [
    {
     "name": "stdout",
     "output_type": "stream",
     "text": [
      "[<class '__main__.D'>, <class '__main__.B'>, <class '__main__.C'>, <class '__main__.A'>, <class 'object'>]\n"
     ]
    }
   ],
   "source": [
    "print(D.mro())"
   ]
  },
  {
   "cell_type": "code",
   "execution_count": 76,
   "id": "b8e899cf-850a-4fd6-a17c-a000a38f9fd3",
   "metadata": {},
   "outputs": [],
   "source": [
    "mythridobj=D()"
   ]
  },
  {
   "cell_type": "code",
   "execution_count": 77,
   "id": "b74a6af1-8c28-4660-a8c9-d6341232afa0",
   "metadata": {},
   "outputs": [
    {
     "name": "stdout",
     "output_type": "stream",
     "text": [
      "m of D called\n",
      "m of B called\n",
      "m of A called\n",
      "m of C called\n",
      "m of A called\n"
     ]
    }
   ],
   "source": [
    "mythridobj.m()"
   ]
  },
  {
   "cell_type": "code",
   "execution_count": 79,
   "id": "63b05ba7-5a09-4c35-9820-18ac74bf3d94",
   "metadata": {},
   "outputs": [],
   "source": [
    "class A:\n",
    "    def m(self):\n",
    "        \tprint(\"m of A called\")\n",
    "\n",
    "class B(A):\n",
    "\tdef m(self):\n",
    "\t\tprint(\"m of B called\")\n",
    "\t\tsuper().m()\n",
    "class C(A):\n",
    "\tdef m(self):\n",
    "\t\tprint(\"m of C called\")\n",
    "\t\tsuper().m()\n",
    "class D(B,C):\n",
    "\tdef m(self):\n",
    "\t\tprint(\"m of D called\")\n",
    "\t\tsuper().m() \n"
   ]
  },
  {
   "cell_type": "code",
   "execution_count": 80,
   "id": "2ce35b1d-2561-40af-82b9-0232846c13d6",
   "metadata": {},
   "outputs": [],
   "source": [
    "myfourthobj=D()"
   ]
  },
  {
   "cell_type": "code",
   "execution_count": 81,
   "id": "92bd3943-9618-436a-aca4-3c67573ad522",
   "metadata": {},
   "outputs": [
    {
     "name": "stdout",
     "output_type": "stream",
     "text": [
      "m of D called\n",
      "m of B called\n",
      "m of C called\n",
      "m of A called\n"
     ]
    }
   ],
   "source": [
    "myfourthobj.m()"
   ]
  },
  {
   "cell_type": "markdown",
   "id": "f6cc4ba1-7e73-44b9-b1d7-009d9d520280",
   "metadata": {},
   "source": [
    "# polymorphism"
   ]
  },
  {
   "cell_type": "code",
   "execution_count": null,
   "id": "4adf3507-ce33-43ff-ad8b-36f8a1076a6f",
   "metadata": {},
   "outputs": [],
   "source": [
    "method overriding\n",
    "\n",
    "repr-->A\n",
    "repr-->B\n",
    "repr-->c"
   ]
  },
  {
   "cell_type": "code",
   "execution_count": null,
   "id": "18586221-f64c-4f69-b4ef-4be40357f211",
   "metadata": {},
   "outputs": [],
   "source": [
    "+ operator arthmetic operator"
   ]
  },
  {
   "cell_type": "code",
   "execution_count": 82,
   "id": "fc367e9f-8726-4f1e-b201-026ecd5310c9",
   "metadata": {},
   "outputs": [
    {
     "data": {
      "text/plain": [
       "6"
      ]
     },
     "execution_count": 82,
     "metadata": {},
     "output_type": "execute_result"
    }
   ],
   "source": [
    "a=2\n",
    "b=4\n",
    "a+b"
   ]
  },
  {
   "cell_type": "code",
   "execution_count": 83,
   "id": "397dbd4b-c29c-4d38-82a5-749604eda6bd",
   "metadata": {},
   "outputs": [
    {
     "data": {
      "text/plain": [
       "'sunnysavita'"
      ]
     },
     "execution_count": 83,
     "metadata": {},
     "output_type": "execute_result"
    }
   ],
   "source": [
    "x=\"sunny\"\n",
    "y=\"savita\"\n",
    "x+y"
   ]
  },
  {
   "cell_type": "code",
   "execution_count": 84,
   "id": "9a76da7b-fd4d-4604-baae-c9faf3446cae",
   "metadata": {},
   "outputs": [],
   "source": [
    "class point:\n",
    "    def __init__(self,x,y):\n",
    "        self.x=x\n",
    "        self.y=y"
   ]
  },
  {
   "cell_type": "code",
   "execution_count": 88,
   "id": "c8801a8e-c7a0-45cc-8854-3c685fa502c6",
   "metadata": {},
   "outputs": [],
   "source": [
    "p1=point(2,4)"
   ]
  },
  {
   "cell_type": "code",
   "execution_count": 89,
   "id": "f22f225f-1086-4f6a-b2e8-e4a27ee2805f",
   "metadata": {},
   "outputs": [],
   "source": [
    "p2=point(3,6)"
   ]
  },
  {
   "cell_type": "code",
   "execution_count": 90,
   "id": "84da23dd-fe9b-4673-a649-368ba8d52f80",
   "metadata": {},
   "outputs": [
    {
     "ename": "TypeError",
     "evalue": "unsupported operand type(s) for +: 'point' and 'point'",
     "output_type": "error",
     "traceback": [
      "\u001b[0;31m---------------------------------------------------------------------------\u001b[0m",
      "\u001b[0;31mTypeError\u001b[0m                                 Traceback (most recent call last)",
      "Cell \u001b[0;32mIn [90], line 1\u001b[0m\n\u001b[0;32m----> 1\u001b[0m \u001b[43mp1\u001b[49m\u001b[38;5;241;43m+\u001b[39;49m\u001b[43mp2\u001b[49m\n",
      "\u001b[0;31mTypeError\u001b[0m: unsupported operand type(s) for +: 'point' and 'point'"
     ]
    }
   ],
   "source": [
    "p1+p2"
   ]
  },
  {
   "cell_type": "code",
   "execution_count": 108,
   "id": "f443af1d-fc18-4804-ab36-a0e0a45a16bf",
   "metadata": {},
   "outputs": [],
   "source": [
    "class point:\n",
    "    def __init__(self,x,y):\n",
    "        self.x=x\n",
    "        self.y=y\n",
    "    def __add__(self,other):\n",
    "        x=self.x+other.x\n",
    "        y=self.y+other.y\n",
    "        p=point(x,y)\n",
    "        return p\n",
    "    def __repr__(self):\n",
    "        return f\"x={self.x},y={self.y}\""
   ]
  },
  {
   "cell_type": "code",
   "execution_count": 109,
   "id": "ca4beb84-3213-487e-8fce-c07cf8dcb551",
   "metadata": {},
   "outputs": [],
   "source": [
    "p1=point(2,4)"
   ]
  },
  {
   "cell_type": "code",
   "execution_count": 110,
   "id": "35f2f1db-6ebb-4fda-b704-92937b5879ed",
   "metadata": {},
   "outputs": [
    {
     "name": "stdout",
     "output_type": "stream",
     "text": [
      "x=2,y=4\n"
     ]
    }
   ],
   "source": [
    "print(p1)"
   ]
  },
  {
   "cell_type": "code",
   "execution_count": 111,
   "id": "c1f57c79-393d-4dd9-a2ab-c4010a6a82de",
   "metadata": {},
   "outputs": [],
   "source": [
    "p2=point(4,8)"
   ]
  },
  {
   "cell_type": "code",
   "execution_count": 112,
   "id": "9cbb5a10-8edc-47f5-b741-1fc4f91a403b",
   "metadata": {},
   "outputs": [
    {
     "name": "stdout",
     "output_type": "stream",
     "text": [
      "x=4,y=8\n"
     ]
    }
   ],
   "source": [
    "print(p2)"
   ]
  },
  {
   "cell_type": "code",
   "execution_count": 113,
   "id": "eab1a130-7c4b-4c85-8d39-56146170e2b0",
   "metadata": {},
   "outputs": [
    {
     "data": {
      "text/plain": [
       "x=6,y=12"
      ]
     },
     "execution_count": 113,
     "metadata": {},
     "output_type": "execute_result"
    }
   ],
   "source": [
    "p1+p2"
   ]
  },
  {
   "cell_type": "code",
   "execution_count": 114,
   "id": "6194407e-4e33-4dc0-aae7-51f892e594e2",
   "metadata": {},
   "outputs": [],
   "source": [
    "class point:\n",
    "    def __init__(self,x,y):\n",
    "        self.x=x\n",
    "        self.y=y\n",
    "    def __sub__(self,other):\n",
    "        x=self.x-other.x\n",
    "        y=self.y-other.y\n",
    "        p=point(x,y)\n",
    "        return p\n",
    "    def __repr__(self):\n",
    "        return f\"x={self.x},y={self.y}\""
   ]
  },
  {
   "cell_type": "code",
   "execution_count": 115,
   "id": "925fdcf2-9d8a-4814-916f-a82c635f302f",
   "metadata": {},
   "outputs": [],
   "source": [
    "p1=point(10,20)"
   ]
  },
  {
   "cell_type": "code",
   "execution_count": 116,
   "id": "4b2d5c6f-2b84-436d-8060-bc938a2ea556",
   "metadata": {},
   "outputs": [],
   "source": [
    "p2=point(5,10)"
   ]
  },
  {
   "cell_type": "code",
   "execution_count": 117,
   "id": "8ca61588-c17f-42e2-a8d2-7670d11165d2",
   "metadata": {},
   "outputs": [
    {
     "data": {
      "text/plain": [
       "x=5,y=10"
      ]
     },
     "execution_count": 117,
     "metadata": {},
     "output_type": "execute_result"
    }
   ],
   "source": [
    "p1-p2"
   ]
  },
  {
   "cell_type": "code",
   "execution_count": null,
   "id": "3965351a-2a28-4ff7-bcb2-a7a558ab5a8f",
   "metadata": {},
   "outputs": [],
   "source": []
  }
 ],
 "metadata": {
  "kernelspec": {
   "display_name": "Python 3 (ipykernel)",
   "language": "python",
   "name": "python3"
  },
  "language_info": {
   "codemirror_mode": {
    "name": "ipython",
    "version": 3
   },
   "file_extension": ".py",
   "mimetype": "text/x-python",
   "name": "python",
   "nbconvert_exporter": "python",
   "pygments_lexer": "ipython3",
   "version": "3.10.6"
  }
 },
 "nbformat": 4,
 "nbformat_minor": 5
}
