{
 "cells": [
  {
   "cell_type": "code",
   "execution_count": 1,
   "id": "769bb523",
   "metadata": {},
   "outputs": [],
   "source": [
    "name = 'surya'\n",
    "age =23\n"
   ]
  },
  {
   "cell_type": "code",
   "execution_count": 2,
   "id": "d142e787",
   "metadata": {},
   "outputs": [
    {
     "name": "stdout",
     "output_type": "stream",
     "text": [
      "My name is surya and age is 23 \n"
     ]
    }
   ],
   "source": [
    "print(\"My name is %s and age is %d \" %(name,age))\n",
    "\n"
   ]
  },
  {
   "cell_type": "code",
   "execution_count": 3,
   "id": "061b5a63",
   "metadata": {},
   "outputs": [
    {
     "name": "stdout",
     "output_type": "stream",
     "text": [
      "My name is surya , age is 23 and bank balance is 20333.450000 \n"
     ]
    }
   ],
   "source": [
    "bank_balance = 20333.45\n",
    "print(\"My name is %s , age is %d and bank balance is %f \" %(name,age,bank_balance))\n",
    "\n"
   ]
  },
  {
   "cell_type": "code",
   "execution_count": 4,
   "id": "9dc7d48c",
   "metadata": {},
   "outputs": [
    {
     "name": "stdout",
     "output_type": "stream",
     "text": [
      "My name is surya and age is 23 \n"
     ]
    }
   ],
   "source": [
    "print(\"My name is {} and age is {} \".format(name,age))\n"
   ]
  },
  {
   "cell_type": "code",
   "execution_count": 5,
   "id": "f59b31e7",
   "metadata": {},
   "outputs": [
    {
     "name": "stdout",
     "output_type": "stream",
     "text": [
      "My name is 23 and age is surya \n"
     ]
    }
   ],
   "source": [
    "print(\"My name is {} and age is {} \".format(age,name))\n"
   ]
  },
  {
   "cell_type": "code",
   "execution_count": 6,
   "id": "4eb9090a",
   "metadata": {},
   "outputs": [
    {
     "name": "stdout",
     "output_type": "stream",
     "text": [
      "My name is 23 and age is surya \n"
     ]
    }
   ],
   "source": [
    "print(\"My name is {a} and age is {n} \".format(n=name,a=age))\n"
   ]
  },
  {
   "cell_type": "code",
   "execution_count": 7,
   "id": "8ce8e600",
   "metadata": {},
   "outputs": [
    {
     "name": "stdout",
     "output_type": "stream",
     "text": [
      "my name is surya, age is 23, and bank balance is 20333.45\n"
     ]
    }
   ],
   "source": [
    "# advance way of formate output\n",
    "print(f\"my name is {name}, age is {age}, and bank balance is {bank_balance}\")"
   ]
  },
  {
   "cell_type": "code",
   "execution_count": 14,
   "id": "35de5234",
   "metadata": {},
   "outputs": [
    {
     "name": "stdout",
     "output_type": "stream",
     "text": [
      "20 30\n",
      "50\n"
     ]
    }
   ],
   "source": [
    "# take multiple input in python  using split funtion\n",
    "a,b= input().split()\n",
    "c = int(a)+int(b)\n",
    "print(c)"
   ]
  },
  {
   "cell_type": "code",
   "execution_count": 16,
   "id": "97fcf8a9",
   "metadata": {},
   "outputs": [
    {
     "name": "stdout",
     "output_type": "stream",
     "text": [
      "Enter Number : 10 20 20\n",
      "50\n"
     ]
    }
   ],
   "source": [
    "# take multiple input in python using list comprehension and split function\n",
    "a,b,c = [int(x) for x in input(\"Enter Number : \").split()]\n",
    "print(a+b+c)"
   ]
  },
  {
   "cell_type": "code",
   "execution_count": 18,
   "id": "e482ca29",
   "metadata": {},
   "outputs": [
    {
     "data": {
      "text/plain": [
       "[1,\n",
       " 9,\n",
       " 25,\n",
       " 49,\n",
       " 81,\n",
       " 121,\n",
       " 169,\n",
       " 225,\n",
       " 289,\n",
       " 361,\n",
       " 441,\n",
       " 529,\n",
       " 625,\n",
       " 729,\n",
       " 841,\n",
       " 961,\n",
       " 1089,\n",
       " 1225,\n",
       " 1369,\n",
       " 1521,\n",
       " 1681,\n",
       " 1849,\n",
       " 2025,\n",
       " 2209,\n",
       " 2401]"
      ]
     },
     "execution_count": 18,
     "metadata": {},
     "output_type": "execute_result"
    }
   ],
   "source": [
    "[x**2  for x in range(1,50,2)]"
   ]
  },
  {
   "cell_type": "code",
   "execution_count": 19,
   "id": "14387500",
   "metadata": {},
   "outputs": [
    {
     "name": "stdout",
     "output_type": "stream",
     "text": [
      "(30, -10)\n"
     ]
    }
   ],
   "source": [
    "def fun1(a,b):\n",
    "    return a+b, a-b\n",
    "print(fun1(10,20))"
   ]
  },
  {
   "cell_type": "code",
   "execution_count": null,
   "id": "f5bafe91",
   "metadata": {},
   "outputs": [],
   "source": []
  }
 ],
 "metadata": {
  "kernelspec": {
   "display_name": "Python 3 (ipykernel)",
   "language": "python",
   "name": "python3"
  },
  "language_info": {
   "codemirror_mode": {
    "name": "ipython",
    "version": 3
   },
   "file_extension": ".py",
   "mimetype": "text/x-python",
   "name": "python",
   "nbconvert_exporter": "python",
   "pygments_lexer": "ipython3",
   "version": "3.11.3"
  }
 },
 "nbformat": 4,
 "nbformat_minor": 5
}
