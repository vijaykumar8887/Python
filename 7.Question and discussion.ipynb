{
 "cells": [
  {
   "cell_type": "markdown",
   "id": "b515a790",
   "metadata": {},
   "source": [
    "WAP to accept two numbers from the user and display their sum"
   ]
  },
  {
   "cell_type": "code",
   "execution_count": 1,
   "id": "b6c2ef75",
   "metadata": {},
   "outputs": [
    {
     "name": "stdout",
     "output_type": "stream",
     "text": [
      "enter first number:2\n",
      "enter second number:3\n",
      "5\n"
     ]
    }
   ],
   "source": [
    "a=int(input(\"enter first number:\"))\n",
    "b=int(input(\"enter second number:\"))\n",
    "print(a+b)"
   ]
  },
  {
   "cell_type": "markdown",
   "id": "979ef36d",
   "metadata": {},
   "source": [
    "WAP to accept radius of a Circle from the user and calculate area and circumference"
   ]
  },
  {
   "cell_type": "code",
   "execution_count": 3,
   "id": "9a5b0d4a",
   "metadata": {},
   "outputs": [
    {
     "name": "stdout",
     "output_type": "stream",
     "text": [
      "enter the radius of the circle:7\n",
      "area is 153.93804002589985\n",
      "circumference is 43.982297150257104\n"
     ]
    }
   ],
   "source": [
    "import math\n",
    "radius=float(input(\"enter the radius of the circle:\"))\n",
    "print('area is',math.pi*radius*radius)\n",
    "print('circumference is',2*math.pi*radius)"
   ]
  },
  {
   "cell_type": "markdown",
   "id": "7e4e49f5",
   "metadata": {},
   "source": [
    "WAP to accept roll number , grade and percentage as input from the user and display it back"
   ]
  },
  {
   "cell_type": "code",
   "execution_count": 4,
   "id": "e4cee130",
   "metadata": {},
   "outputs": [
    {
     "name": "stdout",
     "output_type": "stream",
     "text": [
      "enter your roll number:21BF1A3260\n",
      "enter your grade:A\n",
      "enter your percentage:94\n",
      "your roll number is 21BF1A3260 ,grade is A and percentage is 94\n"
     ]
    }
   ],
   "source": [
    "roll_no=input(\"enter your roll number:\")\n",
    "grade=input('enter your grade:')\n",
    "percentage=input('enter your percentage:')\n",
    "print('your roll number is',roll_no,\",grade is\",grade,\"and percentage is\",percentage)"
   ]
  },
  {
   "cell_type": "markdown",
   "id": "37daf41c",
   "metadata": {},
   "source": [
    "Write a program that asks the user to enter his/her name and age. Print out a message , displaying the user’s name along with the year in which they will turn 100 years old."
   ]
  },
  {
   "cell_type": "code",
   "execution_count": 5,
   "id": "15e1567c",
   "metadata": {},
   "outputs": [
    {
     "name": "stdout",
     "output_type": "stream",
     "text": [
      "enter your name:shirisha\n",
      "enter your age:19\n",
      "shirisha by 2103 you would turn 100 years\n"
     ]
    }
   ],
   "source": [
    "name=input(\"enter your name:\")\n",
    "age=int(input(\"enter your age:\"))\n",
    "age_remaining=100-age\n",
    "year=2022+age_remaining\n",
    "print(name,\"by\",year,\"you would turn 100 years\")"
   ]
  },
  {
   "cell_type": "markdown",
   "id": "81aebcf8",
   "metadata": {},
   "source": [
    "Write a program that asks the user to input 2 integers and adds them . Accept both the numbers in a single line only"
   ]
  },
  {
   "cell_type": "code",
   "execution_count": 6,
   "id": "82872fd1",
   "metadata": {},
   "outputs": [
    {
     "name": "stdout",
     "output_type": "stream",
     "text": [
      "enter two numbers:1 2\n",
      "3\n"
     ]
    }
   ],
   "source": [
    "#first method\n",
    "a,b=input(\"enter two numbers:\").split()\n",
    "print(int(a)+int(b))"
   ]
  },
  {
   "cell_type": "code",
   "execution_count": 9,
   "id": "0bc33bf0",
   "metadata": {},
   "outputs": [
    {
     "name": "stdout",
     "output_type": "stream",
     "text": [
      "enter numbers:1 2 \n",
      "3\n"
     ]
    }
   ],
   "source": [
    "#another method\n",
    "a=list(map(int,input(\"enter numbers:\").split()))\n",
    "print(a[0]+a[1])"
   ]
  },
  {
   "cell_type": "markdown",
   "id": "5746761d",
   "metadata": {},
   "source": [
    "Write a Python program which accepts the user's first and last name and print them in reverse order with a space between them."
   ]
  },
  {
   "cell_type": "code",
   "execution_count": 10,
   "id": "49181c23",
   "metadata": {},
   "outputs": [
    {
     "name": "stdout",
     "output_type": "stream",
     "text": [
      "enter your first name:thummala\n",
      "enter your last name:shirisha\n",
      "ahsirihs alammuht\n"
     ]
    }
   ],
   "source": [
    "f=input(\"enter your first name:\")\n",
    "l=input(\"enter your last name:\")\n",
    "name=f+\" \"+l\n",
    "print(name[::-1])"
   ]
  },
  {
   "cell_type": "code",
   "execution_count": 14,
   "id": "ed1fb8ee",
   "metadata": {},
   "outputs": [
    {
     "name": "stdout",
     "output_type": "stream",
     "text": [
      "enter your full name:thummala siri\n",
      "iris alammuht\n"
     ]
    }
   ],
   "source": [
    "name=input(\"enter your full name:\")\n",
    "print(name[::-1])"
   ]
  },
  {
   "cell_type": "code",
   "execution_count": 15,
   "id": "183ae997",
   "metadata": {},
   "outputs": [
    {
     "name": "stdout",
     "output_type": "stream",
     "text": [
      "enter your first name:kutty\n",
      "enter your last name:smitha\n",
      "ahtims yttuk\n"
     ]
    }
   ],
   "source": [
    "f=input(\"enter your first name:\")\n",
    "l=input(\"enter your last name:\")\n",
    "rev1=f[::-1]\n",
    "rev2=l[::-1]\n",
    "print(f\"{rev2} {rev1}\")    #with the help of f-strings"
   ]
  },
  {
   "cell_type": "markdown",
   "id": "fc5f19e3",
   "metadata": {},
   "source": [
    "WAP to accept an integer from the user and check whether it is an even or odd"
   ]
  },
  {
   "cell_type": "code",
   "execution_count": 17,
   "id": "18d22eb5",
   "metadata": {},
   "outputs": [
    {
     "name": "stdout",
     "output_type": "stream",
     "text": [
      "enter an integer:2\n",
      "the given number is even\n"
     ]
    }
   ],
   "source": [
    "n=int(input(\"enter an integer:\"))\n",
    "if n%2==0:\n",
    "    print(\"the given number is even\")\n",
    "else:\n",
    "    print(\"the given number is odd\")"
   ]
  },
  {
   "cell_type": "markdown",
   "id": "40375e2e",
   "metadata": {},
   "source": [
    "WAP to accept a character from the user and check whether it is a capital letter or small letter. Assume user will input only alphabets"
   ]
  },
  {
   "cell_type": "code",
   "execution_count": 19,
   "id": "cebc56dd",
   "metadata": {},
   "outputs": [
    {
     "name": "stdout",
     "output_type": "stream",
     "text": [
      "enter a character:A\n",
      "the given character is in capital letter:\n"
     ]
    }
   ],
   "source": [
    "#first method\n",
    "n=input(\"enter a character:\")\n",
    "if n.upper()==n:\n",
    "    print(\"the given character is in capital letter:\")\n",
    "else:\n",
    "    print(\"the given character is in small letter\")\n"
   ]
  },
  {
   "cell_type": "code",
   "execution_count": 21,
   "id": "d9dfc794",
   "metadata": {},
   "outputs": [
    {
     "name": "stdout",
     "output_type": "stream",
     "text": [
      "enter a character:A\n",
      "upper\n"
     ]
    }
   ],
   "source": [
    "#second method\n",
    "n=input(\"enter a character:\")\n",
    "if \"A\"<=n<=\"Z\":\n",
    "    print(\"upper\")\n",
    "else:\n",
    "    print(\"lower\")"
   ]
  },
  {
   "cell_type": "code",
   "execution_count": 23,
   "id": "baf9bcb5",
   "metadata": {},
   "outputs": [
    {
     "name": "stdout",
     "output_type": "stream",
     "text": [
      "enter a character:A\n",
      "upper\n"
     ]
    }
   ],
   "source": [
    "#third method\n",
    "n=input('enter a character:')\n",
    "if n.isupper()==True:\n",
    "    print(\"upper\")\n",
    "else:\n",
    "    print(\"lower\")"
   ]
  },
  {
   "cell_type": "markdown",
   "id": "b1f649c1",
   "metadata": {},
   "source": [
    "WAP to accept a character from the user and check whether it is a capital letter or small letter or a digit or some special symbol"
   ]
  },
  {
   "cell_type": "code",
   "execution_count": 27,
   "id": "be38cc3b",
   "metadata": {},
   "outputs": [
    {
     "name": "stdout",
     "output_type": "stream",
     "text": [
      "enter a character:@\n",
      "special symbol\n"
     ]
    }
   ],
   "source": [
    "#first method\n",
    "n=input(\"enter a character:\")\n",
    "if 'A'<=n<='Z':\n",
    "    print(\"upper\")\n",
    "elif 'a'<=n<='z':\n",
    "    print(\"lower\")\n",
    "elif '0'<=n<='9':\n",
    "    print(\"digit\")\n",
    "else:\n",
    "    print(\"special symbol\")"
   ]
  },
  {
   "cell_type": "code",
   "execution_count": 31,
   "id": "119a6c38",
   "metadata": {},
   "outputs": [
    {
     "name": "stdout",
     "output_type": "stream",
     "text": [
      "enter character:#\n",
      "special symbol\n"
     ]
    }
   ],
   "source": [
    "#second method\n",
    "n=input(\"enter character:\")\n",
    "if n.isupper()==True:\n",
    "    print(\"upper\")\n",
    "elif n.islower()==True:\n",
    "    print(\"lower\")\n",
    "elif n.isdigit()==True:\n",
    "    print(\"digit\")\n",
    "else:\n",
    "    print(\"special symbol\")"
   ]
  },
  {
   "cell_type": "markdown",
   "id": "e3e4a318",
   "metadata": {},
   "source": [
    "WAP to accept 3 integers from the user and without using any logical operator and cascading of relational operators , find out the greatest number amongst them"
   ]
  },
  {
   "cell_type": "code",
   "execution_count": 34,
   "id": "6f7d3435",
   "metadata": {},
   "outputs": [
    {
     "name": "stdout",
     "output_type": "stream",
     "text": [
      "12\n",
      "34\n",
      "56\n",
      "the biggest number is 56\n"
     ]
    }
   ],
   "source": [
    "#first method\n",
    "a=int(input())\n",
    "b=int(input())\n",
    "c=int(input())\n",
    "print(\"the biggest number is\",end=\" \")\n",
    "if a>b:\n",
    "    if a>c:\n",
    "        print(a)\n",
    "    else:\n",
    "        print(c)\n",
    "else:\n",
    "    if b>c:\n",
    "        print(b)\n",
    "    else:\n",
    "        print(c)"
   ]
  },
  {
   "cell_type": "markdown",
   "id": "ffb4d45d",
   "metadata": {},
   "source": [
    "WAP to accept a year from the user and check whether it is a leap year or not."
   ]
  },
  {
   "cell_type": "code",
   "execution_count": 35,
   "id": "df716a0d",
   "metadata": {},
   "outputs": [
    {
     "name": "stdout",
     "output_type": "stream",
     "text": [
      "enter a year:2004\n",
      "leap year\n"
     ]
    }
   ],
   "source": [
    "n=int(input(\"enter a year:\"))\n",
    "if (n%4==0 and n%100!=0) or n%400==0:\n",
    "    print(\"leap year\")\n",
    "else:\n",
    "    print(\"non leap year\")"
   ]
  },
  {
   "cell_type": "markdown",
   "id": "200136d4",
   "metadata": {},
   "source": [
    "developing a number guessing game\n",
    "At first , the program will generate a random integer secretly.\n",
    "\n",
    "Now it will ask the user to guess that number .\n",
    "\n",
    "If the user guessed it correctly then the program prints “Congratulations! You guessed it right” .\n",
    "\n",
    "But if the number guessed by the user is larger than the secret number then program should print “Number too large” and , if the number guessed by the user is smaller than the secret number then the program should print “Number too small” \n",
    "\n",
    "This should continue until the user guesses the number correctly or quits .\n",
    "\n",
    "If the user wants to quit in between he will have to type 0 or negative number\n"
   ]
  },
  {
   "cell_type": "code",
   "execution_count": 36,
   "id": "d567e924",
   "metadata": {},
   "outputs": [
    {
     "name": "stdout",
     "output_type": "stream",
     "text": [
      "guess that number:4\n",
      "number too small\n",
      "guess that number:10\n",
      "number too large\n",
      "guess that number:5\n",
      "number too small\n",
      "guess that number:8\n",
      "Congratulations! You guessed it right\n"
     ]
    }
   ],
   "source": [
    "import random\n",
    "a=random.randint(1,100)\n",
    "while(1):\n",
    "    n=int(input(\"guess that number:\"))\n",
    "    if n==a:\n",
    "        print(\"Congratulations! You guessed it right\")\n",
    "        break\n",
    "    elif n>a:\n",
    "        print('number too large')\n",
    "    elif 0<n<a:\n",
    "        print('number too small')\n",
    "    else:\n",
    "        break"
   ]
  },
  {
   "cell_type": "markdown",
   "id": "063e0f44",
   "metadata": {},
   "source": [
    "Write a program to accept a string from the user and display it vertically but don’t display the vowels in it"
   ]
  },
  {
   "cell_type": "code",
   "execution_count": 1,
   "id": "2755c0ef",
   "metadata": {},
   "outputs": [
    {
     "name": "stdout",
     "output_type": "stream",
     "text": [
      "enter a string:shirisha\n",
      "s\n",
      "h\n",
      "r\n",
      "s\n",
      "h\n"
     ]
    }
   ],
   "source": [
    "#first method\n",
    "string=input(\"enter a string:\")\n",
    "for i in string:\n",
    "    if i not in 'aeiouAEIOU':\n",
    "        print(i)\n"
   ]
  },
  {
   "cell_type": "code",
   "execution_count": 2,
   "id": "c51da2ed",
   "metadata": {},
   "outputs": [
    {
     "name": "stdout",
     "output_type": "stream",
     "text": [
      "enter a string:seetha\n",
      "s\n",
      "t\n",
      "h\n"
     ]
    }
   ],
   "source": [
    "#second method\n",
    "#to accept a string and should not display vowels\n",
    "n=input(\"enter a string:\")\n",
    "a=0\n",
    "while(a<len(n)):\n",
    "    if n[a]!='a' and n[a]!='e' and n[a]!='i' and n[a]!='o' and n[a]!='u':\n",
    "        print(n[a])\n",
    "    a+=1"
   ]
  },
  {
   "cell_type": "markdown",
   "id": "96408301",
   "metadata": {},
   "source": [
    "Write a program to continuously accept integers from the user until the user types 0 and as soon as 0 is entered display sum of all the nos entered before 0"
   ]
  },
  {
   "cell_type": "code",
   "execution_count": 4,
   "id": "be17355b",
   "metadata": {},
   "outputs": [
    {
     "name": "stdout",
     "output_type": "stream",
     "text": [
      "enter a number(press 0 to return sum):1\n",
      "enter a number(press 0 to return sum):2\n",
      "enter a number(press 0 to return sum):3\n",
      "enter a number(press 0 to return sum):4\n",
      "enter a number(press 0 to return sum):5\n",
      "enter a number(press 0 to return sum):0\n",
      "sum is 15\n"
     ]
    }
   ],
   "source": [
    "sum=0\n",
    "while (1):\n",
    "    n=int(input(\"enter a number(press 0 to return sum):\"))\n",
    "    if n==0:\n",
    "        print('sum is',sum)\n",
    "        break\n",
    "    sum=sum+n"
   ]
  },
  {
   "cell_type": "markdown",
   "id": "8ca82837",
   "metadata": {},
   "source": [
    "Modify the previous code so that if the user inputs a negative integer , your program should ignore it"
   ]
  },
  {
   "cell_type": "code",
   "execution_count": 5,
   "id": "de89ec29",
   "metadata": {},
   "outputs": [
    {
     "name": "stdout",
     "output_type": "stream",
     "text": [
      "enter a number(press 0 to return sum):1\n",
      "enter a number(press 0 to return sum):2\n",
      "enter a number(press 0 to return sum):3\n",
      "enter a number(press 0 to return sum):4\n",
      "enter a number(press 0 to return sum):5\n",
      "enter a number(press 0 to return sum):-2\n",
      "enter a number(press 0 to return sum):0\n",
      "sum is 15\n"
     ]
    }
   ],
   "source": [
    "sum=0\n",
    "while (1):\n",
    "    n=int(input(\"enter a number(press 0 to return sum):\"))\n",
    "    if n==0:\n",
    "        print('sum is',sum)\n",
    "        break\n",
    "    elif n>0:\n",
    "        sum=sum+n"
   ]
  },
  {
   "cell_type": "markdown",
   "id": "295a8bfc",
   "metadata": {},
   "source": [
    "Write a program using a for loop to accept a string from the user and display it vertically but don’t display the vowels in it."
   ]
  },
  {
   "cell_type": "code",
   "execution_count": 6,
   "id": "b29c9547",
   "metadata": {},
   "outputs": [
    {
     "name": "stdout",
     "output_type": "stream",
     "text": [
      "enter a string:virupaksha\n",
      "v\n",
      "r\n",
      "p\n",
      "k\n",
      "s\n",
      "h\n"
     ]
    }
   ],
   "source": [
    "string=input(\"enter a string:\")\n",
    "for i in string:\n",
    "    if i not in 'aeiouAEIOU':\n",
    "        print(i)"
   ]
  },
  {
   "cell_type": "markdown",
   "id": "4d7a1189",
   "metadata": {},
   "source": [
    "Write a program to accept an integer from the user and display the sum of all the numbers from 1 to that number"
   ]
  },
  {
   "cell_type": "code",
   "execution_count": 8,
   "id": "483595ec",
   "metadata": {},
   "outputs": [
    {
     "name": "stdout",
     "output_type": "stream",
     "text": [
      "enter a number:5\n",
      "sum is 15.0\n"
     ]
    }
   ],
   "source": [
    "n=int(input(\"enter a number:\"))\n",
    "print('sum is',(n*(n+1))/2)"
   ]
  },
  {
   "cell_type": "code",
   "execution_count": 10,
   "id": "12f8a71c",
   "metadata": {},
   "outputs": [
    {
     "name": "stdout",
     "output_type": "stream",
     "text": [
      "enter a number:5\n",
      "sum is 15\n"
     ]
    }
   ],
   "source": [
    "#another approach\n",
    "n=int(input(\"enter a number:\"))\n",
    "sum=0\n",
    "for i in range(1,n+1):\n",
    "    sum=sum+i\n",
    "print('sum is',sum)"
   ]
  },
  {
   "cell_type": "markdown",
   "id": "7a25f70f",
   "metadata": {},
   "source": [
    "Write a program to accept an integer from the user and calculate its factorial"
   ]
  },
  {
   "cell_type": "code",
   "execution_count": 11,
   "id": "6ee544a1",
   "metadata": {},
   "outputs": [
    {
     "name": "stdout",
     "output_type": "stream",
     "text": [
      "enter a number:5\n",
      "factorial is 120\n"
     ]
    }
   ],
   "source": [
    "n=int(input(\"enter a number:\"))\n",
    "fact=1\n",
    "for i in range(1,n+1):\n",
    "    fact=fact*i\n",
    "if n==0 or n==1:\n",
    "    print('factorial is 1')\n",
    "print(\"factorial is\",fact)"
   ]
  },
  {
   "cell_type": "markdown",
   "id": "7d35f9c5",
   "metadata": {},
   "source": [
    "Write a program to print the following pattern \n",
    "* * *\n",
    "* * *\n",
    "* * *\n",
    "* * *"
   ]
  },
  {
   "cell_type": "code",
   "execution_count": 1,
   "id": "3be6fbc8",
   "metadata": {},
   "outputs": [
    {
     "name": "stdout",
     "output_type": "stream",
     "text": [
      "enter number of rows:4\n",
      "* * * \n",
      "* * * \n",
      "* * * \n",
      "* * * \n"
     ]
    }
   ],
   "source": [
    "n=int(input(\"enter number of rows:\"))\n",
    "for i in range(1,n+1):\n",
    "    print(\"* \"*3)"
   ]
  },
  {
   "cell_type": "markdown",
   "id": "f68a35b2",
   "metadata": {},
   "source": [
    "Write a program to print the following pattern\n",
    "*\n",
    "* *\n",
    "* * *\n",
    "* * * *"
   ]
  },
  {
   "cell_type": "code",
   "execution_count": 2,
   "id": "70e116ec",
   "metadata": {},
   "outputs": [
    {
     "name": "stdout",
     "output_type": "stream",
     "text": [
      "enter number of rows you want:4\n",
      "* \n",
      "* * \n",
      "* * * \n",
      "* * * * \n"
     ]
    }
   ],
   "source": [
    "n=int(input(\"enter number of rows you want:\"))\n",
    "for i in range(1,n+1):\n",
    "    print(\"* \"*i)"
   ]
  },
  {
   "cell_type": "code",
   "execution_count": null,
   "id": "026456c2",
   "metadata": {},
   "outputs": [],
   "source": [
    "Write a program to print the following pattern\n",
    "* * * *\n",
    "* * *\n",
    "* *\n",
    "*"
   ]
  },
  {
   "cell_type": "code",
   "execution_count": 3,
   "id": "491806e4",
   "metadata": {},
   "outputs": [
    {
     "name": "stdout",
     "output_type": "stream",
     "text": [
      "enter number of rows you want:4\n",
      "* * * * \n",
      "* * * \n",
      "* * \n",
      "* \n"
     ]
    }
   ],
   "source": [
    "n=int(input(\"enter number of rows you want:\"))\n",
    "for i in range(n,0,-1):\n",
    "    print('* '*i)"
   ]
  },
  {
   "cell_type": "markdown",
   "id": "e330f11a",
   "metadata": {},
   "source": [
    "Write a program to accept an integer from the user and display all the numbers from 1 to that number. Repeat the process until the user enters 0.\n",
    "\n"
   ]
  },
  {
   "cell_type": "code",
   "execution_count": 6,
   "id": "d7ec657a",
   "metadata": {},
   "outputs": [
    {
     "name": "stdout",
     "output_type": "stream",
     "text": [
      "enter a number(enter 0 to exit):4\n",
      "1\n",
      "2\n",
      "3\n",
      "4\n",
      "enter a number(enter 0 to exit):5\n",
      "1\n",
      "2\n",
      "3\n",
      "4\n",
      "5\n",
      "enter a number(enter 0 to exit):0\n"
     ]
    }
   ],
   "source": [
    "while(1):\n",
    "    n=int(input(\"enter a number(enter 0 to exit):\"))\n",
    "    for i in range(1,n+1):\n",
    "        print(i)\n",
    "    if n==0:\n",
    "        break"
   ]
  }
 ],
 "metadata": {
  "kernelspec": {
   "display_name": "Python 3 (ipykernel)",
   "language": "python",
   "name": "python3"
  },
  "language_info": {
   "codemirror_mode": {
    "name": "ipython",
    "version": 3
   },
   "file_extension": ".py",
   "mimetype": "text/x-python",
   "name": "python",
   "nbconvert_exporter": "python",
   "pygments_lexer": "ipython3",
   "version": "3.11.5"
  }
 },
 "nbformat": 4,
 "nbformat_minor": 5
}
