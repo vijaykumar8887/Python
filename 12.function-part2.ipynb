{
 "cells": [
  {
   "cell_type": "code",
   "execution_count": 1,
   "id": "5c99a1ee-1c8a-4050-8e10-bea82d283935",
   "metadata": {},
   "outputs": [],
   "source": [
    "def test():\n",
    "    pass"
   ]
  },
  {
   "cell_type": "code",
   "execution_count": 2,
   "id": "d7ca6ab9-55b1-4f5c-8a5b-be5e61e893cc",
   "metadata": {},
   "outputs": [],
   "source": [
    "test()"
   ]
  },
  {
   "cell_type": "code",
   "execution_count": null,
   "id": "8c587ab6-903e-4133-b6bf-1ae6de4ab80e",
   "metadata": {},
   "outputs": [],
   "source": [
    "1. positional argumnet\n",
    "2. default argument\n",
    "3. keyword argumnet\n",
    "4. variable length argument"
   ]
  },
  {
   "cell_type": "code",
   "execution_count": 5,
   "id": "e13c77bf-bfe6-4b91-8be5-10eb007b959d",
   "metadata": {},
   "outputs": [
    {
     "name": "stdout",
     "output_type": "stream",
     "text": [
      "i love python\n"
     ]
    }
   ],
   "source": [
    "s=\"i love python\"\n",
    "def f():\n",
    "    print(s)\n",
    "f()# function call"
   ]
  },
  {
   "cell_type": "code",
   "execution_count": 4,
   "id": "03131ebd-692f-41b0-ae9a-4a291b6da681",
   "metadata": {},
   "outputs": [],
   "source": [
    "s=\"i love python\"\n",
    "def f():\n",
    "    print(s)"
   ]
  },
  {
   "cell_type": "code",
   "execution_count": 10,
   "id": "8405cd3a-8c98-495b-8e01-60efb6be1c6b",
   "metadata": {},
   "outputs": [
    {
     "name": "stdout",
     "output_type": "stream",
     "text": [
      "i love python\n"
     ]
    }
   ],
   "source": [
    "def f():\n",
    "    print(x)\n",
    "x=\"i love python\"# global varibale\n",
    "f()"
   ]
  },
  {
   "cell_type": "code",
   "execution_count": 7,
   "id": "c8891156-8ce0-4746-ba6b-e368d03e3a08",
   "metadata": {},
   "outputs": [
    {
     "ename": "NameError",
     "evalue": "name 'y' is not defined",
     "output_type": "error",
     "traceback": [
      "\u001b[0;31m---------------------------------------------------------------------------\u001b[0m",
      "\u001b[0;31mNameError\u001b[0m                                 Traceback (most recent call last)",
      "Cell \u001b[0;32mIn [7], line 3\u001b[0m\n\u001b[1;32m      1\u001b[0m \u001b[38;5;28;01mdef\u001b[39;00m \u001b[38;5;21mf\u001b[39m():\n\u001b[1;32m      2\u001b[0m     \u001b[38;5;28mprint\u001b[39m(y)\n\u001b[0;32m----> 3\u001b[0m \u001b[43mf\u001b[49m\u001b[43m(\u001b[49m\u001b[43m)\u001b[49m\n\u001b[1;32m      4\u001b[0m y\u001b[38;5;241m=\u001b[39m\u001b[38;5;124m\"\u001b[39m\u001b[38;5;124mi love python\u001b[39m\u001b[38;5;124m\"\u001b[39m\n",
      "Cell \u001b[0;32mIn [7], line 2\u001b[0m, in \u001b[0;36mf\u001b[0;34m()\u001b[0m\n\u001b[1;32m      1\u001b[0m \u001b[38;5;28;01mdef\u001b[39;00m \u001b[38;5;21mf\u001b[39m():\n\u001b[0;32m----> 2\u001b[0m     \u001b[38;5;28mprint\u001b[39m(\u001b[43my\u001b[49m)\n",
      "\u001b[0;31mNameError\u001b[0m: name 'y' is not defined"
     ]
    }
   ],
   "source": [
    "def f():\n",
    "    print(y)\n",
    "f()\n",
    "y=\"i love python\""
   ]
  },
  {
   "cell_type": "code",
   "execution_count": 8,
   "id": "f0c7a869-2085-4351-a601-1ae5454f90d2",
   "metadata": {},
   "outputs": [
    {
     "name": "stdout",
     "output_type": "stream",
     "text": [
      "sunny\n"
     ]
    }
   ],
   "source": [
    "def test():\n",
    "    myname=\"sunny\"\n",
    "    print(myname)\n",
    "test()"
   ]
  },
  {
   "cell_type": "code",
   "execution_count": 2,
   "id": "5d0379fa-fbc6-46ae-bd12-25d5941d402c",
   "metadata": {},
   "outputs": [
    {
     "name": "stdout",
     "output_type": "stream",
     "text": [
      "sunny\n"
     ]
    }
   ],
   "source": [
    "def test():\n",
    "    myname=\"sunny\"#local variale \n",
    "    print(myname)\n",
    "test()\n",
    "print(myname)"
   ]
  },
  {
   "cell_type": "code",
   "execution_count": null,
   "id": "522542bb-627f-4a5e-88f0-5777eb8fda73",
   "metadata": {},
   "outputs": [],
   "source": [
    "# local variable: it is a variable which we are defining in the function and the scope will be in the function only\n",
    "# global variable: global variable is a variable which we are defining outside of the funciton and the scope will be global"
   ]
  },
  {
   "cell_type": "code",
   "execution_count": 3,
   "id": "bc3e2702-213a-4e76-8d55-063eed1cda4d",
   "metadata": {},
   "outputs": [
    {
     "name": "stdout",
     "output_type": "stream",
     "text": [
      "i love java\n",
      "i love python\n"
     ]
    }
   ],
   "source": [
    "a=\"i love python\"\n",
    "def f():\n",
    "    a=\"i love java\"\n",
    "    print(a)\n",
    "f()\n",
    "print(a)"
   ]
  },
  {
   "cell_type": "code",
   "execution_count": 4,
   "id": "2f215bba-3fb5-4453-b1c3-48615a9924c1",
   "metadata": {},
   "outputs": [
    {
     "name": "stdout",
     "output_type": "stream",
     "text": [
      "i love java\n",
      "i love java\n"
     ]
    }
   ],
   "source": [
    "def f():\n",
    "    global a\n",
    "    a=\"i love java\"\n",
    "    print(a)\n",
    "f()\n",
    "print(a)"
   ]
  },
  {
   "cell_type": "code",
   "execution_count": 13,
   "id": "5107dfe5-15d6-40ce-af1b-61d1517d4e22",
   "metadata": {},
   "outputs": [
    {
     "name": "stdout",
     "output_type": "stream",
     "text": [
      "i love javascript\n",
      "i love javascript\n"
     ]
    }
   ],
   "source": [
    "a=\"i love python\"\n",
    "def f():\n",
    "    global a\n",
    "    a=\"i love javascript\"\n",
    "    print(a)\n",
    "f()\n",
    "print(a)"
   ]
  },
  {
   "cell_type": "code",
   "execution_count": 15,
   "id": "1b6f481a-ac41-446f-a01d-3186385e4fc1",
   "metadata": {},
   "outputs": [
    {
     "name": "stdout",
     "output_type": "stream",
     "text": [
      "i love python\n",
      "i love python\n",
      "i love javascript\n",
      "i love c\n"
     ]
    }
   ],
   "source": [
    "a=\"i love python\"\n",
    "def f():\n",
    "    global b\n",
    "    global c\n",
    "    b=\"i love javascript\"\n",
    "    c=\"i love c\"\n",
    "    print(a)\n",
    "f()\n",
    "print(a)\n",
    "print(b)\n",
    "print(c)"
   ]
  },
  {
   "cell_type": "code",
   "execution_count": 16,
   "id": "ffb0c27f-a21f-47aa-9b9b-c8a683ae53ae",
   "metadata": {},
   "outputs": [
    {
     "name": "stdout",
     "output_type": "stream",
     "text": [
      "my name is sunny and i am from bhopal\n",
      "my name is sunny and i am from bhopal\n"
     ]
    }
   ],
   "source": [
    "myvariable=\"i love python\"\n",
    "def f():\n",
    "    global myvariable\n",
    "    myvariable=\"my name is sunny and i am from bhopal\"\n",
    "    print(myvariable)\n",
    "f()\n",
    "print(myvariable)"
   ]
  },
  {
   "cell_type": "code",
   "execution_count": 23,
   "id": "e743e54e-a849-4106-a7f4-b18c5601809c",
   "metadata": {},
   "outputs": [
    {
     "name": "stdout",
     "output_type": "stream",
     "text": [
      "i love coding\n",
      "i love coding\n"
     ]
    }
   ],
   "source": [
    "s=\"i am good in programming\"\n",
    "def code():\n",
    "    #global s\n",
    "    #print(s)\n",
    "    s=\"i love coding\"\n",
    "    print(s)\n",
    "code()\n",
    "print(s)"
   ]
  },
  {
   "cell_type": "code",
   "execution_count": 24,
   "id": "f8d89d5a-2f1f-439f-b5eb-7b91675d3436",
   "metadata": {},
   "outputs": [
    {
     "ename": "NameError",
     "evalue": "name 'mystring' is not defined",
     "output_type": "error",
     "traceback": [
      "\u001b[0;31m---------------------------------------------------------------------------\u001b[0m",
      "\u001b[0;31mNameError\u001b[0m                                 Traceback (most recent call last)",
      "Cell \u001b[0;32mIn [24], line 1\u001b[0m\n\u001b[0;32m----> 1\u001b[0m \u001b[38;5;28mprint\u001b[39m(\u001b[43mmystring\u001b[49m)\n\u001b[1;32m      2\u001b[0m mystring\u001b[38;5;241m=\u001b[39m\u001b[38;5;124m\"\u001b[39m\u001b[38;5;124msunnysavita\u001b[39m\u001b[38;5;124m\"\u001b[39m\n",
      "\u001b[0;31mNameError\u001b[0m: name 'mystring' is not defined"
     ]
    }
   ],
   "source": [
    "print(mystring)\n",
    "mystring=\"sunnysavita\""
   ]
  },
  {
   "cell_type": "code",
   "execution_count": 5,
   "id": "f5e28be5-ddb3-46a4-adda-8a7f7e8bd9ef",
   "metadata": {},
   "outputs": [
    {
     "name": "stdout",
     "output_type": "stream",
     "text": [
      "42 17 4 17\n",
      "42 15 3 4\n"
     ]
    }
   ],
   "source": [
    "# it is homework\n",
    "def foo(x, y):\n",
    "    global a\n",
    "    a = 42\n",
    "    x,y = y,x\n",
    "    b = 33\n",
    "    b = 17\n",
    "    c = 100\n",
    "    print(a,b,x,y)\n",
    "\n",
    "a, b, x, y = 1, 15, 3,4 \n",
    "foo(17, 4)\n",
    "print(a, b, x, y)\n"
   ]
  },
  {
   "cell_type": "code",
   "execution_count": 25,
   "id": "bf5edb37-9edd-44f2-b464-97189fbde81b",
   "metadata": {},
   "outputs": [],
   "source": [
    "def add(a,b):\n",
    "    return a+b"
   ]
  },
  {
   "cell_type": "code",
   "execution_count": 26,
   "id": "09ae30eb-69b4-435e-9f19-9458be30cd92",
   "metadata": {},
   "outputs": [
    {
     "data": {
      "text/plain": [
       "25"
      ]
     },
     "execution_count": 26,
     "metadata": {},
     "output_type": "execute_result"
    }
   ],
   "source": [
    "add(10,15)"
   ]
  },
  {
   "cell_type": "code",
   "execution_count": 28,
   "id": "afb399aa-54cb-43d5-81fc-f4d283e818e3",
   "metadata": {},
   "outputs": [
    {
     "name": "stdout",
     "output_type": "stream",
     "text": [
      "5\n"
     ]
    }
   ],
   "source": [
    "# lambda function\n",
    "print((lambda a,b:a+b)(2,3))"
   ]
  },
  {
   "cell_type": "code",
   "execution_count": 29,
   "id": "558feef8-3dbf-435d-9680-7a4ff408c7c4",
   "metadata": {},
   "outputs": [],
   "source": [
    "mylambdafunciton=lambda a,b:a+b"
   ]
  },
  {
   "cell_type": "code",
   "execution_count": 31,
   "id": "30504fb3-116a-45c9-860b-4d42439e2d8f",
   "metadata": {},
   "outputs": [
    {
     "data": {
      "text/plain": [
       "25"
      ]
     },
     "execution_count": 31,
     "metadata": {},
     "output_type": "execute_result"
    }
   ],
   "source": [
    "mylambdafunciton(10,15)"
   ]
  },
  {
   "cell_type": "code",
   "execution_count": 32,
   "id": "6a7006d6-1296-44cc-a5f6-798ae9b06ac4",
   "metadata": {},
   "outputs": [
    {
     "data": {
      "text/plain": [
       "function"
      ]
     },
     "execution_count": 32,
     "metadata": {},
     "output_type": "execute_result"
    }
   ],
   "source": [
    "type(mylambdafunciton)"
   ]
  },
  {
   "cell_type": "code",
   "execution_count": 33,
   "id": "a14f493b-517a-4587-9876-a8d56dfcf6fb",
   "metadata": {},
   "outputs": [
    {
     "name": "stdout",
     "output_type": "stream",
     "text": [
      "<function <lambda> at 0x7f97c494e560>\n"
     ]
    }
   ],
   "source": [
    "print(mylambdafunciton)"
   ]
  },
  {
   "cell_type": "markdown",
   "id": "914a6206-da74-4a5a-ac79-d13df932b7ac",
   "metadata": {},
   "source": [
    "# wap to take two value from user and find a squre of these values and use lambda funciton for this operation."
   ]
  },
  {
   "cell_type": "code",
   "execution_count": 39,
   "id": "5fb76b60-8c3f-4d25-bfd0-6013ce0aecab",
   "metadata": {},
   "outputs": [
    {
     "name": "stdin",
     "output_type": "stream",
     "text": [
      "enter first number 10\n",
      "enter second number 20\n"
     ]
    },
    {
     "name": "stdout",
     "output_type": "stream",
     "text": [
      "(100, 400)\n"
     ]
    }
   ],
   "source": [
    "a=int(input(\"enter first number\"))\n",
    "b=int(input(\"enter second number\"))\n",
    "squre=lambda a,b:(a**2,b**2)\n",
    "print(squre(a,b))"
   ]
  },
  {
   "cell_type": "markdown",
   "id": "3078de47-ca33-415f-8b6b-194e9fd692e1",
   "metadata": {},
   "source": [
    "# Write a lambda function that returns the first character of the string passed to it as argument\n"
   ]
  },
  {
   "cell_type": "code",
   "execution_count": 45,
   "id": "ef85e916-53a6-4e3a-9358-c8525ac2af91",
   "metadata": {},
   "outputs": [
    {
     "name": "stdin",
     "output_type": "stream",
     "text": [
      "enter the name pooja\n"
     ]
    },
    {
     "name": "stdout",
     "output_type": "stream",
     "text": [
      "pooja\n",
      "p\n"
     ]
    }
   ],
   "source": [
    "mystring=input(\"enter the name\")\n",
    "print(mystring)\n",
    "#string[0]\n",
    "print((lambda string:string[0])(mystring))"
   ]
  },
  {
   "cell_type": "code",
   "execution_count": 42,
   "id": "a333bf4f-8a2a-4a56-a243-2552eb150450",
   "metadata": {},
   "outputs": [],
   "source": [
    "#print(lambda string:string[0](mystring))"
   ]
  },
  {
   "cell_type": "code",
   "execution_count": 48,
   "id": "ecfaba1c-2713-4230-8ea6-ac31bd7d0cd9",
   "metadata": {},
   "outputs": [
    {
     "name": "stdin",
     "output_type": "stream",
     "text": [
      "enter the name pooja\n"
     ]
    },
    {
     "name": "stdout",
     "output_type": "stream",
     "text": [
      "a\n"
     ]
    }
   ],
   "source": [
    "mystring=input(\"enter the name\")\n",
    "string=lambda string:string[len(string)-1]\n",
    "print(string(mystring))"
   ]
  },
  {
   "cell_type": "markdown",
   "id": "6483c2c2-70c9-4539-bb56-aa59f36775c8",
   "metadata": {},
   "source": [
    "# Write a lambda function that returns True or False depending on whether the number passed to it as argument is even or odd \n"
   ]
  },
  {
   "cell_type": "code",
   "execution_count": 49,
   "id": "2d287e64-b7c3-4f3a-9f53-d5fa4bbbff21",
   "metadata": {},
   "outputs": [],
   "source": [
    "def evenorodd(n):\n",
    "    if n%2==0:\n",
    "        print(\"number is even\")\n",
    "    else:\n",
    "        print(\"number is odd\")"
   ]
  },
  {
   "cell_type": "code",
   "execution_count": 51,
   "id": "595fb969-460a-4920-ba2d-7e9f0ff6968d",
   "metadata": {},
   "outputs": [
    {
     "name": "stdout",
     "output_type": "stream",
     "text": [
      "number is even\n"
     ]
    }
   ],
   "source": [
    "evenorodd(1110)"
   ]
  },
  {
   "cell_type": "code",
   "execution_count": 54,
   "id": "3a361bd2-88dc-47c1-af66-dec32e2a218c",
   "metadata": {},
   "outputs": [],
   "source": [
    "evenorodd=lambda n:n%2!=0"
   ]
  },
  {
   "cell_type": "code",
   "execution_count": 55,
   "id": "eb1b0e34-9044-45b7-9b53-57684f8d69be",
   "metadata": {},
   "outputs": [
    {
     "data": {
      "text/plain": [
       "False"
      ]
     },
     "execution_count": 55,
     "metadata": {},
     "output_type": "execute_result"
    }
   ],
   "source": [
    "evenorodd(4)"
   ]
  },
  {
   "cell_type": "code",
   "execution_count": 56,
   "id": "3107efaf-feff-4644-8274-859ff1f8cdb5",
   "metadata": {},
   "outputs": [],
   "source": [
    "evenorodd=lambda n:\"true\" if n%2==0 else \"false\""
   ]
  },
  {
   "cell_type": "code",
   "execution_count": 58,
   "id": "d983fe8f-51d9-4d92-9de9-3cbc0f46d17a",
   "metadata": {},
   "outputs": [
    {
     "data": {
      "text/plain": [
       "'false'"
      ]
     },
     "execution_count": 58,
     "metadata": {},
     "output_type": "execute_result"
    }
   ],
   "source": [
    "evenorodd(11)"
   ]
  },
  {
   "cell_type": "markdown",
   "id": "05663dd3-f093-45c9-81f4-e7e540d01e8d",
   "metadata": {},
   "source": [
    "# Write a lambda function that accepts 2 arguments and returns the greater amongst them\n"
   ]
  },
  {
   "cell_type": "code",
   "execution_count": 60,
   "id": "d269a311-567d-4f69-91a0-961a87740dff",
   "metadata": {},
   "outputs": [],
   "source": [
    "greatest_num=lambda a,b:a if a>b else b"
   ]
  },
  {
   "cell_type": "code",
   "execution_count": 61,
   "id": "64398fc9-e382-4e1e-8695-5ddb7022d9b7",
   "metadata": {},
   "outputs": [
    {
     "data": {
      "text/plain": [
       "100"
      ]
     },
     "execution_count": 61,
     "metadata": {},
     "output_type": "execute_result"
    }
   ],
   "source": [
    "greatest_num(10,100)"
   ]
  },
  {
   "cell_type": "code",
   "execution_count": null,
   "id": "79876210-ce78-40a4-9d90-090e3f3eea39",
   "metadata": {},
   "outputs": [],
   "source": [
    "map(funct,itrable)\n",
    "\n",
    "itrable=string,list,tuple,set,dict,range"
   ]
  },
  {
   "cell_type": "code",
   "execution_count": 63,
   "id": "a917f776-6b4e-4a13-97f2-754c8a23e3e3",
   "metadata": {},
   "outputs": [
    {
     "name": "stdout",
     "output_type": "stream",
     "text": [
      "1\n",
      "4\n",
      "9\n",
      "16\n",
      "25\n"
     ]
    }
   ],
   "source": [
    "def squre(n):\n",
    "    return n**2\n",
    "mylist=[1,2,3,4,5]\n",
    "for i in mylist:\n",
    "    print(squre(i))"
   ]
  },
  {
   "cell_type": "code",
   "execution_count": null,
   "id": "b01240f8-d7a5-454b-a10a-617e61212e0e",
   "metadata": {},
   "outputs": [],
   "source": [
    "def squre(n):\n",
    "    return n**2\n",
    "mylist=[1,2,3,4,5]\n",
    "list(map(squre,mylist))"
   ]
  },
  {
   "cell_type": "code",
   "execution_count": 66,
   "id": "7927b806-5bff-4a49-85b3-6ac3627763dc",
   "metadata": {},
   "outputs": [
    {
     "data": {
      "text/plain": [
       "[1, 4, 9, 16, 25]"
      ]
     },
     "execution_count": 66,
     "metadata": {},
     "output_type": "execute_result"
    }
   ],
   "source": [
    "list(map(squre,mylist))"
   ]
  },
  {
   "cell_type": "markdown",
   "id": "238c0933-bd0d-4ebd-9db9-7b6c9171b042",
   "metadata": {},
   "source": [
    "# Write a function called inspect( ) that accepts a string as argument and returns the word EVEN if the string is of even length and returns it’s first character if the string is of odd length\n",
    "\n",
    "# Now call this function for first 3 month names\n"
   ]
  },
  {
   "cell_type": "markdown",
   "id": "8e876149-88bd-4006-9736-9048322db89e",
   "metadata": {},
   "source": [
    "# write it with map fuction"
   ]
  },
  {
   "cell_type": "code",
   "execution_count": 68,
   "id": "3857f9b2-6c4e-46fd-9fa4-91bef2fdf318",
   "metadata": {},
   "outputs": [
    {
     "data": {
      "text/plain": [
       "['j', 'EVEN', 'm']"
      ]
     },
     "execution_count": 68,
     "metadata": {},
     "output_type": "execute_result"
    }
   ],
   "source": [
    "def inspect(mystring):\n",
    "    if len(mystring)%2==0:\n",
    "        return \"EVEN\"\n",
    "    else:\n",
    "        return mystring[0]\n",
    "    \n",
    "mylist=[\"january\",\"february\",\"march\"]\n",
    "list(map(inspect,mylist))"
   ]
  },
  {
   "cell_type": "code",
   "execution_count": null,
   "id": "5ade12f7-a0b7-4bc0-8dc2-4daaad2f01e5",
   "metadata": {},
   "outputs": [],
   "source": [
    "map(funct,itrable)"
   ]
  },
  {
   "cell_type": "code",
   "execution_count": null,
   "id": "d9e6a2b0-abf8-4f25-b220-eae747a5a4de",
   "metadata": {},
   "outputs": [],
   "source": [
    "filter(funct,itrable)\n",
    "# it is filter out the values"
   ]
  },
  {
   "cell_type": "code",
   "execution_count": null,
   "id": "357464e4-f46c-4a77-87d2-92fdae4ef4f7",
   "metadata": {},
   "outputs": [],
   "source": [
    "mylist=[1,2,3,4,5,6,7,8,9,10]\n",
    "# i want to filter only even number"
   ]
  },
  {
   "cell_type": "code",
   "execution_count": 73,
   "id": "adcaca5f-f155-4ffd-b016-79c7e6e81f9b",
   "metadata": {},
   "outputs": [
    {
     "name": "stdout",
     "output_type": "stream",
     "text": [
      "2\n",
      "4\n",
      "6\n",
      "8\n",
      "10\n"
     ]
    }
   ],
   "source": [
    "def check_even(n):\n",
    "    return n%2==0\n",
    "mylist=[1,2,3,4,5,6,7,8,9,10]\n",
    "for i in mylist:\n",
    "    if check_even(i):\n",
    "        print(i)\n",
    "    "
   ]
  },
  {
   "cell_type": "code",
   "execution_count": null,
   "id": "6e5d17dc-a97c-4e83-b5eb-a05996ed7618",
   "metadata": {},
   "outputs": [],
   "source": [
    "def check_even(n):\n",
    "    return n%2==0\n",
    "mylist=[1,2,3,4,5,6,7,8,9,10]"
   ]
  },
  {
   "cell_type": "code",
   "execution_count": 76,
   "id": "0c5370a7-f74c-49c2-8716-4548b4cd29cf",
   "metadata": {},
   "outputs": [
    {
     "data": {
      "text/plain": [
       "[False, True, False, True, False, True, False, True, False, True]"
      ]
     },
     "execution_count": 76,
     "metadata": {},
     "output_type": "execute_result"
    }
   ],
   "source": [
    "list(map(check_even,mylist))"
   ]
  },
  {
   "cell_type": "code",
   "execution_count": 75,
   "id": "1550d8eb-3feb-480b-9f96-f6616e8fbe68",
   "metadata": {},
   "outputs": [
    {
     "data": {
      "text/plain": [
       "[2, 4, 6, 8, 10]"
      ]
     },
     "execution_count": 75,
     "metadata": {},
     "output_type": "execute_result"
    }
   ],
   "source": [
    "list(filter(check_even,mylist))"
   ]
  },
  {
   "cell_type": "code",
   "execution_count": null,
   "id": "374d4a91-429e-4390-9413-2e5ef13dc094",
   "metadata": {},
   "outputs": [],
   "source": [
    "# wrire the same logic with lambda\n",
    "def squre(n):\n",
    "    return n**2\n",
    "mylist=[1,2,3,4,5]\n",
    "list(map(squre,mylist))"
   ]
  },
  {
   "cell_type": "code",
   "execution_count": null,
   "id": "2cdd1cc8-25cc-4c5c-a711-e18e7feaedb4",
   "metadata": {},
   "outputs": [],
   "source": [
    "map(funt,iterable)"
   ]
  },
  {
   "cell_type": "code",
   "execution_count": 78,
   "id": "b57810d8-b79d-4364-8d2a-b2307ecc67bb",
   "metadata": {},
   "outputs": [
    {
     "data": {
      "text/plain": [
       "[1, 4, 9, 16, 25, 36, 49, 64, 81, 100]"
      ]
     },
     "execution_count": 78,
     "metadata": {},
     "output_type": "execute_result"
    }
   ],
   "source": [
    "mylist=[1,2,3,4,5,6,7,8,9,10]\n",
    "list(map(lambda n:n**2,mylist))"
   ]
  },
  {
   "cell_type": "markdown",
   "id": "d86e6438-2ae1-43fa-aa57-8fcb0eece2dd",
   "metadata": {},
   "source": [
    "# Write a lambda expression that accepts a string as argument and returns it’s first character\n",
    "\n",
    "# Now use this lambda expression in map( ) function to work on for first 3 month names\n"
   ]
  },
  {
   "cell_type": "code",
   "execution_count": 82,
   "id": "6fbe5e93-0d3b-4e59-a623-3a1aca4b8fdd",
   "metadata": {},
   "outputs": [
    {
     "data": {
      "text/plain": [
       "['ODD', 'ODD', 'ODD', 'EVEN', 'EVEN']"
      ]
     },
     "execution_count": 82,
     "metadata": {},
     "output_type": "execute_result"
    }
   ],
   "source": [
    "list(map(lambda string: \"EVEN\" if len(string)%2==0 else \"ODD\",[\"januray\",\"febuary\",\"march\",\"june\",\"november\"]))"
   ]
  },
  {
   "cell_type": "markdown",
   "id": "0801d454-d962-4d36-8afc-87284ad16904",
   "metadata": {},
   "source": [
    "# Write a lambda expression that accepts a character as argument and returns True if it is a vowel otherwise False\n",
    "\n",
    "# Now ask the user to input his/her name and display only the vowels in the name . In case the name does not contain any vowel display the message No vowels in your name\n"
   ]
  },
  {
   "cell_type": "code",
   "execution_count": 103,
   "id": "6a5bdb33-a02d-4201-8d2a-88d232dfbd8b",
   "metadata": {},
   "outputs": [
    {
     "name": "stdin",
     "output_type": "stream",
     "text": [
      "write your name sunny\n"
     ]
    },
    {
     "name": "stdout",
     "output_type": "stream",
     "text": [
      "there is a vowles in your name ['u']\n"
     ]
    }
   ],
   "source": [
    "mystring=input(\"write your name\")\n",
    "vowles=filter(lambda ch: ch in \"aeiou\",mystring)\n",
    "mylist=list(vowles)\n",
    "if len(mylist)==0:\n",
    "    print(\"there is no vowels in your name\")\n",
    "else:\n",
    "    print(\"there is a vowles in your name\",mylist)"
   ]
  },
  {
   "cell_type": "code",
   "execution_count": 95,
   "id": "c8927807-91c6-45ce-b5a1-4e15fb18d74d",
   "metadata": {},
   "outputs": [
    {
     "data": {
      "text/plain": [
       "['u']"
      ]
     },
     "execution_count": 95,
     "metadata": {},
     "output_type": "execute_result"
    }
   ],
   "source": [
    "list(vowles)"
   ]
  },
  {
   "cell_type": "code",
   "execution_count": 97,
   "id": "75278983-1377-4ee8-8305-fa2d1d3beee5",
   "metadata": {},
   "outputs": [
    {
     "name": "stdout",
     "output_type": "stream",
     "text": [
      "u\n"
     ]
    }
   ],
   "source": [
    "for i in \"sunny\":\n",
    "    if i in \"aeiou\":\n",
    "        print(i)\n",
    "    else:\n",
    "        pass"
   ]
  },
  {
   "cell_type": "code",
   "execution_count": null,
   "id": "56e7422e-2394-4c85-a00a-12ed6ac182d7",
   "metadata": {},
   "outputs": [],
   "source": []
  },
  {
   "cell_type": "code",
   "execution_count": 83,
   "id": "2d11d9ed-4fcd-4ca1-b221-473b2e151e75",
   "metadata": {},
   "outputs": [
    {
     "ename": "TypeError",
     "evalue": "'in <string>' requires string as left operand, not list",
     "output_type": "error",
     "traceback": [
      "\u001b[0;31m---------------------------------------------------------------------------\u001b[0m",
      "\u001b[0;31mTypeError\u001b[0m                                 Traceback (most recent call last)",
      "Cell \u001b[0;32mIn [83], line 2\u001b[0m\n\u001b[1;32m      1\u001b[0m name \u001b[38;5;241m=\u001b[39m \u001b[38;5;28;01mlambda\u001b[39;00m string:string \u001b[38;5;28;01mif\u001b[39;00m [\u001b[38;5;124m\"\u001b[39m\u001b[38;5;124ma\u001b[39m\u001b[38;5;124m\"\u001b[39m,\u001b[38;5;124m\"\u001b[39m\u001b[38;5;124me\u001b[39m\u001b[38;5;124m\"\u001b[39m,\u001b[38;5;124m\"\u001b[39m\u001b[38;5;124mo\u001b[39m\u001b[38;5;124m\"\u001b[39m,\u001b[38;5;124m\"\u001b[39m\u001b[38;5;124mu\u001b[39m\u001b[38;5;124m\"\u001b[39m,\u001b[38;5;124m\"\u001b[39m\u001b[38;5;124mi\u001b[39m\u001b[38;5;124m\"\u001b[39m,\u001b[38;5;124m\"\u001b[39m\u001b[38;5;124mö\u001b[39m\u001b[38;5;124m\"\u001b[39m,\u001b[38;5;124m\"\u001b[39m\u001b[38;5;124mü\u001b[39m\u001b[38;5;124m\"\u001b[39m] \u001b[38;5;129;01min\u001b[39;00m string \u001b[38;5;28;01melse\u001b[39;00m \u001b[38;5;124m\"\u001b[39m\u001b[38;5;124mno wovels\u001b[39m\u001b[38;5;124m\"\u001b[39m\n\u001b[0;32m----> 2\u001b[0m \u001b[43mname\u001b[49m\u001b[43m(\u001b[49m\u001b[38;5;124;43m\"\u001b[39;49m\u001b[38;5;124;43mnese\u001b[39;49m\u001b[38;5;124;43m\"\u001b[39;49m\u001b[43m)\u001b[49m\n",
      "Cell \u001b[0;32mIn [83], line 1\u001b[0m, in \u001b[0;36m<lambda>\u001b[0;34m(string)\u001b[0m\n\u001b[0;32m----> 1\u001b[0m name \u001b[38;5;241m=\u001b[39m \u001b[38;5;28;01mlambda\u001b[39;00m string:string \u001b[38;5;28;01mif\u001b[39;00m \u001b[43m[\u001b[49m\u001b[38;5;124;43m\"\u001b[39;49m\u001b[38;5;124;43ma\u001b[39;49m\u001b[38;5;124;43m\"\u001b[39;49m\u001b[43m,\u001b[49m\u001b[38;5;124;43m\"\u001b[39;49m\u001b[38;5;124;43me\u001b[39;49m\u001b[38;5;124;43m\"\u001b[39;49m\u001b[43m,\u001b[49m\u001b[38;5;124;43m\"\u001b[39;49m\u001b[38;5;124;43mo\u001b[39;49m\u001b[38;5;124;43m\"\u001b[39;49m\u001b[43m,\u001b[49m\u001b[38;5;124;43m\"\u001b[39;49m\u001b[38;5;124;43mu\u001b[39;49m\u001b[38;5;124;43m\"\u001b[39;49m\u001b[43m,\u001b[49m\u001b[38;5;124;43m\"\u001b[39;49m\u001b[38;5;124;43mi\u001b[39;49m\u001b[38;5;124;43m\"\u001b[39;49m\u001b[43m,\u001b[49m\u001b[38;5;124;43m\"\u001b[39;49m\u001b[38;5;124;43mö\u001b[39;49m\u001b[38;5;124;43m\"\u001b[39;49m\u001b[43m,\u001b[49m\u001b[38;5;124;43m\"\u001b[39;49m\u001b[38;5;124;43mü\u001b[39;49m\u001b[38;5;124;43m\"\u001b[39;49m\u001b[43m]\u001b[49m\u001b[43m \u001b[49m\u001b[38;5;129;43;01min\u001b[39;49;00m\u001b[43m \u001b[49m\u001b[43mstring\u001b[49m \u001b[38;5;28;01melse\u001b[39;00m \u001b[38;5;124m\"\u001b[39m\u001b[38;5;124mno wovels\u001b[39m\u001b[38;5;124m\"\u001b[39m\n\u001b[1;32m      2\u001b[0m name(\u001b[38;5;124m\"\u001b[39m\u001b[38;5;124mnese\u001b[39m\u001b[38;5;124m\"\u001b[39m)\n",
      "\u001b[0;31mTypeError\u001b[0m: 'in <string>' requires string as left operand, not list"
     ]
    }
   ],
   "source": [
    "name = lambda string:string if [\"a\",\"e\",\"o\",\"u\",\"i\",\"ö\",\"ü\"] in string else \"no wovels\"\n",
    "name(\"nese\")\n"
   ]
  },
  {
   "cell_type": "code",
   "execution_count": 84,
   "id": "04285d06-5fa8-4796-bf46-ec1e3613b448",
   "metadata": {},
   "outputs": [
    {
     "name": "stdin",
     "output_type": "stream",
     "text": [
      "Enter Name: sachine\n"
     ]
    },
    {
     "data": {
      "text/plain": [
       "['No Vowels', 'a', 'No Vowels', 'No Vowels', 'i', 'No Vowels', 'e']"
      ]
     },
     "execution_count": 84,
     "metadata": {},
     "output_type": "execute_result"
    }
   ],
   "source": [
    "s=input('Enter Name:')\n",
    "list(map(lambda a:a if a in 'AEIOUaeiou' else 'No Vowels',s))\n"
   ]
  },
  {
   "cell_type": "code",
   "execution_count": 87,
   "id": "b8da61f5-550a-4585-9535-dae16dad8889",
   "metadata": {},
   "outputs": [
    {
     "data": {
      "text/plain": [
       "[]"
      ]
     },
     "execution_count": 87,
     "metadata": {},
     "output_type": "execute_result"
    }
   ],
   "source": [
    "valCheck = lambda v : v in 'aeiou' or v in 'AEIOU'\n",
    "list(map(valCheck,['a','e','f','t','y']))\n",
    "def vowCheck(s):\n",
    "    if return s in 'aeiou' or s in 'AEIOU'\n",
    "    else:\n",
    "        print()\n",
    "\n",
    "list(filter(vowCheck,'snny'))\n"
   ]
  },
  {
   "cell_type": "code",
   "execution_count": null,
   "id": "fb66d828-df24-4f22-8eaa-e894a4e63138",
   "metadata": {},
   "outputs": [],
   "source": [
    "map(squre,[1,2,3,4])\n",
    "filter(evenodd,[1,2,3,4,5,6])"
   ]
  },
  {
   "cell_type": "code",
   "execution_count": 105,
   "id": "94d43757-7037-4d6b-9103-16795f68ab46",
   "metadata": {},
   "outputs": [],
   "source": [
    "import time\n",
    "#time.start()\n",
    "#time.stop()\n",
    "count=0\n",
    "def first():\n",
    "    pass\n",
    "def second():\n",
    "    pass"
   ]
  },
  {
   "cell_type": "code",
   "execution_count": 109,
   "id": "a9df5c0e-10aa-4d73-8982-df1faa294977",
   "metadata": {},
   "outputs": [],
   "source": [
    "def test():\n",
    "    for i in [1,2,3,4,5,6,7,8,9,10]:\n",
    "        #print(i)\n",
    "        return i"
   ]
  },
  {
   "cell_type": "code",
   "execution_count": 110,
   "id": "1545648d-5669-4d0e-b318-0d44dc2e6f58",
   "metadata": {},
   "outputs": [
    {
     "data": {
      "text/plain": [
       "1"
      ]
     },
     "execution_count": 110,
     "metadata": {},
     "output_type": "execute_result"
    }
   ],
   "source": [
    "test()"
   ]
  },
  {
   "cell_type": "code",
   "execution_count": null,
   "id": "cee682f2-8df7-49f4-a25f-5cc2909f6065",
   "metadata": {},
   "outputs": [],
   "source": []
  }
 ],
 "metadata": {
  "kernelspec": {
   "display_name": "Python 3 (ipykernel)",
   "language": "python",
   "name": "python3"
  },
  "language_info": {
   "codemirror_mode": {
    "name": "ipython",
    "version": 3
   },
   "file_extension": ".py",
   "mimetype": "text/x-python",
   "name": "python",
   "nbconvert_exporter": "python",
   "pygments_lexer": "ipython3",
   "version": "3.11.5"
  }
 },
 "nbformat": 4,
 "nbformat_minor": 5
}
