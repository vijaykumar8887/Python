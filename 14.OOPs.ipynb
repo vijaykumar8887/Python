{
 "cells": [
  {
   "cell_type": "markdown",
   "id": "f4b9fe3f-3757-4bdd-9a65-a79ea3920676",
   "metadata": {},
   "source": [
    "Write a program to create a class called Circle , having an instance member called radius. Provide following instance methods in your class:\n",
    "__init___() : This method should initialize radius with the parameter passed\n",
    "    \n",
    "cal_area(): This method should calculate and print the radius of the Circle\n",
    "    \n",
    "cal_circumference(): This method should calculate and print the circumference of the Circle\n",
    "    \n",
    "Finally , in the main script , create a Circle object , initialize radius with user input and calculate\n",
    "and display it’s area and circumference\n"
   ]
  },
  {
   "cell_type": "code",
   "execution_count": 16,
   "id": "66ba1173-90f8-4298-b628-489d4b6066c2",
   "metadata": {},
   "outputs": [],
   "source": [
    "import math\n",
    "class circle:\n",
    "    def __init__(self,r):\n",
    "        self.radius=r\n",
    "        print(self.radius)\n",
    "    def cal_area(self):\n",
    "        self.area=math.pi*(self.radius**2)\n",
    "    def cal_circumference(self):\n",
    "        self.cir=2*math.pi*self.radius\n",
    "    def display(self):\n",
    "        print(f\"area {self.area}\")\n",
    "        print(f\"cir {self.cir}\")"
   ]
  },
  {
   "cell_type": "code",
   "execution_count": 17,
   "id": "5aecc549-013a-402d-ae2c-cafbe4ace813",
   "metadata": {},
   "outputs": [
    {
     "name": "stdin",
     "output_type": "stream",
     "text": [
      "enter radius 100\n"
     ]
    },
    {
     "name": "stdout",
     "output_type": "stream",
     "text": [
      "100\n"
     ]
    }
   ],
   "source": [
    "r=int(input(\"enter radius\"))\n",
    "obj=circle(r)"
   ]
  },
  {
   "cell_type": "code",
   "execution_count": 18,
   "id": "8a77fe69-21a3-46aa-b02e-d888ee68eba6",
   "metadata": {},
   "outputs": [],
   "source": [
    "obj.cal_area()"
   ]
  },
  {
   "cell_type": "code",
   "execution_count": 19,
   "id": "1f9cd395-6dbb-4857-9887-94378792e7e6",
   "metadata": {},
   "outputs": [],
   "source": [
    "obj.cal_circumference()"
   ]
  },
  {
   "cell_type": "code",
   "execution_count": 20,
   "id": "2d0b80fc-9e25-4fed-bdde-566651967a84",
   "metadata": {},
   "outputs": [
    {
     "name": "stdout",
     "output_type": "stream",
     "text": [
      "area 31415.926535897932\n",
      "cir 628.3185307179587\n"
     ]
    }
   ],
   "source": [
    "obj.display()"
   ]
  },
  {
   "cell_type": "code",
   "execution_count": 25,
   "id": "18382ba9-5bfc-4202-94f7-b51b5fb2b8a7",
   "metadata": {},
   "outputs": [],
   "source": [
    "import math\n",
    "class circle:\n",
    "    \n",
    "    def __init__(self,a):\n",
    "        #instance variable\n",
    "        self.x=a#local variable\n",
    "        print(self.x)\n",
    "        \n",
    "    def CalcArea(self):\n",
    "      (self.x**2)*math.pi\n",
    "    def calcCircum(self):\n",
    "        2*math.pi*self.x\n"
   ]
  },
  {
   "cell_type": "code",
   "execution_count": 27,
   "id": "bcaeb2c3-18cf-429f-9ea2-aabe87139e80",
   "metadata": {},
   "outputs": [
    {
     "name": "stdout",
     "output_type": "stream",
     "text": [
      "10000\n"
     ]
    }
   ],
   "source": [
    "obj1=circle(10000)"
   ]
  },
  {
   "cell_type": "code",
   "execution_count": 28,
   "id": "a371668b-adba-4d54-b776-ec912a56df00",
   "metadata": {},
   "outputs": [],
   "source": [
    "class CompStudent: \n",
    "    stream = 'cse' #class variable                 \n",
    "    def __init__(self,name,roll): \n",
    "        self.name = name            \n",
    "        self.roll = roll            \n",
    "\n"
   ]
  },
  {
   "cell_type": "code",
   "execution_count": 29,
   "id": "8520d7b7-6f4c-4500-b8ff-ccaad9b70bd9",
   "metadata": {},
   "outputs": [],
   "source": [
    "obj1 = CompStudent('Atul',1) "
   ]
  },
  {
   "cell_type": "code",
   "execution_count": 30,
   "id": "ba3b3c8e-2415-48ab-bfa9-e933d4d1f168",
   "metadata": {},
   "outputs": [],
   "source": [
    "obj2 = CompStudent('Chetan', 2) "
   ]
  },
  {
   "cell_type": "code",
   "execution_count": 31,
   "id": "efb62a80-ae22-400f-82d5-0b91635125c2",
   "metadata": {},
   "outputs": [
    {
     "name": "stdout",
     "output_type": "stream",
     "text": [
      "Atul\n"
     ]
    }
   ],
   "source": [
    "print(obj1.name) "
   ]
  },
  {
   "cell_type": "code",
   "execution_count": 32,
   "id": "cf14ee35-d6d2-4e2e-9e13-3d219a8d8c33",
   "metadata": {},
   "outputs": [
    {
     "name": "stdout",
     "output_type": "stream",
     "text": [
      "1\n"
     ]
    }
   ],
   "source": [
    "print(obj1.roll)"
   ]
  },
  {
   "cell_type": "code",
   "execution_count": 33,
   "id": "757e1625-4ef5-4abf-a171-f82094bd078d",
   "metadata": {},
   "outputs": [
    {
     "name": "stdout",
     "output_type": "stream",
     "text": [
      "cse\n"
     ]
    }
   ],
   "source": [
    "print(obj1.stream)"
   ]
  },
  {
   "cell_type": "code",
   "execution_count": 34,
   "id": "1b2a4c3c-403a-4359-991d-38961a8d503c",
   "metadata": {},
   "outputs": [
    {
     "name": "stdout",
     "output_type": "stream",
     "text": [
      "Chetan\n"
     ]
    }
   ],
   "source": [
    "print(obj2.name)  "
   ]
  },
  {
   "cell_type": "code",
   "execution_count": 35,
   "id": "87a55785-691e-430d-8aae-d771be7405d3",
   "metadata": {},
   "outputs": [
    {
     "name": "stdout",
     "output_type": "stream",
     "text": [
      "2\n"
     ]
    }
   ],
   "source": [
    " print(obj2.roll)"
   ]
  },
  {
   "cell_type": "code",
   "execution_count": 36,
   "id": "bc20b485-24d4-4cc5-88ae-44a712bb00a0",
   "metadata": {},
   "outputs": [
    {
     "name": "stdout",
     "output_type": "stream",
     "text": [
      "cse\n"
     ]
    }
   ],
   "source": [
    "print(obj2.stream)   "
   ]
  },
  {
   "cell_type": "code",
   "execution_count": 37,
   "id": "4e7b7d9b-509f-4d5b-a04c-08ce2af2215a",
   "metadata": {},
   "outputs": [
    {
     "name": "stdout",
     "output_type": "stream",
     "text": [
      "cse\n"
     ]
    }
   ],
   "source": [
    "print(CompStudent.stream)"
   ]
  },
  {
   "cell_type": "code",
   "execution_count": 40,
   "id": "eb43fce2-c88b-4c67-a626-8e93df2d0158",
   "metadata": {},
   "outputs": [],
   "source": [
    "class circle():\n",
    "    pi=3.14\n",
    "    def __init__(self,r):\n",
    "        self.rad=r\n",
    "    def cal_area(self):\n",
    "        return pi*self.rad**2\n",
    "    def cal_circumference(self):\n",
    "        return 2*pi*self.rad\n"
   ]
  },
  {
   "cell_type": "code",
   "execution_count": 41,
   "id": "fe521c65-4ce4-4fee-bd6f-90bf57e3d153",
   "metadata": {},
   "outputs": [
    {
     "ename": "NameError",
     "evalue": "name 'pi' is not defined",
     "output_type": "error",
     "traceback": [
      "\u001b[0;31m---------------------------------------------------------------------------\u001b[0m",
      "\u001b[0;31mNameError\u001b[0m                                 Traceback (most recent call last)",
      "Cell \u001b[0;32mIn [41], line 2\u001b[0m\n\u001b[1;32m      1\u001b[0m rad\u001b[38;5;241m=\u001b[39mcircle(\u001b[38;5;241m10\u001b[39m)\n\u001b[0;32m----> 2\u001b[0m \u001b[38;5;28mprint\u001b[39m(\u001b[43mrad\u001b[49m\u001b[38;5;241;43m.\u001b[39;49m\u001b[43mcal_area\u001b[49m\u001b[43m(\u001b[49m\u001b[43m)\u001b[49m)\n\u001b[1;32m      3\u001b[0m \u001b[38;5;28mprint\u001b[39m(rad\u001b[38;5;241m.\u001b[39mcal_circumference())\n",
      "Cell \u001b[0;32mIn [40], line 6\u001b[0m, in \u001b[0;36mcircle.cal_area\u001b[0;34m(self)\u001b[0m\n\u001b[1;32m      5\u001b[0m \u001b[38;5;28;01mdef\u001b[39;00m \u001b[38;5;21mcal_area\u001b[39m(\u001b[38;5;28mself\u001b[39m):\n\u001b[0;32m----> 6\u001b[0m     \u001b[38;5;28;01mreturn\u001b[39;00m \u001b[43mpi\u001b[49m\u001b[38;5;241m*\u001b[39m\u001b[38;5;28mself\u001b[39m\u001b[38;5;241m.\u001b[39mrad\u001b[38;5;241m*\u001b[39m\u001b[38;5;241m*\u001b[39m\u001b[38;5;241m2\u001b[39m\n",
      "\u001b[0;31mNameError\u001b[0m: name 'pi' is not defined"
     ]
    }
   ],
   "source": [
    "rad=circle(10)\n",
    "print(rad.cal_area())\n",
    "print(rad.cal_circumference())\n"
   ]
  },
  {
   "cell_type": "code",
   "execution_count": null,
   "id": "3c1242b3-5179-4f6a-b5d1-30d6a2ad6ac0",
   "metadata": {},
   "outputs": [],
   "source": [
    "class method\n",
    "static method"
   ]
  },
  {
   "cell_type": "code",
   "execution_count": 46,
   "id": "0380ab11-3de7-41c5-ad0b-68c979832dbd",
   "metadata": {},
   "outputs": [],
   "source": [
    "import math\n",
    "class circle:\n",
    "    def __init__(self,r):\n",
    "        self.radius=r\n",
    "        print(self.radius)\n",
    "    def cal_area(self):\n",
    "        self.area=math.pi*(self.radius**2)\n",
    "    def cal_circumference(self):\n",
    "        self.cir=2*math.pi*self.radius\n",
    "    def display(self):\n",
    "        print(f\"area {self.area}\")\n",
    "        print(f\"cir {self.cir}\")\n",
    "    def show(self):\n",
    "        print(id(self))\n",
    "        print(\"sunny savita\")"
   ]
  },
  {
   "cell_type": "code",
   "execution_count": 47,
   "id": "4d9d405e-6d62-4671-a1aa-c67283730205",
   "metadata": {},
   "outputs": [
    {
     "name": "stdout",
     "output_type": "stream",
     "text": [
      "10\n"
     ]
    }
   ],
   "source": [
    "obj=circle(10)"
   ]
  },
  {
   "cell_type": "code",
   "execution_count": 48,
   "id": "317bba6d-3c6d-4a95-b8a3-ac56986f7780",
   "metadata": {},
   "outputs": [
    {
     "name": "stdout",
     "output_type": "stream",
     "text": [
      "139665292034784\n",
      "sunny savita\n"
     ]
    }
   ],
   "source": [
    "obj.show()"
   ]
  },
  {
   "cell_type": "code",
   "execution_count": 49,
   "id": "faca7853-b153-46af-a078-cdcc2c608599",
   "metadata": {},
   "outputs": [
    {
     "name": "stdout",
     "output_type": "stream",
     "text": [
      "139665292034784\n"
     ]
    }
   ],
   "source": [
    "print(id(obj))"
   ]
  },
  {
   "cell_type": "markdown",
   "id": "0fd51b76-49bf-4869-a64e-af06126a5f69",
   "metadata": {},
   "source": [
    "Write a program to create a class called Emp , having an instance members called name , age and sal . Also declare a class variable called raise_amount to store the increment percentage of sal and set it the value given by the user\n",
    "\n",
    "Now provide following methods in your class\n",
    "__init___() : This method should initialize instance members  with the parameter passed\n",
    "\n",
    "increase_sal(): This method should calculate the increment in sal and add it to the instance member sal\n",
    "\n",
    "display(): This method should display name , age and sal of the employee\n",
    "\n",
    "Finally , in the main script , create 2 Emp objects , initialize them and increase their salary . Finally display the data\n"
   ]
  },
  {
   "cell_type": "code",
   "execution_count": 50,
   "id": "95fb376d-436f-48e7-a667-64c7f9691138",
   "metadata": {},
   "outputs": [
    {
     "name": "stdout",
     "output_type": "stream",
     "text": [
      "Name : satish\n",
      "Age : 30\n",
      "salary :  200\n",
      "Name : satish\n",
      "Age : 30\n",
      "salary :  250.0\n"
     ]
    }
   ],
   "source": [
    "class emp:\n",
    "    raise_amount = 25\n",
    "    def __init__(self,n,a,s):\n",
    "        self.name =n\n",
    "        self.age =a\n",
    "        self.sal=s\n",
    "    def increase_sal(self):\n",
    "        self.sal =  self.sal + (self.sal *(emp.raise_amount/100))\n",
    "        \n",
    "    def display(self):\n",
    "        print( \"Name :\",self.name)\n",
    "        print( \"Age :\",self.age)\n",
    "        print(\"salary : \",self.sal)\n",
    "        \n",
    "e1 =   emp(\"satish\",30,200)\n",
    "\n",
    "e1.display()\n",
    "\n",
    "e1.increase_sal()\n",
    "\n",
    "e1.display()\n"
   ]
  },
  {
   "cell_type": "code",
   "execution_count": 51,
   "id": "3b9dce8e-4a40-471d-aae5-9cb70637ce94",
   "metadata": {},
   "outputs": [
    {
     "name": "stdin",
     "output_type": "stream",
     "text": [
      "Enter Raise Percentage:  25\n"
     ]
    }
   ],
   "source": [
    "class Employee:\n",
    "    raise_amount = int(input(\"Enter Raise Percentage: \"))\n",
    "    def __init__(self,name,age,sal):\n",
    "        self.Name = name\n",
    "        self.Age = age\n",
    "        self.Sal = sal\n",
    "    def increase_sal(self):\n",
    "        self.Sal = self.Sal+(self.Sal*(self.raise_amount/100))\n",
    "    def display(self):\n",
    "        print(f\"Employee Name: {self.Name} | Employee Age: {self.Age} | Emloyee Salary: {self.Sal}\")\n"
   ]
  },
  {
   "cell_type": "code",
   "execution_count": 52,
   "id": "1fda99cc-d4e9-4a8f-b959-57bdf53a0dc1",
   "metadata": {},
   "outputs": [],
   "source": [
    "obj = Employee(\"Ajay\",23,10000)\n"
   ]
  },
  {
   "cell_type": "code",
   "execution_count": 53,
   "id": "0b940d73-fd4e-472d-bb1b-cc8fcc868b73",
   "metadata": {},
   "outputs": [],
   "source": [
    "obj.increase_sal()"
   ]
  },
  {
   "cell_type": "code",
   "execution_count": 54,
   "id": "6bc3bb40-4a53-4a8a-b3ad-1f3c9acd58ac",
   "metadata": {},
   "outputs": [
    {
     "name": "stdout",
     "output_type": "stream",
     "text": [
      "Employee Name: Ajay | Employee Age: 23 | Emloyee Salary: 12500.0\n"
     ]
    }
   ],
   "source": [
    "obj.display()"
   ]
  },
  {
   "cell_type": "code",
   "execution_count": 63,
   "id": "323d5a17-deb7-427f-94fa-99df23e66622",
   "metadata": {},
   "outputs": [],
   "source": [
    "class emp:\n",
    "    raise_amout=0\n",
    "    \n",
    "    @classmethod\n",
    "    def set_raise_amt(cls):\n",
    "        cls.raise_amout=float(input(\"write a percent which you want to increase\"))\n",
    "    \n",
    "    \n",
    "    \n",
    "    def __init__(self,name,age,sal):\n",
    "        self.name=name\n",
    "        self.age=age\n",
    "        self.sal=sal\n",
    "    def increase_sal(self):\n",
    "        self.sal=self.sal+(self.sal*emp.raise_amout/100)\n",
    "    def display(self):\n",
    "        print(self.sal,self.name,self.age)"
   ]
  },
  {
   "cell_type": "code",
   "execution_count": 64,
   "id": "470eba43-7083-42ba-9c31-9eab8c9c346a",
   "metadata": {},
   "outputs": [],
   "source": [
    "kush=emp(\"kush\",25,50000)"
   ]
  },
  {
   "cell_type": "code",
   "execution_count": 65,
   "id": "153f6035-82ed-44e8-869c-9a971d62a9f6",
   "metadata": {},
   "outputs": [
    {
     "name": "stdout",
     "output_type": "stream",
     "text": [
      "50000 kush 25\n"
     ]
    }
   ],
   "source": [
    "kush.display()"
   ]
  },
  {
   "cell_type": "code",
   "execution_count": 69,
   "id": "d2806f9f-b91e-4977-b207-fdd09eb08b6d",
   "metadata": {},
   "outputs": [],
   "source": [
    "kush.increase_sal()"
   ]
  },
  {
   "cell_type": "code",
   "execution_count": 70,
   "id": "8e31a460-2497-4d0c-9211-809e0be9278c",
   "metadata": {},
   "outputs": [
    {
     "name": "stdout",
     "output_type": "stream",
     "text": [
      "75000.0 kush 25\n"
     ]
    }
   ],
   "source": [
    "kush.display()"
   ]
  },
  {
   "cell_type": "code",
   "execution_count": 68,
   "id": "13fe13fe-d0d8-46f3-9de3-0285a1035c74",
   "metadata": {},
   "outputs": [
    {
     "name": "stdin",
     "output_type": "stream",
     "text": [
      "write a percent which you want to increase 50\n"
     ]
    }
   ],
   "source": [
    "emp.set_raise_amt()"
   ]
  },
  {
   "cell_type": "code",
   "execution_count": 71,
   "id": "2d0d2b54-6774-43cc-9fcb-21022c221e1e",
   "metadata": {},
   "outputs": [],
   "source": [
    "sunny=emp(\"sunny\",26,10000)"
   ]
  },
  {
   "cell_type": "code",
   "execution_count": 72,
   "id": "79e53816-f035-4657-9b4e-3ad236b02309",
   "metadata": {},
   "outputs": [
    {
     "name": "stdout",
     "output_type": "stream",
     "text": [
      "10000 sunny 26\n"
     ]
    }
   ],
   "source": [
    "sunny.display()"
   ]
  },
  {
   "cell_type": "code",
   "execution_count": 73,
   "id": "6ee265ec-ebd4-4556-85bf-573a3032d84a",
   "metadata": {},
   "outputs": [
    {
     "name": "stdin",
     "output_type": "stream",
     "text": [
      "write a percent which you want to increase 25\n"
     ]
    }
   ],
   "source": [
    "emp.set_raise_amt()"
   ]
  },
  {
   "cell_type": "code",
   "execution_count": 74,
   "id": "7f41e829-9b5a-4890-89e5-d285e2c40986",
   "metadata": {},
   "outputs": [],
   "source": [
    "sunny.increase_sal()"
   ]
  },
  {
   "cell_type": "code",
   "execution_count": 75,
   "id": "44579e88-6041-42e7-8f3d-4229c8bab461",
   "metadata": {},
   "outputs": [
    {
     "name": "stdout",
     "output_type": "stream",
     "text": [
      "12500.0 sunny 26\n"
     ]
    }
   ],
   "source": [
    "sunny.display()"
   ]
  },
  {
   "cell_type": "code",
   "execution_count": 80,
   "id": "7a100807-c07c-4d09-8d9f-be41dc13b5f4",
   "metadata": {},
   "outputs": [
    {
     "name": "stdin",
     "output_type": "stream",
     "text": [
      "write a percent which you want to increase 100\n"
     ]
    }
   ],
   "source": [
    "emp.set_raise_amt()"
   ]
  },
  {
   "cell_type": "code",
   "execution_count": 82,
   "id": "02347bb0-7fde-4d6e-bbae-a9977eb39f31",
   "metadata": {},
   "outputs": [],
   "source": [
    "sunny.increase_sal()"
   ]
  },
  {
   "cell_type": "code",
   "execution_count": 83,
   "id": "f3061fd7-bde5-41c9-b063-9b568d4e64b9",
   "metadata": {},
   "outputs": [
    {
     "name": "stdout",
     "output_type": "stream",
     "text": [
      "25000.0 sunny 26\n"
     ]
    }
   ],
   "source": [
    "sunny.display()"
   ]
  },
  {
   "cell_type": "code",
   "execution_count": 76,
   "id": "bfcfe8f8-30ad-4385-8cc2-35a6191c68ca",
   "metadata": {},
   "outputs": [],
   "source": [
    "class math:\n",
    "    @staticmethod\n",
    "    def add_nos(a,b):\n",
    "        c=a+b\n",
    "        return c\n",
    "    @staticmethod\n",
    "    def mul_nos(a,b):\n",
    "        c=a*b\n",
    "        return c"
   ]
  },
  {
   "cell_type": "code",
   "execution_count": 77,
   "id": "713eabfd-5950-46da-bd58-c04bd4e7384b",
   "metadata": {},
   "outputs": [
    {
     "data": {
      "text/plain": [
       "25"
      ]
     },
     "execution_count": 77,
     "metadata": {},
     "output_type": "execute_result"
    }
   ],
   "source": [
    "math.add_nos(10,15)"
   ]
  },
  {
   "cell_type": "code",
   "execution_count": 79,
   "id": "b758ad60-b7fe-443c-bb1c-15921d73c324",
   "metadata": {},
   "outputs": [
    {
     "data": {
      "text/plain": [
       "150"
      ]
     },
     "execution_count": 79,
     "metadata": {},
     "output_type": "execute_result"
    }
   ],
   "source": [
    "math.mul_nos(10,15)"
   ]
  },
  {
   "cell_type": "code",
   "execution_count": 84,
   "id": "e6bfd550-ccfa-4218-b263-17fcdc46debc",
   "metadata": {},
   "outputs": [
    {
     "ename": "TypeError",
     "evalue": "Demo.display() takes 0 positional arguments but 1 was given",
     "output_type": "error",
     "traceback": [
      "\u001b[0;31m---------------------------------------------------------------------------\u001b[0m",
      "\u001b[0;31mTypeError\u001b[0m                                 Traceback (most recent call last)",
      "Cell \u001b[0;32mIn [84], line 6\u001b[0m\n\u001b[1;32m      3\u001b[0m \t\t\u001b[38;5;28mprint\u001b[39m(\u001b[38;5;124m\"\u001b[39m\u001b[38;5;124mInside display\u001b[39m\u001b[38;5;124m\"\u001b[39m)\n\u001b[1;32m      5\u001b[0m d\u001b[38;5;241m=\u001b[39mDemo()\n\u001b[0;32m----> 6\u001b[0m \u001b[43md\u001b[49m\u001b[38;5;241;43m.\u001b[39;49m\u001b[43mdisplay\u001b[49m\u001b[43m(\u001b[49m\u001b[43m)\u001b[49m\n",
      "\u001b[0;31mTypeError\u001b[0m: Demo.display() takes 0 positional arguments but 1 was given"
     ]
    }
   ],
   "source": [
    "class Demo:\n",
    "\tdef display():\n",
    "\t\tprint(\"Inside display\")\n",
    "\t\n",
    "d=Demo()\n",
    "d.display()"
   ]
  },
  {
   "cell_type": "code",
   "execution_count": 85,
   "id": "91b15013-79ef-45de-9983-fef96d707169",
   "metadata": {},
   "outputs": [
    {
     "name": "stdout",
     "output_type": "stream",
     "text": [
      "Inside display\n"
     ]
    }
   ],
   "source": [
    "class Demo:\n",
    "\tdef display():#internally this method is being treated as a static method\n",
    "\t\tprint(\"Inside display\")\n",
    "\t\n",
    "Demo.display()\n"
   ]
  },
  {
   "cell_type": "code",
   "execution_count": 87,
   "id": "8bb4ab19-b753-4857-9455-668013b1d59a",
   "metadata": {},
   "outputs": [
    {
     "name": "stdout",
     "output_type": "stream",
     "text": [
      "Inside display\n"
     ]
    }
   ],
   "source": [
    "class Demo:\n",
    "\tdef display(self):\n",
    "\t\tprint(\"Inside display\")\n",
    "\t\n",
    "d=Demo()\n",
    "d.display()"
   ]
  },
  {
   "cell_type": "code",
   "execution_count": 86,
   "id": "addc7d4d-1dd5-4267-b8e1-4f32151b27ad",
   "metadata": {},
   "outputs": [
    {
     "ename": "TypeError",
     "evalue": "Demo.display() missing 1 required positional argument: 'self'",
     "output_type": "error",
     "traceback": [
      "\u001b[0;31m---------------------------------------------------------------------------\u001b[0m",
      "\u001b[0;31mTypeError\u001b[0m                                 Traceback (most recent call last)",
      "Cell \u001b[0;32mIn [86], line 5\u001b[0m\n\u001b[1;32m      2\u001b[0m \t\u001b[38;5;28;01mdef\u001b[39;00m \u001b[38;5;21mdisplay\u001b[39m(\u001b[38;5;28mself\u001b[39m):\n\u001b[1;32m      3\u001b[0m \t\t\u001b[38;5;28mprint\u001b[39m(\u001b[38;5;124m\"\u001b[39m\u001b[38;5;124mInside display\u001b[39m\u001b[38;5;124m\"\u001b[39m)\n\u001b[0;32m----> 5\u001b[0m \u001b[43mDemo\u001b[49m\u001b[38;5;241;43m.\u001b[39;49m\u001b[43mdisplay\u001b[49m\u001b[43m(\u001b[49m\u001b[43m)\u001b[49m\n",
      "\u001b[0;31mTypeError\u001b[0m: Demo.display() missing 1 required positional argument: 'self'"
     ]
    }
   ],
   "source": [
    "class Demo:\n",
    "\tdef display(self):\n",
    "\t\tprint(\"Inside display\")\n",
    "\t\n",
    "Demo.display()\n"
   ]
  },
  {
   "cell_type": "code",
   "execution_count": 89,
   "id": "36852daa-4fce-45b9-af94-6b07e1b4dded",
   "metadata": {},
   "outputs": [
    {
     "name": "stdout",
     "output_type": "stream",
     "text": [
      "Inside display\n"
     ]
    }
   ],
   "source": [
    "class Demo:\n",
    "\tdef display(self):\n",
    "\t\tprint(\"Inside display\")\n",
    "\t\n",
    "Demo.display(\"Hello\")\n"
   ]
  },
  {
   "cell_type": "code",
   "execution_count": null,
   "id": "03d0d6ee-8a08-44fb-84ad-59ac0513b642",
   "metadata": {},
   "outputs": [],
   "source": [
    "Instance Methods: The most common method type. Able to access data and properties unique to each instance(object).\n",
    "\n",
    "Static Methods(utility method): Cannot access anything else in the class. Totally self-contained code.\n",
    "\n",
    "Class Methods: Can access limited methods in the class. Can modify class specific details.\n"
   ]
  },
  {
   "cell_type": "code",
   "execution_count": null,
   "id": "19d96b2d-746b-4b74-b92e-e956f52e19c0",
   "metadata": {},
   "outputs": [],
   "source": [
    "encapsulation\n",
    "inheritance\n",
    "ploymorphism\n",
    "\n",
    "exception handling\n",
    "mysql and mongodb\n",
    "\n",
    "logging file hadling itrator and genrator"
   ]
  }
 ],
 "metadata": {
  "kernelspec": {
   "display_name": "Python 3 (ipykernel)",
   "language": "python",
   "name": "python3"
  },
  "language_info": {
   "codemirror_mode": {
    "name": "ipython",
    "version": 3
   },
   "file_extension": ".py",
   "mimetype": "text/x-python",
   "name": "python",
   "nbconvert_exporter": "python",
   "pygments_lexer": "ipython3",
   "version": "3.11.3"
  }
 },
 "nbformat": 4,
 "nbformat_minor": 5
}
